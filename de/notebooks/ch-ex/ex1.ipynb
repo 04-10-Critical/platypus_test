{
  "cells": [
    {
      "cell_type": "markdown",
      "metadata": {
        "colab_type": "text",
        "id": "ccfRql22_IBL",
        "tags": [
          "remove_cell"
        ]
      },
      "source": [
        "Unter Verwendung des NOT-Gatters (ausgedrückt als `x` in Qiskit), des CNOT-Gatters (ausgedrückt als `cx` in Qiskit) und des Toffoli-Gatters (ausgedrückt als `ccx` in Qiskit) erstellen Sie Funktionen zum Implementieren der XOR-, AND-, NAND- und OR-Gatter.\n",
        "\n",
        "An implementation of the NOT gate is provided as an example."
      ]
    },
    {
      "cell_type": "code",
      "execution_count": 2,
      "metadata": {
        "id": "gl_6ene4Q6dBY"
      },
      "outputs": [

      ],
      "source": [
        "from qiskit import *\n",
        "from qiskit.tools.visualization import plot_histogram\n",
        "import numpy as np"
      ]
    },
    {
      "cell_type": "markdown",
      "metadata": {
        "colab_type": "text",
        "id": "ccfRql22_IBL"
      },
      "source": [
        "Using the NOT gate (expressed as `x` in Qiskit), the CNOT gate (expressed as `cx` in Qiskit) and the Toffoli gate (expressed as `ccx` in Qiskit) create functions to implement the XOR, AND, NAND and OR gates.\n",
        "\n",
        "An implementation of the NOT gate is provided as an example."
      ]
    },
    {
      "cell_type": "markdown",
      "metadata": {
        "colab_type": "text",
        "id": "OKCkpBD0_c6L"
      },
      "source": [
        "Diese Funktion nimmt eine binäre Zeichenfolgeneingabe ( `'0'` oder `'1'` ) und gibt die entgegengesetzte binäre Ausgabe' zurück."
      ]
    },
    {
      "cell_type": "markdown",
      "metadata": {
        "colab_type": "text",
        "id": "OKCkpBD0_c6L"
      },
      "source": [
        "This function takes a binary string input (`'0'` or `'1'`) and returns the opposite binary output'."
      ]
    },
    {
      "cell_type": "code",
      "execution_count": 2,
      "metadata": {
        "colab": {
        },
        "colab_type": "code",
        "id": "6JPMpemG_RMb"
      },
      "outputs": [

      ],
      "source": [
        "def NOT(input):\n",
        "\n",
        "    q = QuantumRegister(1) # a qubit in which to encode and manipulate the input\n",
        "    c = ClassicalRegister(1) # a bit to store the output\n",
        "    qc = QuantumCircuit(q, c) # this is where the quantum program goes\n",
        "    \n",
        "    # We encode '0' as the qubit state |0⟩, and '1' as |1⟩\n",
        "    # Since the qubit is initially |0⟩, we don't need to do anything for an input of '0'\n",
        "    # For an input of '1', we do an x to rotate the |0⟩ to |1⟩\n",
        "    if input=='1':\n",
        "        qc.x( q[0] )\n",
        "        \n",
        "    # Now we've encoded the input, we can do a NOT on it using x\n",
        "    qc.x( q[0] )\n",
        "    \n",
        "    # Finally, we extract the |0⟩/|1⟩ output of the qubit and encode it in the bit c[0]\n",
        "    qc.measure( q[0], c[0] )\n",
        "    \n",
        "    # We'll run the program on a simulator\n",
        "    backend = Aer.get_backend('qasm_simulator')\n",
        "    # Since the output will be deterministic, we can use just a single shot to get it\n",
        "    job = execute(qc,backend,shots=1)\n",
        "    output = next(iter(job.result().get_counts()))\n",
        "    \n",
        "    return output"
      ]
    },
    {
      "cell_type": "markdown",
      "metadata": {
        "colab_type": "text",
        "id": "Gd-9DEAaAarK"
      },
      "source": [
        "Nimmt zwei binäre Strings als Input und gibt einen als Output zurück.\n",
        "\n",
        "Der Ausgang ist `'0'` wenn die Eingänge gleich sind, andernfalls `'1'` ."
      ]
    },
    {
      "cell_type": "markdown",
      "metadata": {
        "colab_type": "text",
        "id": "Gd-9DEAaAarK"
      },
      "source": [
        "Takes two binary strings as input and gives one as output.\n",
        "\n",
        "The output is `'0'` when the inputs are equal and  `'1'` otherwise."
      ]
    },
    {
      "cell_type": "code",
      "execution_count": 3,
      "metadata": {
        "colab": {
        },
        "colab_type": "code",
        "id": "oPVCyyaHAays"
      },
      "outputs": [

      ],
      "source": [
        "def XOR(input1,input2):\n",
        "    \n",
        "    q = QuantumRegister(2) # two qubits in which to encode and manipulate the input\n",
        "    c = ClassicalRegister(1) # a bit to store the output\n",
        "    qc = QuantumCircuit(q, c) # this is where the quantum program goes\n",
        "    \n",
        "    # YOUR QUANTUM PROGRAM GOES HERE    \n",
        "    qc.measure(q[1],c[0]) # YOU CAN CHANGE THIS IF YOU WANT TO\n",
        "    \n",
        "    # We'll run the program on a simulator\n",
        "    backend = Aer.get_backend('qasm_simulator')\n",
        "    # Since the output will be deterministic, we can use just a single shot to get it\n",
        "    job = execute(qc,backend,shots=1,memory=True)\n",
        "    output = job.result().get_memory()[0]\n",
        "    \n",
        "    return output"
      ]
    },
    {
      "cell_type": "markdown",
      "metadata": {
        "colab_type": "text",
        "id": "dPMfIpfYAAT7"
      },
      "source": [
        "Takes two binary strings as input and gives one as output.\n",
        "\n",
        "Der Ausgang ist nur dann `'1'` , wenn beide Eingänge `'1'` sind."
      ]
    },
    {
      "cell_type": "markdown",
      "metadata": {
        "colab_type": "text",
        "id": "dPMfIpfYAAT7"
      },
      "source": [
        "Takes two binary strings as input and gives one as output.\n",
        "\n",
        "The output is `'1'` only when both the inputs are `'1'`."
      ]
    },
    {
      "cell_type": "code",
      "execution_count": 4,
      "metadata": {
        "colab": {
        },
        "colab_type": "code",
        "id": "HdYfpnslAAeJ"
      },
      "outputs": [

      ],
      "source": [
        "def AND(input1,input2):\n",
        "    \n",
        "    q = QuantumRegister(3) # two qubits in which to encode the input, and one for the output\n",
        "    c = ClassicalRegister(1) # a bit to store the output\n",
        "    qc = QuantumCircuit(q, c) # this is where the quantum program goes\n",
        "    \n",
        "    # YOUR QUANTUM PROGRAM GOES HERE\n",
        "    qc.measure(q[2],c[0]) # YOU CAN CHANGE THIS IF YOU WANT TO\n",
        "    \n",
        "    # We'll run the program on a simulator\n",
        "    backend = Aer.get_backend('qasm_simulator')\n",
        "    # Since the output will be deterministic, we can use just a single shot to get it\n",
        "    job = execute(qc,backend,shots=1,memory=True)\n",
        "    output = job.result().get_memory()[0]\n",
        "    \n",
        "    return output"
      ]
    },
    {
      "cell_type": "markdown",
      "metadata": {
        "colab_type": "text",
        "id": "OXfchiSyAAoo"
      },
      "source": [
        "Nimmt zwei binäre Strings als Input und gibt einen als Output zurück.\n",
        "\n",
        "The output is `'0'` only when both the inputs are `'1'`."
      ]
    },
    {
      "cell_type": "markdown",
      "metadata": {
        "colab_type": "text",
        "id": "OXfchiSyAAoo"
      },
      "source": [
        "Takes two binary strings as input and gives one as output.\n",
        "\n",
        "The output is `'0'` only when both the inputs are `'1'`."
      ]
    },
    {
      "cell_type": "code",
      "execution_count": 5,
      "metadata": {
        "colab": {
        },
        "colab_type": "code",
        "id": "nJhmG115AAwv"
      },
      "outputs": [

      ],
      "source": [
        "def NAND(input1,input2):\n",
        "  \n",
        "    q = QuantumRegister(3) # two qubits in which to encode the input, and one for the output\n",
        "    c = ClassicalRegister(1) # a bit to store the output\n",
        "    qc = QuantumCircuit(q, c) # this is where the quantum program goes\n",
        "    \n",
        "    # YOUR QUANTUM PROGRAM GOES HERE\n",
        "    qc.measure(q[2],c[0]) # YOU CAN CHANGE THIS IF YOU WANT TO\n",
        "    \n",
        "    # We'll run the program on a simulator\n",
        "    backend = Aer.get_backend('qasm_simulator')\n",
        "    # Since the output will be deterministic, we can use just a single shot to get it\n",
        "    job = execute(qc,backend,shots=1,memory=True)\n",
        "    output = job.result().get_memory()[0]\n",
        "    \n",
        "    return output"
      ]
    },
    {
      "cell_type": "markdown",
      "metadata": {
        "colab_type": "text",
        "id": "n1KswU_jABFA"
      },
      "source": [
        "Nimmt zwei binäre Strings als Input und gibt einen als Output zurück.\n",
        "\n",
        "The output is `'1'` if either input is `'1'`."
      ]
    },
    {
      "cell_type": "markdown",
      "metadata": {
        "colab_type": "text",
        "id": "n1KswU_jABFA"
      },
      "source": [
        "Takes two binary strings as input and gives one as output.\n",
        "\n",
        "The output is `'1'` if either input is `'1'`."
      ]
    },
    {
      "cell_type": "code",
      "execution_count": 6,
      "metadata": {
        "colab": {
        },
        "colab_type": "code",
        "id": "_gofB196ABMj"
      },
      "outputs": [

      ],
      "source": [
        "def OR(input1,input2):\n",
        "  \n",
        "    q = QuantumRegister(3) # two qubits in which to encode the input, and one for the output\n",
        "    c = ClassicalRegister(1) # a bit to store the output\n",
        "    qc = QuantumCircuit(q, c) # this is where the quantum program goes\n",
        "    \n",
        "    # YOUR QUANTUM PROGRAM GOES HERE\n",
        "    qc.measure(q[2],c[0]) # YOU CAN CHANGE THIS IF YOU WANT TO\n",
        "    \n",
        "    # We'll run the program on a simulator\n",
        "    backend = Aer.get_backend('qasm_simulator')\n",
        "    # Since the output will be deterministic, we can use just a single shot to get it\n",
        "    job = execute(qc,backend,shots=1,memory=True)\n",
        "    output = job.result().get_memory()[0]\n",
        "    \n",
        "    return output"
      ]
    },
    {
      "cell_type": "markdown",
      "metadata": {
        "colab_type": "text",
        "id": "flbXaXrY_pNz"
      },
      "source": [
        "Der folgende Code führt die obigen Funktionen für alle möglichen Eingaben aus, damit Sie überprüfen können, ob sie funktionieren."
      ]
    },
    {
      "cell_type": "markdown",
      "metadata": {
        "colab_type": "text",
        "id": "flbXaXrY_pNz"
      },
      "source": [
        "The following code runs the functions above for all possible inputs, so that you can check whether they work."
      ]
    },
    {
      "cell_type": "code",
      "execution_count": 7,
      "metadata": {
        "colab": {
        },
        "colab_type": "code",
        "id": "S9hyGAZ9_VQc"
      },
      "outputs": [
        {
          "name": "stdout",
          "output_type": "stream",
          "text": [
            "\n",
            "Results for the NOT gate\n",
            "    Input 0 gives output 1\n",
            "    Input 1 gives output 0\n",
            "\n",
            "Results for the XOR gate\n",
            "    Inputs 0 0 give output 0\n",
            "    Inputs 0 1 give output 0\n",
            "    Inputs 1 0 give output 0\n",
            "    Inputs 1 1 give output 0\n",
            "\n",
            "Results for the AND gate\n",
            "    Inputs 0 0 give output 0\n",
            "    Inputs 0 1 give output 0\n",
            "    Inputs 1 0 give output 0\n",
            "    Inputs 1 1 give output 0\n",
            "\n",
            "Results for the NAND gate\n",
            "    Inputs 0 0 give output 0\n",
            "    Inputs 0 1 give output 0\n",
            "    Inputs 1 0 give output 0\n",
            "    Inputs 1 1 give output 0\n",
            "\n",
            "Results for the OR gate\n",
            "    Inputs 0 0 give output 0\n",
            "    Inputs 0 1 give output 0\n",
            "    Inputs 1 0 give output 0\n",
            "    Inputs 1 1 give output 0\n"
          ]
        }
      ],
      "source": [
        "print('\\nResults for the NOT gate')\n",
        "for input in ['0','1']:\n",
        "    print('    Input',input,'gives output',NOT(input))\n",
        "    \n",
        "print('\\nResults for the XOR gate')\n",
        "for input1 in ['0','1']:\n",
        "    for input2 in ['0','1']:\n",
        "        print('    Inputs',input1,input2,'give output',XOR(input1,input2))\n",
        "\n",
        "print('\\nResults for the AND gate')\n",
        "for input1 in ['0','1']:\n",
        "    for input2 in ['0','1']:\n",
        "        print('    Inputs',input1,input2,'give output',AND(input1,input2))\n",
        "\n",
        "print('\\nResults for the NAND gate')\n",
        "for input1 in ['0','1']:\n",
        "    for input2 in ['0','1']:\n",
        "        print('    Inputs',input1,input2,'give output',NAND(input1,input2))\n",
        "\n",
        "print('\\nResults for the OR gate')\n",
        "for input1 in ['0','1']:\n",
        "    for input2 in ['0','1']:\n",
        "        print('    Inputs',input1,input2,'give output',OR(input1,input2))"
      ]
    },
    {
      "cell_type": "code",
      "execution_count": 8,
      "metadata": {
        "id": "gl_7GEl4xdxKA"
      },
      "outputs": [
        {
          "data": {
            "text/plain": [
              "{'qiskit-terra': '0.14.2',\n",
              " 'qiskit-aer': '0.5.2',\n",
              " 'qiskit-ignis': '0.3.3',\n",
              " 'qiskit-ibmq-provider': '0.7.2',\n",
              " 'qiskit-aqua': '0.7.3',\n",
              " 'qiskit': '0.19.6'}"
            ]
          },
          "execution_count": 8,
          "metadata": {
          },
          "output_type": "execute_result"
        }
      ],
      "source": [
        "import qiskit\n",
        "qiskit.__qiskit_version__"
      ]
    },
    {
      "cell_type": "code",
      "execution_count": null,
      "metadata": {
        "id": "gl_w4YfIUJ5M8"
      },
      "outputs": [

      ],
      "source": [

      ]
    }
  ],
  "metadata": {
    "kernelspec": {
      "display_name": "Python 3",
      "language": "python",
      "name": "python3"
    },
    "language_info": {
      "codemirror_mode": {
        "name": "ipython",
        "version": 3
      },
      "file_extension": ".py",
      "mimetype": "text/x-python",
      "name": "python",
      "nbconvert_exporter": "python",
      "pygments_lexer": "ipython3",
      "version": "3.9"
    }
  },
  "nbformat": 4,
  "nbformat_minor": 1
}
