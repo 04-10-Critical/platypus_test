{
  "cells": [
    {
      "cell_type": "markdown",
      "metadata": {
        "tags": [
          "remove_cell"
        ]
      },
      "source": [
        "# Einführung"
      ]
    },
    {
      "cell_type": "markdown",
      "metadata": {
      },
      "source": [
        "Wir haben einige interessante Effekte mit einzelnen Qubits und einzelnen Qubit-Gattern gesehen, aber die wahre Leistungsfähigkeit des Quantencomputings wird durch die Wechselwirkungen zwischen Qubits realisiert. In diesem Abschnitt stellen wir mehrere Qubit-Gatter vor und untersuchen das interessante Verhalten von Multi-Qubit-Systemen.\n",
        "\n",
        "Typischerweise wirken die Gatter, die direkt in Hardware implementiert werden können, nur auf ein oder zwei Qubits. In unseren Schaltungen möchten wir möglicherweise komplexe Gatter verwenden, die auf eine große Anzahl von Qubits wirken. Glücklicherweise wird dies kein Problem sein. Mit den ein und zwei Qubit-Gattern, die uns von der Hardware gegeben werden, ist es möglich, jedes andere Gatter zu bauen.\n",
        "\n",
        "In diesem Kapitel stellen wir zunächst die grundlegendsten Multi-Qubit-Gatter sowie die zu ihrer Beschreibung und Analyse verwendete Mathematik vor. Dann zeigen wir, wie man beweist, dass diese Gatter verwendet werden können, um jeden möglichen Quantenalgorithmus zu erstellen. Das Kapitel schließt dann mit einem Blick auf Anwendungen von Quantengattern im kleinen Maßstab. Zum Beispiel sehen wir, wie man Drei-Qubit-Gatter wie das Toffoli aus Einzel- und Zwei-Qubit-Operationen baut.\n",
        "\n",
        "![Ein Toffoli aus Single- und Two-Qubit-Gates](images/basic3.png)\n",
        "\n",
        "*Dies ist ein Toffoli mit jeweils 3 Qubits (q0,q1,q2). In diesem Schaltungsbeispiel ist q0 mit q2 verbunden, aber q0 ist nicht mit q1 verbunden.*"
      ]
    },
    {
      "cell_type": "code",
      "execution_count": null,
      "metadata": {
      },
      "outputs": [

      ],
      "source": [

      ]
    }
  ],
  "metadata": {
    "kernelspec": {
      "display_name": "Python 3",
      "language": "python",
      "name": "python3"
    },
    "language_info": {
      "codemirror_mode": {
        "name": "ipython",
        "version": 3
      },
      "file_extension": ".py",
      "mimetype": "text/x-python",
      "name": "python",
      "nbconvert_exporter": "python",
      "pygments_lexer": "ipython3",
      "version": "3.9"
    }
  },
  "nbformat": 4,
  "nbformat_minor": 2
}
