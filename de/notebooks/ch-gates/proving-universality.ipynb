{
  "cells": [
    {
      "cell_type": "markdown",
      "metadata": {
        "tags": [
          "remove_cell"
        ]
      },
      "source": [
        "# Universalität beweisen"
      ]
    },
    {
      "cell_type": "markdown",
      "metadata": {
      },
      "source": [
        "## Inhalt\n",
        "\n",
        "1. [Einführung](#intro)\n",
        "2. [Spaß mit Matrizen](#fun)\n",
        "     2.1 [Matrizen als äußere Produkte](#outer)\n",
        "     2.2 [Unitäre und hermitesche Matrizen](#u-and-h)\n",
        "     2.3 [Pauli-Zerlegung](#pauli)\n",
        "3. [Universalität definieren](#defining)\n",
        "4. [Basis-Gate-Sets](#basic)\n",
        "     4.1 [Clifford Gates](#big-red)\n",
        "     4.2 [Nicht-Clifford Gates](#non-clifford)\n",
        "     4.3 [Erweiterung des Gate-Sets](#expanding)\n",
        "5. [Universalität beweisen](#proving)\n",
        "6. [Universelle Sätze von Quantentoren](#gate-sets)"
      ]
    },
    {
      "cell_type": "markdown",
      "metadata": {
      },
      "source": [
        "## 1. Einleitung<a id=\"intro\"></a>\n",
        "\n",
        "Was kann ein bestimmter Computer? Was sind die Grenzen dessen, was im Allgemeinen als berechenbar gilt? Dies waren Fragen, mit denen sich Alan Turing befasste, bevor wir überhaupt eine gute Vorstellung davon hatten, was ein Computer ist oder wie man einen baut.\n",
        "\n",
        "Um diese Frage bei unseren klassischen Computern und speziell bei unseren Standard-Digitalcomputern zu stellen, müssen wir alle Bildschirme, Lautsprecher und ausgefallenen Eingabegeräte entfernen. Was uns bleibt, ist einfach eine Maschine, die Eingangsbitfolgen in Ausgangsbitfolgen umwandelt. Wenn ein Gerät eine solche Konvertierung durchführen kann, indem es einen beliebigen Satz von Eingaben nimmt und sie in einen willkürlich ausgewählten Satz entsprechender Ausgaben umwandelt, nennen wir es *universell* .\n",
        "\n",
        "Quantencomputer nehmen in ähnlicher Weise Eingangszustände und wandeln sie in Ausgangszustände um. Wir werden daher Universalität in ähnlicher Weise definieren können. Um genauer zu sein und um beweisen zu können, wann Universalität erreicht werden kann und wann nicht, ist es nützlich, die Matrixdarstellung unserer Quantengatter zu verwenden. Aber zuerst müssen wir ein paar Techniken auffrischen."
      ]
    },
    {
      "cell_type": "markdown",
      "metadata": {
      },
      "source": [
        "## 2. Spaß mit Matrizen<a id=\"fun\"></a>\n",
        "\n",
        "### 2.1 Matrizen als äußere Produkte<a id=\"outer\"></a>\n",
        "\n",
        "In den vorherigen Abschnitten haben wir viele innere Produkte berechnet, wie zum Beispiel $\\langle0|0\\rangle =1$. Diese kombinieren einen BH und ein Ket, um uns eine einzige Nummer zu geben. Wir können sie auch so kombinieren, dass wir eine Matrix erhalten, indem wir sie einfach in umgekehrter Reihenfolge anordnen. Dies wird als äußeres Produkt bezeichnet und funktioniert durch Standard-Matrixmultiplikation. Zum Beispiel\n",
        "\n",
        "$$ |0\\rangle\\langle0|= \\begin{pmatrix} 1 \\ 0 \\end{pmatrix} \\begin{pmatrix} 1 &amp; 0 \\end{pmatrix} = \\begin{pmatrix} 1&amp;0 \\ 0&amp;0 \\end{pmatrix} ,\\ |0\\rangle\\langle1| = \\begin{pmatrix} 1 \\ 0 \\end{pmatrix} \\begin{pmatrix} 0 &amp; 1 \\end{pmatrix} = \\begin{pmatrix} 0&amp;1 \\ 0&amp;0 \\end{pmatrix},\\ |1\\rangle\\langle0| = \\begin{pmatrix} 0 \\ 1 \\end{pmatrix} \\begin{pmatrix} 1 &amp; 0 \\end{pmatrix} = \\begin{pmatrix} 0&amp;0 \\ 1&amp;0 \\end{pmatrix},\\ |1\\rangle\\langle1| = \\begin{pmatrix} 0 \\ 1 \\end{pmatrix} \\begin{pmatrix} 0 &amp; 1 \\end{pmatrix} = \\begin{pmatrix} 0&amp;0 \\ 0&amp;1 \\end{pmatrix}.\\ $$\n",
        "\n",
        "Das bedeutet auch, dass wir jede Matrix rein als äußere Produkte schreiben können. In den obigen Beispielen haben wir die vier Matrizen konstruiert, die jedes der einzelnen Elemente in einer Single-Qubit-Matrix abdecken, sodass wir jede andere Single-Qubit-Matrix in Bezug auf sie schreiben können.\n",
        "\n",
        "$$ M= \\begin{pmatrix} m_{0,0}&amp; m_{0,1} \\ m_{1,0}&amp;m_{1,1} \\end{pmatrix} = m_{0,0} |0\\ range\\langle0|+ m_{0,1} |0\\rangle\\langle1|+ m_{1,0} |1\\rangle\\langle0|+ m_{1,1} |1\\rangle\\langle1| $$\n",
        "\n",
        "Diese Eigenschaft erstreckt sich auch auf Matrizen für eine beliebige Anzahl von Qubits, $n$. Wir verwenden einfach die äußeren Produkte der entsprechenden $n$-Bit-Strings.\n",
        "\n",
        "### 2.2 Unitäre und hermitesche Matrizen<a id=\"u-and-h\"></a>\n",
        "\n",
        "Die hermitesche Konjugierte $M^\\dagger$ einer Matrix $M$ ist die Kombination der Transponierten (ersetze das untere linke Element durch das obere rechte usw.) und die komplexe Konjugierte jedes Elements. Zwei Familien von Matrizen, die für das Quantencomputing sehr wichtig sind, werden durch ihre Beziehung zum hermiteschen Konjugat definiert. Eine ist die Familie der unitären Matrizen, für die\n",
        "\n",
        "$$ UU^\\dolch = U^\\dolch U = 1. $$\n",
        "\n",
        "Das bedeutet, dass die Hermitesche Konjugation einer Einheit ihr Gegenteil ist: eine weitere Einheit $U^\\dagger$ mit der Macht, die Wirkung von $U$ rückgängig zu machen. Alle Gatter im Quantencomputing, mit Ausnahme von Mess- und Rücksetzoperationen, können durch unitäre Matrizen dargestellt werden.\n",
        "\n",
        "Eine weitere Folge der Einheitlichkeit ist, dass sie das innere Produkt zwischen zwei willkürlichen Zuständen bewahrt. Nehmen wir insbesondere zwei Zustände $\\left| \\psi_0 \\right\\rangle$ und $\\left| \\psi_1 \\right\\rangle$. Das innere Produkt davon ist $\\left\\langle \\psi_0 | \\psi_1 \\right\\rangle$. Wenden wir auf beide dasselbe unitäre $U$ an, ist das Skalarprodukt der resultierenden Zustände genau gleich,\n",
        "\n",
        "$$ \\left( \\left\\langle \\psi_0 \\right| U^\\dolch \\right) \\left( U \\left| \\psi_1 \\right\\rangle \\right) = \\left\\langle \\psi_0 |U^\\dolch U | \\psi_1 \\right\\rangle = \\left\\langle \\psi_0 | \\psi_1 \\right\\rangle. $$\n",
        "\n",
        "Diese Eigenschaft bietet uns eine nützliche Art, über diese Tore nachzudenken. Das bedeutet, dass für jede Menge von Zuständen $ { \\left| \\psi_j \\right\\rangle } $ die eine orthonormale Basis für unser System liefern, die Menge der Zustände $ { \\left| \\phi_j \\right\\rangle = U \\left| \\psi_j \\right\\rangle } $ wird auch eine orthonormale Basis sein. Das Einheitliche kann dann als Rotation zwischen diesen Basen betrachtet werden und kann entsprechend geschrieben werden als\n",
        "\n",
        "$$ U = \\sum_j \\links| \\phi_j \\right\\rangle \\left\\langle \\psi_j \\right|. $$\n",
        "\n",
        "Dies ist im Wesentlichen die Quantenversion der „Wahrheitstabellen“, die die Wirkung klassischer Boolescher Gatter beschreiben.\n",
        "\n",
        "Die andere wichtige Familie von Matrizen sind die hermitischen Matrizen. Dies sind diejenigen, die von der hermitischen Konjugation nicht betroffen sind\n",
        "\n",
        "$$ H = H^\\dolch. $$\n",
        "\n",
        "Die Matrizen $X$, $Y$, $Z$ und $H$ sind Beispiele für Hermitesche Matrizen, die Sie bereits gesehen haben (zufälligerweise sind sie alle unitär, da sie ihre eigenen Inversen sind).\n",
        "\n",
        "Alle unitären Matrizen und Hermiteschen Matrizen haben die Eigenschaft, diagonalisierbar zu sein. Das bedeutet, dass sie in das Formular geschrieben werden können\n",
        "\n",
        "$$ M = \\sum_j \\lambda_j |h_j\\rangle\\langle h_j|, $$\n",
        "\n",
        "wobei $\\lambda_j$ die Eigenwerte der Matrix und $|h_j\\rangle$ die entsprechenden Eigenzustände sind.\n",
        "\n",
        "Für Unitare bedeutet die Anwendung der Bedingung $UU^\\dagger=1$ in dieser diagonalen Form, dass $\\lambda_j \\lambda_j^* = 1$. Die Eigenwerte sind daher immer komplexe Zahlen der Größe 1 und können so für einen reellen Wert $h_j$ $e^{ih_j}$ ausgedrückt werden. Für hermitesche Matrizen impliziert die Bedingung $H = H^\\dagger$ $\\lambda_j = \\lambda_j^*$, also dass alle Eigenwerte reell sind.\n",
        "\n",
        "Diese beiden Arten von Matrizen unterscheiden sich daher nur darin, dass die eine reelle Zahlen als Eigenwerte haben muss und die andere komplexe Exponentiale von reellen Zahlen. Das bedeutet, dass wir für jede Einheit eine entsprechende hermitesche Matrix definieren können. Dazu verwenden wir einfach dieselben Eigenzustände wieder und verwenden die $h_j$ von jedem $e^{ih_j}$ als entsprechenden Eigenwert.\n",
        "\n",
        "In ähnlicher Weise existiert für jede hermitische Matrix eine Einheit. Wir verwenden einfach dieselben Eigenzustände wieder und potenzieren $h_j$, um die Eigenwerte $e^{ih_j}$ zu erzeugen. Dies kann ausgedrückt werden als\n",
        "\n",
        "$$ U = e^{iH} $$\n",
        "\n",
        "Hier haben wir die Standarddefinition zum Potenzieren einer Matrix verwendet, die genau die Eigenschaften hat, die wir benötigen: Erhaltung der Eigenzustände und Potenzierung der Eigenwerte.\n",
        "\n",
        "### 2.3 Pauli-Zerlegung<a id=\"pauli\"></a>\n",
        "\n",
        "Wie wir oben gesehen haben, ist es möglich, Matrizen vollständig in Bezug auf äußere Produkte zu schreiben.\n",
        "\n",
        "$$ M= \\begin{pmatrix} m_{0,0}&amp;m_{0,1} \\ m_{1,0}&amp;m_{1,1} \\end{pmatrix} = m_{0,0} |0\\rangle \\langle0|+ m_{0,1} |0\\rangle\\langle1|+ m_{1,0} |1\\rangle\\langle0|+ m_{1,1} |1\\rangle\\langle1| $$\n",
        "\n",
        "Nun werden wir sehen, dass es auch möglich ist, sie vollständig in Form von Pauli-Operatoren zu schreiben. Dafür ist das Wichtigste zu beachten\n",
        "\n",
        "$$ \\frac{1+Z}{2} = \\frac{1}{2} \\left[ \\begin{pmatrix} 1&amp;0 \\0&amp;1 \\end{pmatrix}+\\begin{pmatrix} 1&amp;0 \\0&amp;-1 \\end {pmatrix}\\right] = |0\\rangle\\langle0|,\\\\frac{1-Z}{2} = \\frac{1}{2}\\left[ \\begin{pmatrix} 1&amp;0 \\0&amp;1 \\end{pmatrix }-\\begin{pmatrix} 1&amp;0 \\0&amp;-1 \\end{pmatrix}\\right] = |1\\rangle\\langle1| $$\n",
        "\n",
        "Dies zeigt, dass $|0\\rangle\\langle0|$ und $|1\\rangle\\langle1|$ mit der Identitätsmatrix und $Z$ ausgedrückt werden können. Mit der Eigenschaft $X|0\\rangle = |1\\rangle$ können wir nun auch produzieren\n",
        "\n",
        "$$ |0\\rangle\\langle1| = |0\\rangle\\langle0|X = \\frac{1}{2}(1+Z)~X = \\frac{X+iY}{2},\\\\ |1\\rangle\\langle0| = X|0\\rangle\\langle0| = X~\\frac{1}{2}(1+Z) = \\frac{X-iY}{2}. $$\n",
        "\n",
        "Da wir alle äußeren Produkte haben, können wir dies nun verwenden, um die Matrix in Form von Pauli-Matrizen zu schreiben:\n",
        "\n",
        "$$ M = \\frac{m_{0,0}+m_{1,1}}{2}~1~+~\\frac{m_{0,1}+m_{1,0}}{2}~ X~+~i\\frac{m_{0,1}-m_{1,0}}{2}~Y~+~\\frac{m_{0,0}-m_{1,1}}{2} ~Z. $$\n",
        "\n",
        "Dieses Beispiel galt für eine allgemeine Einzel-Qubit-Matrix, aber das entsprechende Ergebnis gilt auch für Matrizen für eine beliebige Anzahl von Qubits. Wir gehen einfach von der Beobachtung aus, dass\n",
        "\n",
        "$$ \\left(\\frac{1+Z}{2}\\right)\\otimes\\left(\\frac{1+Z}{2}\\right)\\otimes\\ldots\\otimes\\left(\\frac{1+ Z}{2}\\right) = |00\\ldots0\\rangle\\langle00\\ldots0|, $$\n",
        "\n",
        "und kann dann auf die gleiche Weise wie oben fortfahren. Am Ende kann gezeigt werden, dass jede Matrix durch Tensorprodukte von Pauli-Matrizen ausgedrückt werden kann:\n",
        "\n",
        "$$ M = \\sum_{P_{n-1},\\ldots,P_0 \\in {1,X,Y,Z}} C_{P_{n-1}\\ldots,P_0}~~P_{n-1 } \\otimes P_{n-2}\\otimes\\ldots\\otimes P_0. $$\n",
        "\n",
        "Beachten Sie bei hermiteschen Matrizen, dass die Koeffizienten $C_{P_{n-1}\\ldots,P_0}$ hier alle reell sind."
      ]
    },
    {
      "cell_type": "markdown",
      "metadata": {
      },
      "source": [
        "## 3. Universalität definieren<a id=\"defining\"></a>\n",
        "\n",
        "So wie jedes Quantengatter durch eine Einheit repräsentiert werden kann, können wir auch eine vollständige Quantenberechnung durch eine (sehr große) Einheitsoperation beschreiben. Der Effekt davon besteht darin, den Eingangszustand in den Ausgangszustand zu drehen.\n",
        "\n",
        "Ein möglicher Spezialfall dabei ist, dass die Eingangs- und Ausgangszustände in Quantenform ausgedrückte Bitfolgen beschreiben. Die Abbildung jeder Eingabe $x$ auf ihre Ausgabe $f(x)$ könnte durch eine (umkehrbare) klassische Berechnung beschrieben werden. Jede solche Berechnung könnte daher als Einheit ausgedrückt werden.\n",
        "\n",
        "$$ U = \\sum_j \\links| f(x) \\right\\rangle \\left\\langle x \\right|. $$\n",
        "\n",
        "Wenn wir jede mögliche Einheitlichkeit realisieren könnten, würde dies bedeuten, dass wir eine Universalität im Sinne von Standard-Digitalcomputern erreichen könnten.\n",
        "\n",
        "Ein weiterer Sonderfall ist, dass die Eingangs- und Ausgangszustände ein physikalisches System beschreiben könnten, und die Berechnung, die wir durchführen, darin besteht, die Dynamik dieses Systems zu simulieren. Dies ist ein wichtiges Problem, das für klassische Computer unpraktisch ist, aber eine natürliche Anwendung von Quantencomputern ist. Die zeitliche Entwicklung des Systems entspricht in diesem Fall der Einheitlichkeit, die wir anwenden, und die zugehörige hermitische Matrix ist die Hamilton-Funktion des Systems. Das Erreichen einer Einheitlichkeit würde daher der Simulation einer beliebigen Zeitentwicklung und der Konstruktion der Auswirkungen eines beliebigen Hamilton-Operators entsprechen.\n",
        "\n",
        "Durch die Kombination dieser Erkenntnisse können wir definieren, was es für Quantencomputer bedeutet, universell zu sein. Es ist einfach die Fähigkeit, jede gewünschte Einheit auf einer beliebigen Anzahl von Qubits zu erreichen. Wenn wir das haben, wissen wir, dass wir alles reproduzieren können, was ein digitaler Computer kann, jedes Quantensystem simulieren und alles andere tun können, was für einen Quantencomputer möglich ist."
      ]
    },
    {
      "cell_type": "markdown",
      "metadata": {
      },
      "source": [
        "## 4. Basis-Gate-Sets<a id=\"basic\"></a>\n",
        "\n",
        "Ob wir aus einem Satz grundlegender Gatter eine Einheit bauen können oder nicht, hängt stark davon ab, zu welchen grundlegenden Gattern wir Zugang haben. Für jede mögliche Realisierung von fehlertolerantem Quantencomputing gibt es eine Reihe von Quantenoperationen, die am einfachsten zu realisieren sind. Häufig bestehen diese aus Ein- und Zwei-Qubit-Gattern, von denen die meisten der Menge der sogenannten *Clifford-Gatter* entsprechen. Dies ist eine sehr wichtige Reihe von Operationen, die in jedem Quantenalgorithmus viel Arbeit leisten."
      ]
    },
    {
      "cell_type": "markdown",
      "metadata": {
      },
      "source": [
        "### 4.1 Clifford Gates<a id=\"big-red\"></a>\n",
        "\n",
        "Um Clifford Gates zu verstehen, beginnen wir mit einem Beispiel, das Sie schon oft gesehen haben: dem Hadamard.\n",
        "\n",
        "$$ H = |+\\rangle\\langle0|~+~ |-\\rangle\\langle1| = |0\\rangle\\langle+|~+~ |1\\rangle\\langle-|. $$\n",
        "\n",
        "Dieses Gatter wird oben unter Verwendung äußerer Produkte ausgedrückt, wie oben beschrieben. Wenn es in dieser Form ausgedrückt wird, wird sein berühmter Effekt offensichtlich: Es nimmt $|0\\rangle$ und dreht es zu $|+\\rangle$. Allgemeiner können wir sagen, dass es die Basiszustände der z-Messung, $ { |0\\rangle,|1\\rangle } $, zu den Basiszuständen der x-Messung, $ { |+\\rangle,|-\\rangle, rotiert } $ und umgekehrt.\n",
        "\n",
        "Auf diese Weise besteht die Wirkung des Hadamard darin, Informationen um ein Qubit herum zu bewegen. Es tauscht alle Informationen aus, auf die zuvor eine x-Messung zugegriffen hätte, mit denen, auf die eine z-Messung zugegriffen hätte.\n",
        "\n",
        "Der Hadamard kann mit anderen Toren kombiniert werden, um verschiedene Operationen durchzuführen, zum Beispiel:\n",
        "\n",
        "$$ HXH = Z,\\\\ HZH = X. $$\n",
        "\n",
        "Indem wir einen Hadamard vor und nach einem $X$ ausführen, bewirken wir, dass die Aktion, die zuvor auf die z-Basiszustände angewendet wurde, stattdessen auf die x-Basiszustände übertragen wird. Die kombinierte Wirkung ist dann identisch mit der eines $Z$. Auf ähnliche Weise können wir ein $X$ aus Hadamards und einem $Z$ erstellen.\n",
        "\n",
        "Ein ähnliches Verhalten ist für das $S$-Gate und sein hermitisches Konjugat zu beobachten,\n",
        "\n",
        "$$ SXS^{\\dagger} = Y,\\\\ SYS^{\\dagger} = -X,\\\\ SZS^{\\dagger} = Z. $$\n",
        "\n",
        "Dies hat einen ähnlichen Effekt wie Hadamard, außer dass es $X$ und $Y$ anstelle von $X$ und $Z$ vertauscht. In Kombination mit Hadamard könnten wir dann ein zusammengesetztes Tor erstellen, das Informationen zwischen y und z verschiebt.\n",
        "\n",
        "Diese Eigenschaft, Paulis in andere Paulis umzuwandeln, ist das bestimmende Merkmal von Clifford Gates. Explizit für den Single-Qubit-Fall angegeben: Wenn $U$ ein Clifford und $P$ ein Pauli ist, wird $UPU^{\\dagger}$ auch ein Pauli sein. Für hermitische Tore, wie das Hadamard, können wir einfach $UPU$ verwenden.\n",
        "\n",
        "Weitere Beispiele für Single-Qubit-Clifford-Gates sind die Paulis selbst. Diese verwandeln den Pauli, auf den sie wirken, nicht. Stattdessen weisen sie den beiden, mit denen sie antipendeln, einfach eine Phase von $-1$ zu. Zum Beispiel,\n",
        "\n",
        "$$ ZXZ = -X,\\\\ ZYZ = -Y,\\\\ ZZZ= ~~~~Z. $$\n",
        "\n",
        "Sie haben vielleicht bemerkt, dass eine ähnliche Phase auch in der Wirkung des $S$-Gatters auftrat. Indem wir dies mit einem Pauli kombinieren, könnten wir ein zusammengesetztes Gate erstellen, das diese Phase aufhebt und $X$ und $Y$ auf eine Weise tauscht, die dem Tausch von $X$ und $Z$ bei Hadamard ähnlicher ist.\n",
        "\n",
        "Für Clifford-Gatter mit mehreren Qubits besteht die definierende Eigenschaft darin, dass sie Tensorprodukte von Paulis in andere Tensorprodukte von Paulis umwandeln. Das prominenteste Zwei-Qubit-Gate von Clifford ist beispielsweise das CNOT. Die Eigenschaft davon, die wir in diesem Kapitel verwenden werden, ist\n",
        "\n",
        "$$ { CX} *{j,k}~ (X \\otimes 1)~{ CX}* {j,k} = X \\otimes X. $$\n",
        "\n",
        "Dadurch wird effektiv ein $X$ vom Kontroll-Qubit zum Ziel „kopiert“.\n",
        "\n",
        "Der Prozess, eine Matrix zwischen eine Einheit und ihre hermitische Konjugation einzufügen, wird als Konjugation durch diese Einheit bezeichnet. Dieser Prozess transformiert die Eigenzustände der Matrix, lässt aber die Eigenwerte unverändert. Der Grund, warum die Konjugation von Cliffords zwischen Paulis transformieren kann, liegt darin, dass alle Paulis denselben Satz von Eigenwerten teilen."
      ]
    },
    {
      "cell_type": "markdown",
      "metadata": {
      },
      "source": [
        "### 4.2 Nicht-Clifford Gates<a id=\"non-clifford\"></a>\n",
        "\n",
        "Die Clifford-Tore sind sehr wichtig, aber sie allein sind nicht mächtig. Um Quantenberechnungen durchführen zu können, brauchen wir Gatter, die keine Cliffords sind. Drei wichtige Beispiele sind willkürliche Drehungen um die drei Achsen des Qubits, $R_x(\\theta)$, $R_y(\\theta)$ und $R_z(\\theta)$.\n",
        "\n",
        "Konzentrieren wir uns auf $R_x(\\theta)$. Wie wir oben gesehen haben, kann jede Einheit in einer exponentiellen Form unter Verwendung einer Hermiteschen Matrix ausgedrückt werden. Für dieses Tor finden wir\n",
        "\n",
        "$$ R_x(\\theta) = e^{i \\frac{\\theta}{2} X}. $$\n",
        "\n",
        "Der letzte Abschnitt hat uns auch gezeigt, dass die unitäre und ihre entsprechende hermitische Matrix die gleichen Eigenzustände haben. In diesem Abschnitt haben wir gesehen, dass die Konjugation durch eine Einheit Eigenzustände transformiert und Eigenwerte unverändert lässt. Vor diesem Hintergrund kann das gezeigt werden\n",
        "\n",
        "$$ U R_x(\\theta)U^\\dagger = e^{i \\frac{\\theta}{2} ~USU^\\dagger}. $$\n",
        "\n",
        "Indem wir diese Drehung durch einen Clifford konjugieren, können wir sie daher in dieselbe Drehung um eine andere Achse umwandeln. Selbst wenn wir also keine direkte Möglichkeit hätten, $R_y(\\theta)$ und $R_z(\\theta)$ auszuführen, könnten wir es mit $R_x(\\theta)$ in Kombination mit Clifford Gates tun. Diese Technik, die Leistung von Nicht-Clifford-Gattern zu steigern, indem wir sie mit Clifford-Gattern kombinieren, ist eine Technik, die wir beim Quantencomputing stark nutzen."
      ]
    },
    {
      "cell_type": "markdown",
      "metadata": {
      },
      "source": [
        "### 4.3 Erweiterung des Gate-Sets<a id=\"expanding\"></a>\n",
        "\n",
        "Als weiteres Beispiel für die Kombination von $R_x(\\theta)$ mit Cliffords konjugieren wir es mit einem CNOT.\n",
        "\n",
        "$$ CX_{j,k} ~(R_x(\\theta) \\otimes 1)~ CX_{j,k} = CX_{j,k} ~ e^{i \\frac{\\theta}{2} ~ (X \\otimes 1)}~ CX_{j,k} = e^{i \\frac{\\theta}{2} ~CX_{j,k} ~ (X\\otimes 1)~ CX_{j,k}} = e ^{i \\frac{\\theta}{2} ~ X\\otimes X} $$\n",
        "\n",
        "Dies verwandelt unsere einfache Einzel-Qubit-Rotation in ein viel leistungsfähigeres Zwei-Qubit-Gate. Dies ist nicht gleichbedeutend mit der unabhängigen Ausführung derselben Rotation auf beiden Qubits. Stattdessen ist es ein Tor, das in der Lage ist, verschränkte Zustände zu erzeugen und zu manipulieren.\n",
        "\n",
        "Wir müssen hier nicht aufhören. Wir können den gleichen Trick verwenden, um die Operation auf eine beliebige Anzahl von Qubits auszudehnen. Alles, was benötigt wird, sind mehr Konjugierte durch das CNOT, um das $X$ immer wieder auf neue Qubits zu kopieren.\n",
        "\n",
        "Darüber hinaus können wir Single-Qubit-Cliffords verwenden, um den Pauli auf verschiedene Qubits zu transformieren. In unserem Zwei-Qubit-Beispiel könnten wir zum Beispiel mit $S$ auf dem Qubit auf der rechten Seite konjugieren, um das $X$ dort in ein $Y$ umzuwandeln:\n",
        "\n",
        "$$ \\left( I \\otimes S \\right) ~e^{i \\frac{\\theta}{2} ~ X\\otimes X}~\\left( I \\otimes S^\\dagger \\right) = e^{ ich \\frac{\\theta}{2} ~ X\\otimes Y}. $$\n",
        "\n",
        "Mit diesen Techniken können wir komplexe Verschränkungsoperationen durchführen, die auf eine beliebige Anzahl von Qubits der Form wirken\n",
        "\n",
        "$$ U = e^{i\\frac{\\theta}{2} ~ P_{n-1}\\otimes P_{n-2}\\otimes...\\otimes P_0}, ~~~ P_j \\in {I ,X,Y,Z}. $$\n",
        "\n",
        "Dies alles zeigt, dass die Kombination der Ein- und Zwei-Qubit-Clifford-Gatter mit Drehungen um die x-Achse uns eine mächtige Reihe von Möglichkeiten bietet. Was noch zu zeigen ist, ist, dass wir sie für alles verwenden können."
      ]
    },
    {
      "cell_type": "markdown",
      "metadata": {
      },
      "source": [
        "## 5. Universalität beweisen<a id=\"proving\"></a>\n",
        "\n",
        "Wie bei klassischen Computern müssen wir diese große Aufgabe in überschaubare Teile aufteilen. Wir müssen einen grundlegenden Satz von Toren finden, die es uns ermöglichen, dies zu erreichen. Wie wir sehen werden, reichen die Single- und Two-Qubit-Gates des letzten Abschnitts für die Aufgabe aus.\n",
        "\n",
        "Angenommen, wir möchten die Einheitlichkeit implementieren\n",
        "\n",
        "$$ U = e^{i(aX + bZ)}, $$\n",
        "\n",
        "aber die einzigen Gatter, die wir haben, sind $R_x(\\theta) = e^{i \\frac{\\theta}{2} X}$ und $R_z(\\theta) = e^{i \\frac{\\theta}{2} } Z}$. Der beste Weg, dieses Problem zu lösen, wäre die Verwendung von Euler-Winkeln. Aber betrachten wir stattdessen eine andere Methode.\n",
        "\n",
        "Die Hermitesche Matrix in der Exponentialfunktion für $U$ ist einfach die Summe derjenigen für die Rotationen $R_x(\\theta)$ und $R_z(\\theta)$. Dies legt einen naiven Ansatz zur Lösung unseres Problems nahe: Wir könnten $R_z(2b) = e^{i bZ}$ anwenden, gefolgt von $R_x(2a) = e^{ia X}$. Da wir Matrizen potenzieren, die nicht pendeln, funktioniert dieser Ansatz leider nicht.\n",
        "\n",
        "$$ e^{ia X} e^{ib Z} \\neq e^{i(aX + bZ)} $$\n",
        "\n",
        "Wir könnten jedoch die folgende modifizierte Version verwenden:\n",
        "\n",
        "$$ U = \\lim_{n\\rightarrow\\infty} ~ \\left(e^{iaX/n}e^{ibZ/n}\\right)^n. $$\n",
        "\n",
        "Hier teilen wir $U$ in $n$ kleine Scheiben auf. Für jede Scheibe ist es eine gute Annäherung, dies zu sagen\n",
        "\n",
        "$$ e^{iaX/n}e^{ibZ/n} = e^{i(aX + bZ)/n} $$\n",
        "\n",
        "Der Fehler in dieser Näherung beträgt $1/n^2$. Wenn wir die $n$-Slices kombinieren, erhalten wir eine Annäherung an unsere Zieleinheit, deren Fehler als $1/n$ skaliert wird. Indem wir also einfach die Anzahl der Slices erhöhen, können wir so nahe an $U$ herankommen, wie wir brauchen. Andere Methoden zum Erstellen der Sequenz sind ebenfalls möglich, um noch genauere Versionen unserer Zieleinheit zu erhalten.\n",
        "\n",
        "Die Stärke dieser Methode besteht darin, dass sie in komplexeren Fällen als nur einem einzelnen Qubit verwendet werden kann. Betrachten Sie zum Beispiel die Einheitlichkeit\n",
        "\n",
        "$$ U = e^{i(aX\\otimes X\\otimes X + bZ\\otimes Z\\otimes Z)}. $$\n",
        "\n",
        "Wir wissen, wie man das einheitliche $e^{i\\frac{\\theta}{2} X\\otimes X\\otimes X}$ aus einem einzelnen Qubit $R_x(\\theta)$ und zwei kontrollierten NOTs erzeugt.\n",
        "\n",
        "```python\n",
        "qc.cx(0,2)\n",
        "qc.cx(0,1)\n",
        "qc.rx(theta,0)\n",
        "qc.cx(0,1)\n",
        "qc.cx(0,2)\n",
        "```\n",
        "\n",
        "Mit ein paar Hadamards können wir dasselbe für $e^{i\\frac{\\theta}{2} Z\\otimes Z\\otimes Z}$ machen.\n",
        "\n",
        "```python\n",
        "qc.h(0)\n",
        "qc.h(1)\n",
        "qc.h(2)\n",
        "qc.cx(0,2)\n",
        "qc.cx(0,1)\n",
        "qc.rx(theta,0)\n",
        "qc.cx(0,1)\n",
        "qc.cx(0,2)\n",
        "qc.h(2)\n",
        "qc.h(1)\n",
        "qc.h(0)\n",
        "```\n",
        "\n",
        "Dies gibt uns die Möglichkeit, ein kleines Stück unseres neuen Drei-Qubit-$U$ zu reproduzieren:\n",
        "\n",
        "$$ e^{iaX\\otimes X\\otimes X/n}e^{ibZ\\otimes Z\\otimes Z/n} = e^{i(aX\\otimes X\\otimes X + bZ\\otimes Z\\otimes Z) /n}. $$\n",
        "\n",
        "Wie zuvor können wir dann die Slices miteinander kombinieren, um eine beliebig genaue Annäherung an $U$ zu erhalten.\n",
        "\n",
        "Diese Methode funktioniert weiterhin, wenn wir die Anzahl der Qubits und auch die Anzahl der Terme erhöhen, die simuliert werden müssen. Es muss darauf geachtet werden, dass die Annäherung genau bleibt, aber dies kann auf eine Weise erfolgen, die angemessene Ressourcen erfordert. Das Hinzufügen zusätzlicher zu simulierender Terme oder das Erhöhen der gewünschten Genauigkeit erfordert lediglich eine polynomische Erhöhung der Komplexität des Verfahrens.\n",
        "\n",
        "Methoden dieser Form können jede Einheit $U = e^{iH}$ reproduzieren, für die $H$ als Summe von Tensorprodukten von Paulis ausgedrückt werden kann. Da wir zuvor gezeigt haben, dass alle Matrizen auf diese Weise ausgedrückt werden können, reicht dies aus, um zu zeigen, dass wir alle Unitarien reproduzieren können. Obwohl andere Methoden in der Praxis besser sein können, ist das Hauptkonzept, das Sie aus diesem Kapitel mitnehmen sollten, dass es sicherlich eine Möglichkeit gibt, alle Multi-Qubit-Unitarys zu reproduzieren, indem nur die grundlegenden Operationen von Qiskit verwendet werden. Quantenuniversalität kann erreicht werden!\n",
        "\n",
        "Dieses Gate-Set ist nicht das einzige, das Universalität erreichen kann. Zum Beispiel kann gezeigt werden, dass nur Hadamard und Toffoli für Universalität ausreichen. Es wurden auch mehrere andere Gattersätze in Betracht gezogen und als universell erwiesen, die jeweils durch unterschiedliche Wege zum fehlertoleranten Erreichen der Gatter motiviert sind.\n",
        "\n",
        "Alles, was wir in diesem Buch besprochen haben, folgt dem Schaltungsmodell der Berechnung. Das Schaltungsmodell ist jedoch nicht das einzige universelle Modell der Quantencomputing. Andere Formen der Quantenberechnung wie adiabatisches Quantencomputing oder messungsbasiertes Quantencomputing existieren. Die Tatsache, dass sie universell sind, bedeutet, dass bewiesen wurde, dass es eine Zuordnung in polynomieller Zeit und Ressourcen vom Schaltungsmodell zu diesen anderen Berechnungsmodellen gibt. Diese anderen Modelle nutzen oft andere quantenmechanische Eigenschaften, um ihre Berechnungen durchzuführen. Obwohl diese anderen Formen der Quantenberechnung existieren, ist es wichtig zu beachten, dass die Vorteile jeder nur physikalische Probleme und Hardwareprobleme betreffen. Da ein universelles Modell der Quantenberechnung jeden Quantenalgorithmus ausführen kann, müssen wir nur beim Schaltungsmodell bleiben und können andere universelle Modelle für unsere Diskussion ignorieren.\n",
        "\n",
        "Es gibt andere Formen der Quantenberechnung, die nicht universell sind, aber auf bestimmte Anwendungen anwendbar sind. Beispielsweise kann Quantenglühen für Optimierungs- und Abtastprobleme nützlich sein. Beim Glühen wird ein Metall auf eine hohe Temperatur erhitzt und dann langsam abgekühlt. Dieser Prozess bewirkt, dass geschmolzenes Metall über die Oberfläche des Metallstücks fließt und sich neu verteilt; viele Eigenschaften des betreffenden Metalls verändern. Quantenglühen ist in gewissem Sinne analog zum physikalischen Glühprozess. Es geht darum, Probleme in eine Art Energielandschaft zu codieren und dann einen Quantenzustand die Landschaft erkunden zu lassen. Während normale Wellen in Wellentälern eingefangen werden können, die niedriger sind als ihre Umgebung (lokale Minima), erhöhen Quanteneffekte die Geschwindigkeit, mit der die Quantenzustände den wahren tiefsten Punkt in der Landschaft finden (globale Minima)."
      ]
    },
    {
      "cell_type": "code",
      "execution_count": 1,
      "metadata": {
      },
      "outputs": [
        {
          "data": {
            "text/plain": [
              "{'qiskit-terra': '0.16.1',\n",
              " 'qiskit-aer': '0.7.2',\n",
              " 'qiskit-ignis': '0.5.1',\n",
              " 'qiskit-ibmq-provider': '0.11.1',\n",
              " 'qiskit-aqua': '0.8.1',\n",
              " 'qiskit': '0.23.2'}"
            ]
          },
          "execution_count": 1,
          "metadata": {
          },
          "output_type": "execute_result"
        }
      ],
      "source": [
        "import qiskit\n",
        "qiskit.__qiskit_version__"
      ]
    }
  ],
  "metadata": {
    "kernelspec": {
      "display_name": "Python 3",
      "language": "python",
      "name": "python3"
    },
    "language_info": {
      "codemirror_mode": {
        "name": "ipython",
        "version": 3
      },
      "file_extension": ".py",
      "mimetype": "text/x-python",
      "name": "python",
      "nbconvert_exporter": "python",
      "pygments_lexer": "ipython3",
      "version": "3.9"
    }
  },
  "nbformat": 4,
  "nbformat_minor": 4
}
