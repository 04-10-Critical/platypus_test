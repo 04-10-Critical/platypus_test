{
  "cells": [
    {
      "cell_type": "markdown",
      "metadata": {
        "tags": [
          "remove_cell"
        ]
      },
      "source": [
        "# Lab 1d Quantenschaltungen"
      ]
    },
    {
      "cell_type": "markdown",
      "metadata": {
      },
      "source": [
        "Voraussetzung\n",
        "\n",
        "- [Qiskit-Grundlagen](https://qiskit.org/documentation/tutorials/circuits/1_getting_started_with_qiskit.html)\n",
        "- [Kapitel 1.2 Die Atome der Berechnung](https://qiskit.org/textbook/ch-states/atoms-computation.html)\n",
        "\n",
        "Andere relevante Materialien\n",
        "\n",
        "- [Greifen Sie auf IBM Quantum Systems zu](https://qiskit.org/documentation/install.html#access-ibm-quantum-systems)\n",
        "- [Konfiguration von IBM Quantum-Systemen](https://quantum-computing.ibm.com/docs/manage/backends/configuration)\n",
        "- [Transpilieren](https://qiskit.org/documentation/apidoc/transpiler.html)\n",
        "- [IBM Quantum-Konto](https://quantum-computing.ibm.com/docs/manage/account/ibmq)\n",
        "- [Quantenschaltungen](https://qiskit.org/documentation/apidoc/circuit.html) "
      ]
    },
    {
      "cell_type": "code",
      "execution_count": 1,
      "metadata": {
      },
      "outputs": [

      ],
      "source": [
        "from qiskit import *\n",
        "from qiskit.visualization import plot_histogram\n",
        "import numpy as np"
      ]
    },
    {
      "cell_type": "markdown",
      "metadata": {
      },
      "source": [
        "<h2 style=\"font-size:24px;\">Teil 1: Klassische Logikgatter mit Quantenschaltkreisencf</h2>\n",
        "\n",
        "<br>\n",
        "<div style=\"background: #E8E7EB; border-radius: 5px;\n",
        "-moz-border-radius: 5px;\">\n",
        "  <p style=\"background: #800080;\n",
        "            border-radius: 5px 5px 0px 0px;\n",
        "            padding: 10px 0px 10px 10px;\n",
        "            font-size:18px;\n",
        "            color:white;\n",
        "            \"><b>Tor</b></p>\n",
        "    <p style=\" padding: 0px 0px 10px 10px;\n",
        "              font-size:16px;\">Erstellen Sie Quantenschaltungsfunktionen, die die XOR-, AND-, NAND- und OR-Gatter berechnen können, indem Sie das NOT-Gatter (ausgedrückt als x in Qiskit), das CNOT-Gatter (ausgedrückt als cx in Qiskit) und das Toffoli-Gatter (ausgedrückt als ccx in Qiskit) verwenden.</p>\n",
        "</div>\n",
        "\n",
        "Als Beispiel wird eine Implementierung des `NOT` -Gatters bereitgestellt."
      ]
    },
    {
      "cell_type": "code",
      "execution_count": 2,
      "metadata": {
      },
      "outputs": [

      ],
      "source": [
        "def NOT(inp):\n",
        "    \"\"\"An NOT gate.\n",
        "    \n",
        "    Parameters:\n",
        "        inp (str): Input, encoded in qubit 0.\n",
        "        \n",
        "    Returns:\n",
        "        QuantumCircuit: Output NOT circuit.\n",
        "        str: Output value measured from qubit 0.\n",
        "    \"\"\"\n",
        "\n",
        "    qc = QuantumCircuit(1, 1) # A quantum circuit with a single qubit and a single classical bit\n",
        "    qc.reset(0)\n",
        "    \n",
        "    # We encode '0' as the qubit state |0⟩, and '1' as |1⟩\n",
        "    # Since the qubit is initially |0⟩, we don't need to do anything for an input of '0'\n",
        "    # For an input of '1', we do an x to rotate the |0⟩ to |1⟩\n",
        "    if inp=='1':\n",
        "        qc.x(0)\n",
        "        \n",
        "    # barrier between input state and gate operation \n",
        "    qc.barrier()\n",
        "    \n",
        "    # Now we've encoded the input, we can do a NOT on it using x\n",
        "    qc.x(0)\n",
        "    \n",
        "    #barrier between gate operation and measurement\n",
        "    qc.barrier()\n",
        "    \n",
        "    # Finally, we extract the |0⟩/|1⟩ output of the qubit and encode it in the bit c[0]\n",
        "    qc.measure(0,0)\n",
        "    qc.draw('mpl')\n",
        "    \n",
        "    # We'll run the program on a simulator\n",
        "    backend = Aer.get_backend('qasm_simulator')\n",
        "    # Since the output will be deterministic, we can use just a single shot to get it\n",
        "    job = execute(qc, backend, shots=1, memory=True)\n",
        "    output = job.result().get_memory()[0]\n",
        "    \n",
        "    return qc, output"
      ]
    },
    {
      "cell_type": "code",
      "execution_count": 3,
      "metadata": {
      },
      "outputs": [
        {
          "name": "stdout",
          "output_type": "stream",
          "text": [
            "NOT with input 0 gives output 1\n"
          ]
        },
        {
          "data": {
            "image/svg+xml": [
              "<?xml version=\"1.0\" encoding=\"UTF-8\"?><!DOCTYPE svg  PUBLIC '-//W3C//DTD SVG 1.1//EN'  'http://www.w3.org/Graphics/SVG/1.1/DTD/svg11.dtd'><svg width=\"297.02pt\" height=\"123.48pt\" version=\"1.1\" viewBox=\"0 0 297.02 123.48\" xmlns=\"http://www.w3.org/2000/svg\" xmlns:xlink=\"http://www.w3.org/1999/xlink\"><defs><style type=\"text/css\">*{stroke-linecap:butt;stroke-linejoin:round;}</style></defs><path d=\"m-0 123.48h297.02v-123.48h-297.02z\" fill=\"#ffffff\"/><path d=\"m253.91 78.672h11.817l-5.9086 8.5221z\" clip-path=\"url(#pc725eaee6b)\" fill=\"#778899\"/><path d=\"m53.471 43.561h231.8\" clip-path=\"url(#pc725eaee6b)\" fill=\"none\" stroke=\"#000000\" stroke-linecap=\"square\" stroke-width=\"2\"/><path d=\"m53.471 87.535h231.8\" clip-path=\"url(#pc725eaee6b)\" fill=\"none\" stroke=\"#778899\" stroke-linecap=\"square\" stroke-width=\"2\"/><path d=\"m53.471 90.489h231.8\" clip-path=\"url(#pc725eaee6b)\" fill=\"none\" stroke=\"#778899\" stroke-linecap=\"square\" stroke-width=\"2\"/><path d=\"m114.6 66.286h17.726v-45.451h-17.726z\" clip-path=\"url(#pc725eaee6b)\" fill=\"#bdbdbd\" opacity=\".6\"/><path d=\"m205.5 66.286h17.726v-45.451h-17.726z\" clip-path=\"url(#pc725eaee6b)\" fill=\"#bdbdbd\" opacity=\".6\"/><path d=\"m261.3 43.561v35.111\" clip-path=\"url(#pc725eaee6b)\" fill=\"none\" stroke=\"#778899\" stroke-linecap=\"square\" stroke-width=\"2\"/><path d=\"m258.34 43.561v35.111\" clip-path=\"url(#pc725eaee6b)\" fill=\"none\" stroke=\"#778899\" stroke-linecap=\"square\" stroke-width=\"2\"/><path d=\"m63.243 58.332h29.543v-29.543h-29.543z\" clip-path=\"url(#pc725eaee6b)\" stroke=\"#000000\" stroke-width=\"1.5\"/><path d=\"m154.14 58.332h29.543v-29.543h-29.543z\" clip-path=\"url(#pc725eaee6b)\" fill=\"#05bab6\" stroke=\"#05bab6\" stroke-width=\"1.5\"/><path d=\"m245.05 58.332h29.543v-29.543h-29.543z\" clip-path=\"url(#pc725eaee6b)\" stroke=\"#000000\" stroke-width=\"1.5\"/><path d=\"m270.16 47.992c0-2.7413-1.0901-5.3732-3.0285-7.3116-1.9384-1.9384-4.5702-3.0285-7.3116-3.0285s-5.3732 1.0901-7.3116 3.0285c-1.9384 1.9384-3.0285 4.5702-3.0285 7.3116\" clip-path=\"url(#pc725eaee6b)\" fill=\"none\" stroke=\"#ffffff\" stroke-width=\"2\"/><path d=\"m259.82 47.992 10.34-10.34\" clip-path=\"url(#pc725eaee6b)\" fill=\"none\" stroke=\"#ffffff\" stroke-linecap=\"square\" stroke-width=\"2\"/><path d=\"m123.47 20.835v45.451\" clip-path=\"url(#pc725eaee6b)\" fill=\"none\" stroke=\"#000000\" stroke-dasharray=\"3.7,1.6\"/><path d=\"m214.37 20.835v45.451\" clip-path=\"url(#pc725eaee6b)\" fill=\"none\" stroke=\"#000000\" stroke-dasharray=\"3.7,1.6\"/><g clip-path=\"url(#pc725eaee6b)\"><defs><path id=\"DejaVuSans-124\" d=\"m21 76.422v-100h-8.2969v100z\"/><path id=\"DejaVuSans-48\" d=\"m31.781 66.406q-7.6094 0-11.453-7.5-3.8281-7.4844-3.8281-22.531 0-14.984 3.8281-22.484 3.8438-7.5 11.453-7.5 7.6719 0 11.5 7.5 3.8438 7.5 3.8438 22.484 0 15.047-3.8438 22.531-3.8281 7.5-11.5 7.5zm0 7.8125q12.266 0 18.734-9.7031 6.4688-9.6875 6.4688-28.141 0-18.406-6.4688-28.109-6.4688-9.6875-18.734-9.6875-12.25 0-18.719 9.6875-6.4688 9.7031-6.4688 28.109 0 18.453 6.4688 28.141 6.4688 9.7031 18.719 9.7031z\"/><path id=\"DejaVuSans-10217\" d=\"m30.078 31.344-13.766-44.531h-8.2969l13.766 44.531-13.766 44.531h8.2969z\"/></defs><g transform=\"translate(69.109 47.006) scale(.13 -.13)\" fill=\"#ffffff\"><use transform=\"translate(0 .57812)\" xlink:href=\"#DejaVuSans-124\"/><use transform=\"translate(33.691 .57812)\" xlink:href=\"#DejaVuSans-48\"/><use transform=\"translate(97.314 .57812)\" xlink:href=\"#DejaVuSans-10217\"/></g></g><g clip-path=\"url(#pc725eaee6b)\"><defs><path id=\"DejaVuSans-88\" d=\"m6.2969 72.906h10.594l18.125-27.109 18.203 27.109h10.594l-23.438-35.016 25-37.891h-10.594l-20.5 31-20.656-31h-10.641l26.016 38.922z\"/></defs><g transform=\"translate(164.46 47.148) scale(.13 -.13)\"><use xlink:href=\"#DejaVuSans-88\"/></g></g><g clip-path=\"url(#pc725eaee6b)\"><g transform=\"translate(271.18 82.304) scale(.104 -.104)\"><use xlink:href=\"#DejaVuSans-48\"/></g></g><g clip-path=\"url(#pc725eaee6b)\"><defs><path id=\"DejaVuSans-113\" d=\"m14.797 27.297q0-9.9062 4.0781-15.547t11.203-5.6406 11.219 5.6406q4.1094 5.6406 4.1094 15.547t-4.1094 15.547q-4.0938 5.6406-11.219 5.6406t-11.203-5.6406-4.0781-15.547zm30.609-19.094q-2.8281-4.875-7.1562-7.25-4.3125-2.375-10.375-2.375-9.9062 0-16.141 7.9062-6.2188 7.9219-6.2188 20.812t6.2188 20.797q6.2344 7.9062 16.141 7.9062 6.0625 0 10.375-2.375 4.3281-2.3594 7.1562-7.2344v8.2969h8.9844v-75.484h-8.9844z\"/></defs><g transform=\"translate(34.065 48.045) scale(.1625 -.1625)\"><use xlink:href=\"#DejaVuSans-113\"/></g></g><g clip-path=\"url(#pc725eaee6b)\"><defs><path id=\"DejaVuSans-99\" d=\"m48.781 52.594v-8.4062q-3.8125 2.1094-7.6406 3.1562t-7.7344 1.0469q-8.75 0-13.594-5.5469-4.8281-5.5312-4.8281-15.547t4.8281-15.562q4.8438-5.5312 13.594-5.5312 3.9062 0 7.7344 1.0469t7.6406 3.1562v-8.3125q-3.7656-1.75-7.7969-2.625-4.0156-0.89062-8.5625-0.89062-12.359 0-19.641 7.7656-7.2656 7.7656-7.2656 20.953 0 13.375 7.3438 21.031 7.3594 7.6719 20.156 7.6719 4.1406 0 8.0938-0.85938 3.9531-0.84375 7.6719-2.5469z\"/></defs><g transform=\"translate(35.446 93.496) scale(.1625 -.1625)\"><use xlink:href=\"#DejaVuSans-99\"/></g></g><defs><clipPath id=\"pc725eaee6b\"><rect x=\"7.2\" y=\"7.2\" width=\"282.62\" height=\"109.08\"/></clipPath></defs></svg>"
            ],
            "text/plain": [
              "<Figure size 374.326x144.48 with 1 Axes>"
            ]
          },
          "metadata": {
          },
          "output_type": "display_data"
        },
        {
          "name": "stdout",
          "output_type": "stream",
          "text": [
            "\n",
            "\n"
          ]
        },
        {
          "data": {
            "image/svg+xml": [
              "<?xml version=\"1.0\" encoding=\"UTF-8\"?><!DOCTYPE svg  PUBLIC '-//W3C//DTD SVG 1.1//EN'  'http://www.w3.org/Graphics/SVG/1.1/DTD/svg11.dtd'><svg width=\"342.47pt\" height=\"123.48pt\" version=\"1.1\" viewBox=\"0 0 342.47 123.48\" xmlns=\"http://www.w3.org/2000/svg\" xmlns:xlink=\"http://www.w3.org/1999/xlink\"><defs><style type=\"text/css\">*{stroke-linecap:butt;stroke-linejoin:round;}</style></defs><path d=\"m0 123.48h342.47v-123.48h-342.47z\" fill=\"#ffffff\"/><path d=\"m299.36 78.672h11.817l-5.9086 8.5221z\" clip-path=\"url(#p28fb26c6af)\" fill=\"#778899\"/><path d=\"m53.471 43.561h277.25\" clip-path=\"url(#p28fb26c6af)\" fill=\"none\" stroke=\"#000000\" stroke-linecap=\"square\" stroke-width=\"2\"/><path d=\"m53.471 87.535h277.25\" clip-path=\"url(#p28fb26c6af)\" fill=\"none\" stroke=\"#778899\" stroke-linecap=\"square\" stroke-width=\"2\"/><path d=\"m53.471 90.489h277.25\" clip-path=\"url(#p28fb26c6af)\" fill=\"none\" stroke=\"#778899\" stroke-linecap=\"square\" stroke-width=\"2\"/><path d=\"m160.05 66.286h17.726v-45.451h-17.726z\" clip-path=\"url(#p28fb26c6af)\" fill=\"#bdbdbd\" opacity=\".6\"/><path d=\"m250.96 66.286h17.726v-45.451h-17.726z\" clip-path=\"url(#p28fb26c6af)\" fill=\"#bdbdbd\" opacity=\".6\"/><path d=\"m306.75 43.561v35.111\" clip-path=\"url(#p28fb26c6af)\" fill=\"none\" stroke=\"#778899\" stroke-linecap=\"square\" stroke-width=\"2\"/><path d=\"m303.79 43.561v35.111\" clip-path=\"url(#p28fb26c6af)\" fill=\"none\" stroke=\"#778899\" stroke-linecap=\"square\" stroke-width=\"2\"/><path d=\"m63.243 58.332h29.543v-29.543h-29.543z\" clip-path=\"url(#p28fb26c6af)\" stroke=\"#000000\" stroke-width=\"1.5\"/><path d=\"m108.69 58.332h29.543v-29.543h-29.543z\" clip-path=\"url(#p28fb26c6af)\" fill=\"#05bab6\" stroke=\"#05bab6\" stroke-width=\"1.5\"/><path d=\"m199.6 58.332h29.543v-29.543h-29.543z\" clip-path=\"url(#p28fb26c6af)\" fill=\"#05bab6\" stroke=\"#05bab6\" stroke-width=\"1.5\"/><path d=\"m290.5 58.332h29.543v-29.543h-29.543z\" clip-path=\"url(#p28fb26c6af)\" stroke=\"#000000\" stroke-width=\"1.5\"/><path d=\"m315.61 47.992c0-2.7413-1.0901-5.3732-3.0285-7.3116-1.9384-1.9384-4.5702-3.0285-7.3116-3.0285s-5.3732 1.0901-7.3116 3.0285c-1.9384 1.9384-3.0285 4.5702-3.0285 7.3116\" clip-path=\"url(#p28fb26c6af)\" fill=\"none\" stroke=\"#ffffff\" stroke-width=\"2\"/><path d=\"m305.27 47.992 10.34-10.34\" clip-path=\"url(#p28fb26c6af)\" fill=\"none\" stroke=\"#ffffff\" stroke-linecap=\"square\" stroke-width=\"2\"/><path d=\"m168.92 20.835v45.451\" clip-path=\"url(#p28fb26c6af)\" fill=\"none\" stroke=\"#000000\" stroke-dasharray=\"3.7,1.6\"/><path d=\"m259.82 20.835v45.451\" clip-path=\"url(#p28fb26c6af)\" fill=\"none\" stroke=\"#000000\" stroke-dasharray=\"3.7,1.6\"/><g clip-path=\"url(#p28fb26c6af)\"><defs><path id=\"DejaVuSans-124\" d=\"m21 76.422v-100h-8.2969v100z\"/><path id=\"DejaVuSans-48\" d=\"m31.781 66.406q-7.6094 0-11.453-7.5-3.8281-7.4844-3.8281-22.531 0-14.984 3.8281-22.484 3.8438-7.5 11.453-7.5 7.6719 0 11.5 7.5 3.8438 7.5 3.8438 22.484 0 15.047-3.8438 22.531-3.8281 7.5-11.5 7.5zm0 7.8125q12.266 0 18.734-9.7031 6.4688-9.6875 6.4688-28.141 0-18.406-6.4688-28.109-6.4688-9.6875-18.734-9.6875-12.25 0-18.719 9.6875-6.4688 9.7031-6.4688 28.109 0 18.453 6.4688 28.141 6.4688 9.7031 18.719 9.7031z\"/><path id=\"DejaVuSans-10217\" d=\"m30.078 31.344-13.766-44.531h-8.2969l13.766 44.531-13.766 44.531h8.2969z\"/></defs><g transform=\"translate(69.109 47.006) scale(.13 -.13)\" fill=\"#ffffff\"><use transform=\"translate(0 .57812)\" xlink:href=\"#DejaVuSans-124\"/><use transform=\"translate(33.691 .57812)\" xlink:href=\"#DejaVuSans-48\"/><use transform=\"translate(97.314 .57812)\" xlink:href=\"#DejaVuSans-10217\"/></g></g><g clip-path=\"url(#p28fb26c6af)\"><defs><path id=\"DejaVuSans-88\" d=\"m6.2969 72.906h10.594l18.125-27.109 18.203 27.109h10.594l-23.438-35.016 25-37.891h-10.594l-20.5 31-20.656-31h-10.641l26.016 38.922z\"/></defs><g transform=\"translate(119.01 47.148) scale(.13 -.13)\"><use xlink:href=\"#DejaVuSans-88\"/></g></g><g clip-path=\"url(#p28fb26c6af)\"><g transform=\"translate(209.91 47.148) scale(.13 -.13)\"><use xlink:href=\"#DejaVuSans-88\"/></g></g><g clip-path=\"url(#p28fb26c6af)\"><g transform=\"translate(316.63 82.304) scale(.104 -.104)\"><use xlink:href=\"#DejaVuSans-48\"/></g></g><g clip-path=\"url(#p28fb26c6af)\"><defs><path id=\"DejaVuSans-113\" d=\"m14.797 27.297q0-9.9062 4.0781-15.547t11.203-5.6406 11.219 5.6406q4.1094 5.6406 4.1094 15.547t-4.1094 15.547q-4.0938 5.6406-11.219 5.6406t-11.203-5.6406-4.0781-15.547zm30.609-19.094q-2.8281-4.875-7.1562-7.25-4.3125-2.375-10.375-2.375-9.9062 0-16.141 7.9062-6.2188 7.9219-6.2188 20.812t6.2188 20.797q6.2344 7.9062 16.141 7.9062 6.0625 0 10.375-2.375 4.3281-2.3594 7.1562-7.2344v8.2969h8.9844v-75.484h-8.9844z\"/></defs><g transform=\"translate(34.065 48.045) scale(.1625 -.1625)\"><use xlink:href=\"#DejaVuSans-113\"/></g></g><g clip-path=\"url(#p28fb26c6af)\"><defs><path id=\"DejaVuSans-99\" d=\"m48.781 52.594v-8.4062q-3.8125 2.1094-7.6406 3.1562t-7.7344 1.0469q-8.75 0-13.594-5.5469-4.8281-5.5312-4.8281-15.547t4.8281-15.562q4.8438-5.5312 13.594-5.5312 3.9062 0 7.7344 1.0469t7.6406 3.1562v-8.3125q-3.7656-1.75-7.7969-2.625-4.0156-0.89062-8.5625-0.89062-12.359 0-19.641 7.7656-7.2656 7.7656-7.2656 20.953 0 13.375 7.3438 21.031 7.3594 7.6719 20.156 7.6719 4.1406 0 8.0938-0.85938 3.9531-0.84375 7.6719-2.5469z\"/></defs><g transform=\"translate(35.446 93.496) scale(.1625 -.1625)\"><use xlink:href=\"#DejaVuSans-99\"/></g></g><defs><clipPath id=\"p28fb26c6af\"><rect x=\"7.2\" y=\"7.2\" width=\"328.07\" height=\"109.08\"/></clipPath></defs></svg>"
            ],
            "text/plain": [
              "<Figure size 434.526x144.48 with 1 Axes>"
            ]
          },
          "metadata": {
          },
          "output_type": "display_data"
        },
        {
          "name": "stdout",
          "output_type": "stream",
          "text": [
            "\n",
            "\n"
          ]
        }
      ],
      "source": [
        "## Test the function\n",
        "for inp in ['0', '1']:\n",
        "    qc, out = NOT(inp)\n",
        "    print('NOT with input',inp,'gives output',out)\n",
        "    display(qc.draw())\n",
        "    print('\\n')"
      ]
    },
    {
      "cell_type": "markdown",
      "metadata": {
      },
      "source": [
        "<h3 style=\"font-size: 20px\">📓 XOR-Gatter</h3>\n",
        "\n",
        "Nimmt zwei binäre Strings als Input und gibt einen als Output zurück.\n",
        "\n",
        "Der Ausgang ist '0', wenn die Eingänge gleich sind, andernfalls '1'."
      ]
    },
    {
      "cell_type": "code",
      "execution_count": 2,
      "metadata": {
      },
      "outputs": [

      ],
      "source": [
        "def XOR(inp1,inp2):\n",
        "    \"\"\"An XOR gate.\n",
        "    \n",
        "    Parameters:\n",
        "        inpt1 (str): Input 1, encoded in qubit 0.\n",
        "        inpt2 (str): Input 2, encoded in qubit 1.\n",
        "        \n",
        "    Returns:\n",
        "        QuantumCircuit: Output XOR circuit.\n",
        "        str: Output value measured from qubit 1.\n",
        "    \"\"\"\n",
        "  \n",
        "    qc = QuantumCircuit(2, 1) \n",
        "    qc.reset(range(2))\n",
        "    \n",
        "    if inp1=='1':\n",
        "        qc.x(0)\n",
        "    if inp2=='1':\n",
        "        qc.x(1)\n",
        "    \n",
        "    # barrier between input state and gate operation \n",
        "    qc.barrier()\n",
        "    \n",
        "    # this is where your program for quantum XOR gate goes\n",
        "    \n",
        "    \n",
        "    \n",
        "    \n",
        "    \n",
        "    \n",
        "    \n",
        "    \n",
        "    # barrier between input state and gate operation \n",
        "    qc.barrier()\n",
        "    \n",
        "    qc.measure(1,0) # output from qubit 1 is measured\n",
        "  \n",
        "    #We'll run the program on a simulator\n",
        "    backend = Aer.get_backend('qasm_simulator')\n",
        "    #Since the output will be deterministic, we can use just a single shot to get it\n",
        "    job = execute(qc, backend, shots=1, memory=True)\n",
        "    output = job.result().get_memory()[0]\n",
        "  \n",
        "    return qc, output"
      ]
    },
    {
      "cell_type": "code",
      "execution_count": 1,
      "metadata": {
      },
      "outputs": [

      ],
      "source": [
        "## Test the function\n",
        "for inp1 in ['0', '1']:\n",
        "    for inp2 in ['0', '1']:\n",
        "        qc, output = XOR(inp1, inp2)\n",
        "        print('XOR with inputs',inp1,inp2,'gives output',output)\n",
        "        display(qc.draw())\n",
        "        print('\\n')"
      ]
    },
    {
      "cell_type": "markdown",
      "metadata": {
      },
      "source": [
        "<h3 style=\"font-size: 20px\">📓 UND Tor</h3>\n",
        "\n",
        "Nimmt zwei binäre Strings als Input und gibt einen als Output zurück.\n",
        "\n",
        "Der Ausgang ist nur dann `'1'` , wenn beide Eingänge `'1'` sind."
      ]
    },
    {
      "cell_type": "code",
      "execution_count": 6,
      "metadata": {
      },
      "outputs": [

      ],
      "source": [
        "def AND(inp1,inp2):\n",
        "    \"\"\"An AND gate.\n",
        "    \n",
        "    Parameters:\n",
        "        inpt1 (str): Input 1, encoded in qubit 0.\n",
        "        inpt2 (str): Input 2, encoded in qubit 1.\n",
        "        \n",
        "    Returns:\n",
        "        QuantumCircuit: Output XOR circuit.\n",
        "        str: Output value measured from qubit 2.\n",
        "    \"\"\"\n",
        "    qc = QuantumCircuit(3, 1) \n",
        "    qc.reset(range(2))\n",
        "  \n",
        "    if inp1=='1':\n",
        "        qc.x(0)\n",
        "    if inp2=='1':\n",
        "        qc.x(1)\n",
        "        \n",
        "    qc.barrier()\n",
        "\n",
        "    # this is where your program for quantum AND gate goes\n",
        "\n",
        "    \n",
        "    \n",
        "    \n",
        "    \n",
        "    \n",
        "\n",
        "    qc.barrier()\n",
        "    qc.measure(2, 0) # output from qubit 2 is measured\n",
        "  \n",
        "    # We'll run the program on a simulator\n",
        "    backend = Aer.get_backend('qasm_simulator')\n",
        "    # Since the output will be deterministic, we can use just a single shot to get it\n",
        "    job = execute(qc, backend, shots=1, memory=True)\n",
        "    output = job.result().get_memory()[0]\n",
        "  \n",
        "    return qc, output"
      ]
    },
    {
      "cell_type": "code",
      "execution_count": 2,
      "metadata": {
      },
      "outputs": [

      ],
      "source": [
        "## Test the function\n",
        "for inp1 in ['0', '1']:\n",
        "    for inp2 in ['0', '1']:\n",
        "        qc, output = AND(inp1, inp2)\n",
        "        print('AND with inputs',inp1,inp2,'gives output',output)\n",
        "        display(qc.draw())\n",
        "        print('\\n')"
      ]
    },
    {
      "cell_type": "markdown",
      "metadata": {
      },
      "source": [
        "<h3 style=\"font-size: 20px\">📓 NAND-Gatter</h3>\n",
        "\n",
        "Nimmt zwei binäre Strings als Input und gibt einen als Output zurück.\n",
        "\n",
        "Der Ausgang ist nur dann `'0'` , wenn beide Eingänge `'1'` sind."
      ]
    },
    {
      "cell_type": "code",
      "execution_count": 8,
      "metadata": {
      },
      "outputs": [

      ],
      "source": [
        "def NAND(inp1,inp2):\n",
        "    \"\"\"An NAND gate.\n",
        "    \n",
        "    Parameters:\n",
        "        inpt1 (str): Input 1, encoded in qubit 0.\n",
        "        inpt2 (str): Input 2, encoded in qubit 1.\n",
        "        \n",
        "    Returns:\n",
        "        QuantumCircuit: Output NAND circuit.\n",
        "        str: Output value measured from qubit 2.\n",
        "    \"\"\"\n",
        "    qc = QuantumCircuit(3, 1) \n",
        "    qc.reset(range(3))\n",
        "    \n",
        "    if inp1=='1':\n",
        "        qc.x(0)\n",
        "    if inp2=='1':\n",
        "        qc.x(1)\n",
        "    \n",
        "    qc.barrier()\n",
        "    \n",
        "    # this is where your program for quantum NAND gate goes\n",
        "\n",
        "\n",
        "    \n",
        "    \n",
        "    \n",
        "    \n",
        "    \n",
        "    qc.barrier()\n",
        "    qc.measure(2, 0) # output from qubit 2 is measured\n",
        "  \n",
        "    # We'll run the program on a simulator\n",
        "    backend = Aer.get_backend('qasm_simulator')\n",
        "    # Since the output will be deterministic, we can use just a single shot to get it\n",
        "    job = execute(qc,backend,shots=1,memory=True)\n",
        "    output = job.result().get_memory()[0]\n",
        "  \n",
        "    return qc, output"
      ]
    },
    {
      "cell_type": "code",
      "execution_count": 3,
      "metadata": {
      },
      "outputs": [

      ],
      "source": [
        "## Test the function\n",
        "for inp1 in ['0', '1']:\n",
        "    for inp2 in ['0', '1']:\n",
        "        qc, output = NAND(inp1, inp2)\n",
        "        print('NAND with inputs',inp1,inp2,'gives output',output)\n",
        "        display(qc.draw())\n",
        "        print('\\n')"
      ]
    },
    {
      "cell_type": "markdown",
      "metadata": {
      },
      "source": [
        "<h3 style=\"font-size: 20px\">📓 ODER-Tor</h3>\n",
        "\n",
        "Nimmt zwei binäre Strings als Input und gibt einen als Output zurück.\n",
        "\n",
        "Der Ausgang ist '1', wenn einer der Eingänge '1' ist."
      ]
    },
    {
      "cell_type": "code",
      "execution_count": 10,
      "metadata": {
      },
      "outputs": [

      ],
      "source": [
        "def OR(inp1,inp2):\n",
        "    \"\"\"An OR gate.\n",
        "    \n",
        "    Parameters:\n",
        "        inpt1 (str): Input 1, encoded in qubit 0.\n",
        "        inpt2 (str): Input 2, encoded in qubit 1.\n",
        "        \n",
        "    Returns:\n",
        "        QuantumCircuit: Output XOR circuit.\n",
        "        str: Output value measured from qubit 2.\n",
        "    \"\"\"\n",
        "\n",
        "    qc = QuantumCircuit(3, 1) \n",
        "    qc.reset(range(3))\n",
        "    \n",
        "    if inp1=='1':\n",
        "        qc.x(0)\n",
        "    if inp2=='1':\n",
        "        qc.x(1)\n",
        "    \n",
        "    qc.barrier()\n",
        "   \n",
        "    # this is where your program for quantum OR gate goes\n",
        "\n",
        "\n",
        "    \n",
        "    \n",
        "    \n",
        "    \n",
        "    \n",
        "    qc.barrier()\n",
        "    qc.measure(2, 0) # output from qubit 2 is measured\n",
        "  \n",
        "    # We'll run the program on a simulator\n",
        "    backend = Aer.get_backend('qasm_simulator')\n",
        "    # Since the output will be deterministic, we can use just a single shot to get it\n",
        "    job = execute(qc,backend,shots=1,memory=True)\n",
        "    output = job.result().get_memory()[0]\n",
        "  \n",
        "    return qc, output"
      ]
    },
    {
      "cell_type": "code",
      "execution_count": 4,
      "metadata": {
      },
      "outputs": [

      ],
      "source": [
        "## Test the function\n",
        "for inp1 in ['0', '1']:\n",
        "    for inp2 in ['0', '1']:\n",
        "        qc, output = OR(inp1, inp2)\n",
        "        print('OR with inputs',inp1,inp2,'gives output',output)\n",
        "        display(qc.draw())\n",
        "        print('\\n')"
      ]
    },
    {
      "cell_type": "markdown",
      "metadata": {
      },
      "source": [
        "<h2 style=\"font-size:24px;\">Teil 2: UND-Gatter auf Quantencomputer</h2>\n",
        "<br>\n",
        "<div style=\"background: #E8E7EB; border-radius: 5px;\n",
        "-moz-border-radius: 5px;\">\n",
        "  <p style=\"background: #800080;\n",
        "            border-radius: 5px 5px 0px 0px;\n",
        "            padding: 10px 0px 10px 10px;\n",
        "            font-size:18px;\n",
        "            color:white;\n",
        "            \"><b>Tor</b></p>\n",
        "    <p style=\" padding: 0px 0px 10px 10px;\n",
        "              font-size:16px;\">Führen Sie ein UND-Gatter auf zwei Quantensystemen aus und erfahren Sie, wie sich die unterschiedlichen Schaltungseigenschaften auf das Ergebnis auswirken.</p>\n",
        "</div>\n",
        "\n",
        "In Teil 1 haben Sie aus Quantengattern ein `AND` -Gatter gemacht und es auf dem Simulator ausgeführt. Hier in Teil 2 werden Sie es noch einmal tun, aber stattdessen die Schaltungen auf einem echten Quantencomputer ausführen. Wenn Sie ein echtes Quantensystem verwenden, sollten Sie bedenken, dass heutige Quantencomputer nicht fehlertolerant sind. Sie sind laut.\n",
        "\n",
        "Das „Rauschen“ in einem Quantensystem ist die kollektive Wirkung all der Dinge, die nicht passieren sollten, aber dennoch passieren. Rauschergebnisse in Ausgängen sind nicht immer das, was wir erwarten würden. Mit allen Prozessen in einem Quantenschaltkreis ist Rauschen verbunden: Vorbereiten des Anfangszustands, Anwenden von Gattern und Qubit-Messung. Bei den Gattern können die Rauschpegel zwischen verschiedenen Gattern und zwischen verschiedenen Qubits variieren. `cx` Gatter sind in der Regel lauter als jedes einzelne Qubit-Gatter.\n",
        "\n",
        "Hier verwenden wir die Quantensysteme aus der IBM Quantum Experience. Wenn Sie keinen Zugriff haben, können Sie dies [hier](https://qiskit.org/documentation/install.html#access-ibm-quantum-systems) tun.\n",
        "\n",
        "Jetzt, da Sie bereit sind, den echten Quantencomputer zu verwenden, können wir beginnen."
      ]
    },
    {
      "cell_type": "markdown",
      "metadata": {
      },
      "source": [
        "<h3 style=\"font-size: 20px\">Schritt 1. Auswahl eines Geräts</h3>"
      ]
    },
    {
      "cell_type": "markdown",
      "metadata": {
      },
      "source": [
        "Laden Sie zuerst das Konto aus den auf der Festplatte gespeicherten Anmeldeinformationen, indem Sie die folgende Zelle ausführen:"
      ]
    },
    {
      "cell_type": "code",
      "execution_count": 17,
      "metadata": {
        "tags": [
          "uses-hardware"
        ]
      },
      "outputs": [

      ],
      "source": [
        "IBMQ.load_account()"
      ]
    },
    {
      "cell_type": "markdown",
      "metadata": {
      },
      "source": [
        "Nachdem Ihr Konto geladen wurde, können Sie die Liste der Anbieter sehen, auf die Sie Zugriff haben, indem Sie die Zelle unten ausführen. Jeder Anbieter bietet unterschiedliche Systeme zur Nutzung an. Für offene Benutzer gibt es normalerweise nur einen Anbieter `ibm-q/open/main` :."
      ]
    },
    {
      "cell_type": "code",
      "execution_count": 16,
      "metadata": {
        "tags": [
          "uses-hardware"
        ]
      },
      "outputs": [

      ],
      "source": [
        "IBMQ.providers()"
      ]
    },
    {
      "cell_type": "markdown",
      "metadata": {
      },
      "source": [
        "Lassen Sie uns den Anbieter mit `get_provider` . Der Befehl <code>provider.backends( )</code> zeigt Ihnen die Liste der Backends, die Ihnen vom ausgewählten Anbieter zur Verfügung stehen."
      ]
    },
    {
      "cell_type": "code",
      "execution_count": 15,
      "metadata": {
        "tags": [
          "uses-hardware"
        ]
      },
      "outputs": [

      ],
      "source": [
        "provider = IBMQ.get_provider('ibm-q')\n",
        "provider.backends()"
      ]
    },
    {
      "cell_type": "markdown",
      "metadata": {
      },
      "source": [
        "Unter diesen Optionen können Sie eines der Systeme auswählen, auf dem Ihre Schaltungen ausgeführt werden sollen. Alle außer dem `ibmq_qasm_simulator` sind echte Quantencomputer, die Sie verwenden können. Die Unterschiede zwischen diesen Systemen liegen in der Anzahl der Qubits, ihrer Konnektivität und den Systemfehlerraten.\n",
        "\n",
        "Beim Ausführen der folgenden Zelle wird Ihnen ein Widget angezeigt, das alle Informationen zu Ihrer Wahl des Backends anzeigt. Durch Klicken auf die Registerkarten erhalten Sie die gewünschten Informationen. Beispielsweise befinden sich der Backend-Status, die Anzahl der Qubits und die Konnektivität auf der Registerkarte „ `configuration` “, während die Registerkarte „ `Error Map` “ die neuesten Rauschinformationen für das System anzeigt. "
      ]
    },
    {
      "cell_type": "code",
      "execution_count": 9,
      "metadata": {
        "tags": [
          "uses-hardware"
        ]
      },
      "outputs": [

      ],
      "source": [
        "import qiskit.tools.jupyter\n",
        "\n",
        "backend_ex = provider.get_backend('ibmq_16_melbourne')\n",
        "backend_ex"
      ]
    },
    {
      "cell_type": "markdown",
      "metadata": {
      },
      "source": [
        "Für unsere UND-Gatter-Schaltung benötigen wir ein Backend mit drei oder mehr Qubits, was für alle realen Systeme außer für `ibmq_armonk` . Nachfolgend finden Sie ein Beispiel zum Filtern von Backends, bei dem wir nach der Anzahl der Qubits filtern und Simulatoren entfernen:"
      ]
    },
    {
      "cell_type": "code",
      "execution_count": 8,
      "metadata": {
        "tags": [
          "uses-hardware"
        ]
      },
      "outputs": [

      ],
      "source": [
        "backends = provider.backends(filters = lambda x:x.configuration().n_qubits >= 2 and not x.configuration().simulator\n",
        "                             and x.status().operational==True)\n",
        "backends"
      ]
    },
    {
      "cell_type": "markdown",
      "metadata": {
      },
      "source": [
        "Eine praktische Möglichkeit, ein System auszuwählen, ist die Verwendung der `least_busy` Funktion, um das Backend mit der niedrigsten Anzahl von Jobs in der Warteschlange zu erhalten. Der Nachteil ist, dass das Ergebnis möglicherweise eine relativ schlechte Genauigkeit aufweist, da, nicht überraschend, die Systeme mit der niedrigsten Fehlerrate am beliebtesten sind."
      ]
    },
    {
      "cell_type": "code",
      "execution_count": 17,
      "metadata": {
        "tags": [
          "uses-hardware"
        ]
      },
      "outputs": [

      ],
      "source": [
        "from qiskit.providers.ibmq import least_busy\n",
        "backend = least_busy(provider.backends(filters=lambda x: x.configuration().n_qubits >= 2 and \n",
        "                                        not x.configuration().simulator and x.status().operational==True))\n",
        "backend"
      ]
    },
    {
      "cell_type": "markdown",
      "metadata": {
      },
      "source": [
        "Echte Quantencomputer müssen regelmäßig neu kalibriert werden, und die Genauigkeit eines bestimmten Qubits oder Gates kann sich im Laufe der Zeit ändern. Daher kann variieren, welches System Ergebnisse mit weniger Fehlern erzeugen würde. `ibmq_athens` tendenziell relativ niedrige Fehlerraten auf.\n",
        "\n",
        "In dieser Übung wählen wir zwei Systeme aus: `ibmq_athens` wegen seiner niedrigen Fehlerraten und `ibmqx2` wegen seiner zusätzlichen Konnektivität, insbesondere seiner dreieckigen Konnektivität, die für Schaltungen mit Toffoli-Gattern nützlich sein wird."
      ]
    },
    {
      "cell_type": "code",
      "execution_count": 5,
      "metadata": {
        "tags": [
          "uses-hardware"
        ]
      },
      "outputs": [

      ],
      "source": [
        "# run this cell\n",
        "backend1 = provider.get_backend('ibmqx2')\n",
        "backend2 = provider.get_backend('ibmq_athens')"
      ]
    },
    {
      "cell_type": "markdown",
      "metadata": {
      },
      "source": [
        "<h3 style=\"font-size: 20px\">Schritt 2. Definieren Sie die UND-Funktion für ein reales Gerät</h3>\n",
        "\n",
        "Wir definieren nun die UND-Funktion. Wir wählen 8192 als Anzahl der Aufnahmen, die maximale Anzahl der Aufnahmen für offene IBM-Systeme, um die Streuung im Endergebnis zu reduzieren. Verwandte Informationen sind [hier](https://quantum-computing.ibm.com/docs/manage/backends/configuration) gut erklärt"
      ]
    },
    {
      "cell_type": "markdown",
      "metadata": {
      },
      "source": [
        "<h4 style=\"font-size: 16px\">Qiskit-Transpiler</h4>"
      ]
    },
    {
      "cell_type": "markdown",
      "metadata": {
      },
      "source": [
        "Es ist wichtig zu wissen, dass beim Ausführen einer Schaltung auf einem echten Quantencomputer normalerweise Schaltungen für das von Ihnen ausgewählte Backend transpiliert werden müssen, damit die Schaltung nur die Gatter enthält, die der Quantencomputer tatsächlich ausführen kann. Dies beinhaltet in erster Linie das Hinzufügen von Swap-Gates, sodass Zwei-Qubit-Gates in der Schaltung auf die Qubit-Paare auf dem Gerät abgebildet werden, die diese Gates tatsächlich ausführen können. Die folgende Zelle zeigt das UND-Gatter, dargestellt als Toffoli-Gatter, zerlegt in Einzel- und Zwei-Qubit-Gatter, die die einzigen Gattertypen sind, die auf IBM-Hardware ausgeführt werden können. Vorausgesetzt, dass CNOT-Gatter zwischen allen drei Qubits, einer Dreieckstopologie, ausgeführt werden können, sind keine anderen Gatter erforderlich."
      ]
    },
    {
      "cell_type": "code",
      "execution_count": 4,
      "metadata": {
      },
      "outputs": [
        {
          "name": "stdout",
          "output_type": "stream",
          "text": [
            "AND gate\n"
          ]
        },
        {
          "data": {
            "image/svg+xml": [
              "<?xml version=\"1.0\" encoding=\"UTF-8\"?><!DOCTYPE svg  PUBLIC '-//W3C//DTD SVG 1.1//EN'  'http://www.w3.org/Graphics/SVG/1.1/DTD/svg11.dtd'><svg width=\"125.23pt\" height=\"168.93pt\" version=\"1.1\" viewBox=\"0 0 125.23 168.93\" xmlns=\"http://www.w3.org/2000/svg\" xmlns:xlink=\"http://www.w3.org/1999/xlink\"><defs><style type=\"text/css\">*{stroke-linecap:butt;stroke-linejoin:round;}</style></defs><path d=\"m0 168.93h125.23v-168.93h-125.23z\" fill=\"#ffffff\"/><path d=\"m63.491 43.561h49.996\" clip-path=\"url(#pf9a6b12631)\" fill=\"none\" stroke=\"#000000\" stroke-linecap=\"square\" stroke-width=\"2\"/><path d=\"m63.491 89.012h49.996\" clip-path=\"url(#pf9a6b12631)\" fill=\"none\" stroke=\"#000000\" stroke-linecap=\"square\" stroke-width=\"2\"/><path d=\"m63.491 134.46h49.996\" clip-path=\"url(#pf9a6b12631)\" fill=\"none\" stroke=\"#000000\" stroke-linecap=\"square\" stroke-width=\"2\"/><path d=\"m88.034 134.46v-90.902\" clip-path=\"url(#pf9a6b12631)\" fill=\"none\" stroke=\"#bb8bff\" stroke-linecap=\"square\" stroke-width=\"2\"/><path d=\"m88.034 47.992c1.1752 0 2.3025-0.46693 3.1335-1.2979 0.83102-0.83102 1.2979-1.9583 1.2979-3.1335s-0.46693-2.3025-1.2979-3.1335c-0.83102-0.83102-1.9583-1.2979-3.1335-1.2979s-2.3025 0.46693-3.1335 1.2979c-0.83102 0.83102-1.2979 1.9583-1.2979 3.1335s0.46693 2.3025 1.2979 3.1335c0.83102 0.83102 1.9583 1.2979 3.1335 1.2979z\" clip-path=\"url(#pf9a6b12631)\" fill=\"#bb8bff\" stroke=\"#bb8bff\" stroke-width=\"1.5\"/><path d=\"m88.034 93.443c1.1752 0 2.3025-0.46693 3.1335-1.2979 0.83102-0.83102 1.2979-1.9583 1.2979-3.1335s-0.46693-2.3025-1.2979-3.1335c-0.83102-0.83102-1.9583-1.2979-3.1335-1.2979s-2.3025 0.46693-3.1335 1.2979c-0.83102 0.83102-1.2979 1.9583-1.2979 3.1335s0.46693 2.3025 1.2979 3.1335c0.83102 0.83102 1.9583 1.2979 3.1335 1.2979z\" clip-path=\"url(#pf9a6b12631)\" fill=\"#bb8bff\" stroke=\"#bb8bff\" stroke-width=\"1.5\"/><path d=\"m88.034 144.8c2.7422 0 5.3725-1.0895 7.3116-3.0285 1.939-1.939 3.0285-4.5693 3.0285-7.3116s-1.0895-5.3725-3.0285-7.3116c-1.939-1.939-4.5693-3.0285-7.3116-3.0285s-5.3725 1.0895-7.3116 3.0285c-1.939 1.939-3.0285 4.5693-3.0285 7.3116s1.0895 5.3725 3.0285 7.3116c1.939 1.939 4.5693 3.0285 7.3116 3.0285z\" clip-path=\"url(#pf9a6b12631)\" fill=\"#bb8bff\" stroke=\"#bb8bff\" stroke-width=\"2\"/><path d=\"m88.034 140.37v-11.817\" clip-path=\"url(#pf9a6b12631)\" fill=\"none\" stroke=\"#ffffff\" stroke-linecap=\"square\" stroke-width=\"2\"/><path d=\"m82.126 134.46h11.817\" clip-path=\"url(#pf9a6b12631)\" fill=\"none\" stroke=\"#ffffff\" stroke-linecap=\"square\" stroke-width=\"2\"/><g clip-path=\"url(#pf9a6b12631)\"><defs><path id=\"DejaVuSans-Oblique-113\" d=\"m41.703 8.2031q-3.6094-4.7344-8.5312-7.1875-4.9062-2.4375-10.859-2.4375-8.2969 0-13.016 5.5938-4.7031 5.5938-4.7031 15.406 0 7.9062 2.9062 15.281t8.3281 13.234q3.5156 3.8125 8.0781 5.8594t9.5938 2.0469q6.0469 0 9.9531-2.3906t5.6719-7.2188l1.5625 8.2031h9.0312l-14.594-75.203h-9.0469zm-27.781 12.703q0-7.2344 3.0156-11.016 3.0312-3.7812 8.75-3.7812 8.5 0 14.5 8.125t6 19.75q0 7.0312-3.1094 10.766-3.0938 3.7344-8.8906 3.7344-4.25 0-7.875-1.9844-3.6094-1.9688-6.2969-5.7812-2.8281-4-4.4688-9.375-1.625-5.3594-1.625-10.438z\"/><path id=\"DejaVuSans-48\" d=\"m31.781 66.406q-7.6094 0-11.453-7.5-3.8281-7.4844-3.8281-22.531 0-14.984 3.8281-22.484 3.8438-7.5 11.453-7.5 7.6719 0 11.5 7.5 3.8438 7.5 3.8438 22.484 0 15.047-3.8438 22.531-3.8281 7.5-11.5 7.5zm0 7.8125q12.266 0 18.734-9.7031 6.4688-9.6875 6.4688-28.141 0-18.406-6.4688-28.109-6.4688-9.6875-18.734-9.6875-12.25 0-18.719 9.6875-6.4688 9.7031-6.4688 28.109 0 18.453 6.4688 28.141 6.4688 9.7031 18.719 9.7031z\"/></defs><g transform=\"translate(36.363 48.012) scale(.1625 -.1625)\"><use xlink:href=\"#DejaVuSans-Oblique-113\"/><use transform=\"translate(63.477 -16.406) scale(.7)\" xlink:href=\"#DejaVuSans-48\"/></g></g><g clip-path=\"url(#pf9a6b12631)\"><defs><path id=\"DejaVuSans-49\" d=\"m12.406 8.2969h16.109v55.625l-17.531-3.5156v8.9844l17.438 3.5156h9.8594v-64.609h16.109v-8.2969h-41.984z\"/></defs><g transform=\"translate(36.363 93.463) scale(.1625 -.1625)\"><use xlink:href=\"#DejaVuSans-Oblique-113\"/><use transform=\"translate(63.477 -16.406) scale(.7)\" xlink:href=\"#DejaVuSans-49\"/></g></g><g clip-path=\"url(#pf9a6b12631)\"><defs><path id=\"DejaVuSans-50\" d=\"m19.188 8.2969h34.422v-8.2969h-46.281v8.2969q5.6094 5.8125 15.297 15.594 9.7031 9.7969 12.188 12.641 4.7344 5.3125 6.6094 9 1.8906 3.6875 1.8906 7.25 0 5.8125-4.0781 9.4688-4.0781 3.6719-10.625 3.6719-4.6406 0-9.7969-1.6094-5.1406-1.6094-11-4.8906v9.9688q5.9531 2.3906 11.125 3.6094 5.1875 1.2188 9.4844 1.2188 11.328 0 18.062-5.6719 6.7344-5.6562 6.7344-15.125 0-4.5-1.6875-8.5312-1.6719-4.0156-6.125-9.4844-1.2188-1.4219-7.7656-8.1875-6.5312-6.7656-18.453-18.922z\"/></defs><g transform=\"translate(36.363 138.91) scale(.1625 -.1625)\"><use xlink:href=\"#DejaVuSans-Oblique-113\"/><use transform=\"translate(63.477 -16.406) scale(.7)\" xlink:href=\"#DejaVuSans-50\"/></g></g><defs><clipPath id=\"pf9a6b12631\"><rect x=\"7.2\" y=\"7.2\" width=\"110.83\" height=\"154.53\"/></clipPath></defs></svg>"
            ],
            "text/plain": [
              "<Figure size 146.797x204.68 with 1 Axes>"
            ]
          },
          "metadata": {
          },
          "output_type": "display_data"
        },
        {
          "name": "stdout",
          "output_type": "stream",
          "text": [
            "\n",
            "\n",
            "Transpiled AND gate with all the reqiured connectiviy\n"
          ]
        },
        {
          "data": {
            "image/svg+xml": [
              "<?xml version=\"1.0\" encoding=\"UTF-8\"?><!DOCTYPE svg  PUBLIC '-//W3C//DTD SVG 1.1//EN'  'http://www.w3.org/Graphics/SVG/1.1/DTD/svg11.dtd'><svg width=\"579.74pt\" height=\"168.93pt\" version=\"1.1\" viewBox=\"0 0 579.74 168.93\" xmlns=\"http://www.w3.org/2000/svg\" xmlns:xlink=\"http://www.w3.org/1999/xlink\"><defs><style type=\"text/css\">*{stroke-linecap:butt;stroke-linejoin:round;}</style></defs><path d=\"m0 168.93h579.74v-168.93h-579.74z\" fill=\"#ffffff\"/><path d=\"m63.491 43.561h504.51\" clip-path=\"url(#p989a34590e)\" fill=\"none\" stroke=\"#000000\" stroke-linecap=\"square\" stroke-width=\"2\"/><path d=\"m63.491 89.012h504.51\" clip-path=\"url(#p989a34590e)\" fill=\"none\" stroke=\"#000000\" stroke-linecap=\"square\" stroke-width=\"2\"/><path d=\"m63.491 134.46h504.51\" clip-path=\"url(#p989a34590e)\" fill=\"none\" stroke=\"#000000\" stroke-linecap=\"square\" stroke-width=\"2\"/><path d=\"m133.49 134.46v-45.451\" clip-path=\"url(#p989a34590e)\" fill=\"none\" stroke=\"#6fa4ff\" stroke-linecap=\"square\" stroke-width=\"2\"/><path d=\"m224.39 134.46v-90.902\" clip-path=\"url(#p989a34590e)\" fill=\"none\" stroke=\"#6fa4ff\" stroke-linecap=\"square\" stroke-width=\"2\"/><path d=\"m315.29 134.46v-45.451\" clip-path=\"url(#p989a34590e)\" fill=\"none\" stroke=\"#6fa4ff\" stroke-linecap=\"square\" stroke-width=\"2\"/><path d=\"m406.19 134.46v-90.902\" clip-path=\"url(#p989a34590e)\" fill=\"none\" stroke=\"#6fa4ff\" stroke-linecap=\"square\" stroke-width=\"2\"/><path d=\"m451.64 89.012v-45.451\" clip-path=\"url(#p989a34590e)\" fill=\"none\" stroke=\"#6fa4ff\" stroke-linecap=\"square\" stroke-width=\"2\"/><path d=\"m542.54 89.012v-45.451\" clip-path=\"url(#p989a34590e)\" fill=\"none\" stroke=\"#6fa4ff\" stroke-linecap=\"square\" stroke-width=\"2\"/><path d=\"m73.263 149.23h29.543v-29.543h-29.543z\" clip-path=\"url(#p989a34590e)\" fill=\"#6fa4ff\" stroke=\"#6fa4ff\" stroke-width=\"1.5\"/><path d=\"m133.49 93.443c1.1752 0 2.3025-0.46693 3.1335-1.2979 0.83102-0.83102 1.2979-1.9583 1.2979-3.1335s-0.46693-2.3025-1.2979-3.1335c-0.83102-0.83102-1.9583-1.2979-3.1335-1.2979s-2.3025 0.46693-3.1335 1.2979c-0.83102 0.83102-1.2979 1.9583-1.2979 3.1335s0.46693 2.3025 1.2979 3.1335c0.83102 0.83102 1.9583 1.2979 3.1335 1.2979z\" clip-path=\"url(#p989a34590e)\" fill=\"#6fa4ff\" stroke=\"#6fa4ff\" stroke-width=\"1.5\"/><path d=\"m133.49 144.8c2.7422 0 5.3725-1.0895 7.3116-3.0285 1.939-1.939 3.0285-4.5693 3.0285-7.3116s-1.0895-5.3725-3.0285-7.3116c-1.939-1.939-4.5693-3.0285-7.3116-3.0285s-5.3725 1.0895-7.3116 3.0285c-1.939 1.939-3.0285 4.5693-3.0285 7.3116s1.0895 5.3725 3.0285 7.3116c1.939 1.939 4.5693 3.0285 7.3116 3.0285z\" clip-path=\"url(#p989a34590e)\" fill=\"#6fa4ff\" stroke=\"#6fa4ff\" stroke-width=\"2\"/><path d=\"m164.16 149.23h29.543v-29.543h-29.543z\" clip-path=\"url(#p989a34590e)\" fill=\"#bb8bff\" stroke=\"#bb8bff\" stroke-width=\"1.5\"/><path d=\"m224.39 47.992c1.1752 0 2.3025-0.46693 3.1335-1.2979 0.83102-0.83102 1.2979-1.9583 1.2979-3.1335s-0.46693-2.3025-1.2979-3.1335c-0.83102-0.83102-1.9583-1.2979-3.1335-1.2979s-2.3025 0.46693-3.1335 1.2979c-0.83102 0.83102-1.2979 1.9583-1.2979 3.1335s0.46693 2.3025 1.2979 3.1335c0.83102 0.83102 1.9583 1.2979 3.1335 1.2979z\" clip-path=\"url(#p989a34590e)\" fill=\"#6fa4ff\" stroke=\"#6fa4ff\" stroke-width=\"1.5\"/><path d=\"m224.39 144.8c2.7422 0 5.3725-1.0895 7.3116-3.0285 1.939-1.939 3.0285-4.5693 3.0285-7.3116s-1.0895-5.3725-3.0285-7.3116c-1.939-1.939-4.5693-3.0285-7.3116-3.0285s-5.3725 1.0895-7.3116 3.0285c-1.939 1.939-3.0285 4.5693-3.0285 7.3116s1.0895 5.3725 3.0285 7.3116c1.939 1.939 4.5693 3.0285 7.3116 3.0285z\" clip-path=\"url(#p989a34590e)\" fill=\"#6fa4ff\" stroke=\"#6fa4ff\" stroke-width=\"2\"/><path d=\"m255.07 149.23h29.543v-29.543h-29.543z\" clip-path=\"url(#p989a34590e)\" fill=\"#bb8bff\" stroke=\"#bb8bff\" stroke-width=\"1.5\"/><path d=\"m315.29 93.443c1.1752 0 2.3025-0.46693 3.1335-1.2979 0.83102-0.83102 1.2979-1.9583 1.2979-3.1335s-0.46693-2.3025-1.2979-3.1335c-0.83102-0.83102-1.9583-1.2979-3.1335-1.2979s-2.3025 0.46693-3.1335 1.2979c-0.83102 0.83102-1.2979 1.9583-1.2979 3.1335s0.46693 2.3025 1.2979 3.1335c0.83102 0.83102 1.9583 1.2979 3.1335 1.2979z\" clip-path=\"url(#p989a34590e)\" fill=\"#6fa4ff\" stroke=\"#6fa4ff\" stroke-width=\"1.5\"/><path d=\"m315.29 144.8c2.7422 0 5.3725-1.0895 7.3116-3.0285 1.939-1.939 3.0285-4.5693 3.0285-7.3116s-1.0895-5.3725-3.0285-7.3116c-1.939-1.939-4.5693-3.0285-7.3116-3.0285s-5.3725 1.0895-7.3116 3.0285c-1.939 1.939-3.0285 4.5693-3.0285 7.3116s1.0895 5.3725 3.0285 7.3116c1.939 1.939 4.5693 3.0285 7.3116 3.0285z\" clip-path=\"url(#p989a34590e)\" fill=\"#6fa4ff\" stroke=\"#6fa4ff\" stroke-width=\"2\"/><path d=\"m345.97 103.78h29.543v-29.543h-29.543z\" clip-path=\"url(#p989a34590e)\" fill=\"#bb8bff\" stroke=\"#bb8bff\" stroke-width=\"1.5\"/><path d=\"m345.97 149.23h29.543v-29.543h-29.543z\" clip-path=\"url(#p989a34590e)\" fill=\"#bb8bff\" stroke=\"#bb8bff\" stroke-width=\"1.5\"/><path d=\"m406.19 47.992c1.1752 0 2.3025-0.46693 3.1335-1.2979 0.83102-0.83102 1.2979-1.9583 1.2979-3.1335s-0.46693-2.3025-1.2979-3.1335c-0.83102-0.83102-1.9583-1.2979-3.1335-1.2979s-2.3025 0.46693-3.1335 1.2979c-0.83102 0.83102-1.2979 1.9583-1.2979 3.1335s0.46693 2.3025 1.2979 3.1335c0.83102 0.83102 1.9583 1.2979 3.1335 1.2979z\" clip-path=\"url(#p989a34590e)\" fill=\"#6fa4ff\" stroke=\"#6fa4ff\" stroke-width=\"1.5\"/><path d=\"m406.19 144.8c2.7422 0 5.3725-1.0895 7.3116-3.0285 1.939-1.939 3.0285-4.5693 3.0285-7.3116s-1.0895-5.3725-3.0285-7.3116c-1.939-1.939-4.5693-3.0285-7.3116-3.0285s-5.3725 1.0895-7.3116 3.0285c-1.939 1.939-3.0285 4.5693-3.0285 7.3116s1.0895 5.3725 3.0285 7.3116c1.939 1.939 4.5693 3.0285 7.3116 3.0285z\" clip-path=\"url(#p989a34590e)\" fill=\"#6fa4ff\" stroke=\"#6fa4ff\" stroke-width=\"2\"/><path d=\"m451.64 47.992c1.1752 0 2.3025-0.46693 3.1335-1.2979 0.83102-0.83102 1.2979-1.9583 1.2979-3.1335s-0.46693-2.3025-1.2979-3.1335c-0.83102-0.83102-1.9583-1.2979-3.1335-1.2979s-2.3025 0.46693-3.1335 1.2979c-0.83102 0.83102-1.2979 1.9583-1.2979 3.1335s0.46693 2.3025 1.2979 3.1335c0.83102 0.83102 1.9583 1.2979 3.1335 1.2979z\" clip-path=\"url(#p989a34590e)\" fill=\"#6fa4ff\" stroke=\"#6fa4ff\" stroke-width=\"1.5\"/><path d=\"m451.64 99.352c2.7422 0 5.3725-1.0895 7.3116-3.0285 1.939-1.939 3.0285-4.5693 3.0285-7.3116s-1.0895-5.3725-3.0285-7.3116c-1.939-1.939-4.5693-3.0285-7.3116-3.0285s-5.3725 1.0895-7.3116 3.0285c-1.939 1.939-3.0285 4.5693-3.0285 7.3116s1.0895 5.3725 3.0285 7.3116c1.939 1.939 4.5693 3.0285 7.3116 3.0285z\" clip-path=\"url(#p989a34590e)\" fill=\"#6fa4ff\" stroke=\"#6fa4ff\" stroke-width=\"2\"/><path d=\"m436.87 149.23h29.543v-29.543h-29.543z\" clip-path=\"url(#p989a34590e)\" fill=\"#bb8bff\" stroke=\"#bb8bff\" stroke-width=\"1.5\"/><path d=\"m482.32 58.332h29.543v-29.543h-29.543z\" clip-path=\"url(#p989a34590e)\" fill=\"#bb8bff\" stroke=\"#bb8bff\" stroke-width=\"1.5\"/><path d=\"m482.32 103.78h29.543v-29.543h-29.543z\" clip-path=\"url(#p989a34590e)\" fill=\"#bb8bff\" stroke=\"#bb8bff\" stroke-width=\"1.5\"/><path d=\"m482.32 149.23h29.543v-29.543h-29.543z\" clip-path=\"url(#p989a34590e)\" fill=\"#6fa4ff\" stroke=\"#6fa4ff\" stroke-width=\"1.5\"/><path d=\"m542.54 47.992c1.1752 0 2.3025-0.46693 3.1335-1.2979 0.83102-0.83102 1.2979-1.9583 1.2979-3.1335s-0.46693-2.3025-1.2979-3.1335c-0.83102-0.83102-1.9583-1.2979-3.1335-1.2979s-2.3025 0.46693-3.1335 1.2979c-0.83102 0.83102-1.2979 1.9583-1.2979 3.1335s0.46693 2.3025 1.2979 3.1335c0.83102 0.83102 1.9583 1.2979 3.1335 1.2979z\" clip-path=\"url(#p989a34590e)\" fill=\"#6fa4ff\" stroke=\"#6fa4ff\" stroke-width=\"1.5\"/><path d=\"m542.54 99.352c2.7422 0 5.3725-1.0895 7.3116-3.0285 1.939-1.939 3.0285-4.5693 3.0285-7.3116s-1.0895-5.3725-3.0285-7.3116c-1.939-1.939-4.5693-3.0285-7.3116-3.0285s-5.3725 1.0895-7.3116 3.0285c-1.939 1.939-3.0285 4.5693-3.0285 7.3116s1.0895 5.3725 3.0285 7.3116c1.939 1.939 4.5693 3.0285 7.3116 3.0285z\" clip-path=\"url(#p989a34590e)\" fill=\"#6fa4ff\" stroke=\"#6fa4ff\" stroke-width=\"2\"/><path d=\"m133.49 140.37v-11.817\" clip-path=\"url(#p989a34590e)\" fill=\"none\" stroke=\"#ffffff\" stroke-linecap=\"square\" stroke-width=\"2\"/><path d=\"m127.58 134.46h11.817\" clip-path=\"url(#p989a34590e)\" fill=\"none\" stroke=\"#ffffff\" stroke-linecap=\"square\" stroke-width=\"2\"/><path d=\"m224.39 140.37v-11.817\" clip-path=\"url(#p989a34590e)\" fill=\"none\" stroke=\"#ffffff\" stroke-linecap=\"square\" stroke-width=\"2\"/><path d=\"m218.48 134.46h11.817\" clip-path=\"url(#p989a34590e)\" fill=\"none\" stroke=\"#ffffff\" stroke-linecap=\"square\" stroke-width=\"2\"/><path d=\"m315.29 140.37v-11.817\" clip-path=\"url(#p989a34590e)\" fill=\"none\" stroke=\"#ffffff\" stroke-linecap=\"square\" stroke-width=\"2\"/><path d=\"m309.38 134.46h11.817\" clip-path=\"url(#p989a34590e)\" fill=\"none\" stroke=\"#ffffff\" stroke-linecap=\"square\" stroke-width=\"2\"/><path d=\"m406.19 140.37v-11.817\" clip-path=\"url(#p989a34590e)\" fill=\"none\" stroke=\"#ffffff\" stroke-linecap=\"square\" stroke-width=\"2\"/><path d=\"m400.28 134.46h11.817\" clip-path=\"url(#p989a34590e)\" fill=\"none\" stroke=\"#ffffff\" stroke-linecap=\"square\" stroke-width=\"2\"/><path d=\"m451.64 94.92v-11.817\" clip-path=\"url(#p989a34590e)\" fill=\"none\" stroke=\"#ffffff\" stroke-linecap=\"square\" stroke-width=\"2\"/><path d=\"m445.73 89.012h11.817\" clip-path=\"url(#p989a34590e)\" fill=\"none\" stroke=\"#ffffff\" stroke-linecap=\"square\" stroke-width=\"2\"/><path d=\"m542.54 94.92v-11.817\" clip-path=\"url(#p989a34590e)\" fill=\"none\" stroke=\"#ffffff\" stroke-linecap=\"square\" stroke-width=\"2\"/><path d=\"m536.64 89.012h11.817\" clip-path=\"url(#p989a34590e)\" fill=\"none\" stroke=\"#ffffff\" stroke-linecap=\"square\" stroke-width=\"2\"/><g clip-path=\"url(#p989a34590e)\"><defs><path id=\"DejaVuSans-72\" d=\"m9.8125 72.906h9.8594v-29.891h35.844v29.891h9.8594v-72.906h-9.8594v34.719h-35.844v-34.719h-9.8594z\"/></defs><g transform=\"translate(83.146 138.05) scale(.13 -.13)\"><use xlink:href=\"#DejaVuSans-72\"/></g></g><g clip-path=\"url(#p989a34590e)\"><defs><path id=\"DejaVuSans-84\" d=\"m-0.29688 72.906h61.672v-8.3125h-25.875v-64.594h-9.9062v64.594h-25.891z\"/><path id=\"DejaVuSans-8224\" d=\"m20.703 72.906h8.5938v-20.516h17.922v-7.4688h-17.922v-54.547h-8.5938v54.547h-17.922v7.4688h17.922z\"/></defs><g transform=\"translate(170.62 138.05) scale(.13 -.13)\"><use transform=\"translate(0 .68438)\" xlink:href=\"#DejaVuSans-84\"/><use transform=\"translate(75.679 38.966) scale(.7)\" xlink:href=\"#DejaVuSans-8224\"/></g></g><g clip-path=\"url(#p989a34590e)\"><g transform=\"translate(265.87 138.05) scale(.13 -.13)\"><use xlink:href=\"#DejaVuSans-84\"/></g></g><g clip-path=\"url(#p989a34590e)\"><g transform=\"translate(356.77 92.599) scale(.13 -.13)\"><use xlink:href=\"#DejaVuSans-84\"/></g></g><g clip-path=\"url(#p989a34590e)\"><g transform=\"translate(352.42 138.05) scale(.13 -.13)\"><use transform=\"translate(0 .68438)\" xlink:href=\"#DejaVuSans-84\"/><use transform=\"translate(75.679 38.966) scale(.7)\" xlink:href=\"#DejaVuSans-8224\"/></g></g><g clip-path=\"url(#p989a34590e)\"><g transform=\"translate(447.67 138.05) scale(.13 -.13)\"><use xlink:href=\"#DejaVuSans-84\"/></g></g><g clip-path=\"url(#p989a34590e)\"><g transform=\"translate(493.12 47.148) scale(.13 -.13)\"><use xlink:href=\"#DejaVuSans-84\"/></g></g><g clip-path=\"url(#p989a34590e)\"><g transform=\"translate(488.77 92.599) scale(.13 -.13)\"><use transform=\"translate(0 .68438)\" xlink:href=\"#DejaVuSans-84\"/><use transform=\"translate(75.679 38.966) scale(.7)\" xlink:href=\"#DejaVuSans-8224\"/></g></g><g clip-path=\"url(#p989a34590e)\"><g transform=\"translate(492.21 138.05) scale(.13 -.13)\"><use xlink:href=\"#DejaVuSans-72\"/></g></g><g clip-path=\"url(#p989a34590e)\"><defs><path id=\"DejaVuSans-Oblique-113\" d=\"m41.703 8.2031q-3.6094-4.7344-8.5312-7.1875-4.9062-2.4375-10.859-2.4375-8.2969 0-13.016 5.5938-4.7031 5.5938-4.7031 15.406 0 7.9062 2.9062 15.281t8.3281 13.234q3.5156 3.8125 8.0781 5.8594t9.5938 2.0469q6.0469 0 9.9531-2.3906t5.6719-7.2188l1.5625 8.2031h9.0312l-14.594-75.203h-9.0469zm-27.781 12.703q0-7.2344 3.0156-11.016 3.0312-3.7812 8.75-3.7812 8.5 0 14.5 8.125t6 19.75q0 7.0312-3.1094 10.766-3.0938 3.7344-8.8906 3.7344-4.25 0-7.875-1.9844-3.6094-1.9688-6.2969-5.7812-2.8281-4-4.4688-9.375-1.625-5.3594-1.625-10.438z\"/><path id=\"DejaVuSans-48\" d=\"m31.781 66.406q-7.6094 0-11.453-7.5-3.8281-7.4844-3.8281-22.531 0-14.984 3.8281-22.484 3.8438-7.5 11.453-7.5 7.6719 0 11.5 7.5 3.8438 7.5 3.8438 22.484 0 15.047-3.8438 22.531-3.8281 7.5-11.5 7.5zm0 7.8125q12.266 0 18.734-9.7031 6.4688-9.6875 6.4688-28.141 0-18.406-6.4688-28.109-6.4688-9.6875-18.734-9.6875-12.25 0-18.719 9.6875-6.4688 9.7031-6.4688 28.109 0 18.453 6.4688 28.141 6.4688 9.7031 18.719 9.7031z\"/></defs><g transform=\"translate(36.363 48.012) scale(.1625 -.1625)\"><use xlink:href=\"#DejaVuSans-Oblique-113\"/><use transform=\"translate(63.477 -16.406) scale(.7)\" xlink:href=\"#DejaVuSans-48\"/></g></g><g clip-path=\"url(#p989a34590e)\"><defs><path id=\"DejaVuSans-49\" d=\"m12.406 8.2969h16.109v55.625l-17.531-3.5156v8.9844l17.438 3.5156h9.8594v-64.609h16.109v-8.2969h-41.984z\"/></defs><g transform=\"translate(36.363 93.463) scale(.1625 -.1625)\"><use xlink:href=\"#DejaVuSans-Oblique-113\"/><use transform=\"translate(63.477 -16.406) scale(.7)\" xlink:href=\"#DejaVuSans-49\"/></g></g><g clip-path=\"url(#p989a34590e)\"><defs><path id=\"DejaVuSans-50\" d=\"m19.188 8.2969h34.422v-8.2969h-46.281v8.2969q5.6094 5.8125 15.297 15.594 9.7031 9.7969 12.188 12.641 4.7344 5.3125 6.6094 9 1.8906 3.6875 1.8906 7.25 0 5.8125-4.0781 9.4688-4.0781 3.6719-10.625 3.6719-4.6406 0-9.7969-1.6094-5.1406-1.6094-11-4.8906v9.9688q5.9531 2.3906 11.125 3.6094 5.1875 1.2188 9.4844 1.2188 11.328 0 18.062-5.6719 6.7344-5.6562 6.7344-15.125 0-4.5-1.6875-8.5312-1.6719-4.0156-6.125-9.4844-1.2188-1.4219-7.7656-8.1875-6.5312-6.7656-18.453-18.922z\"/></defs><g transform=\"translate(36.363 138.91) scale(.1625 -.1625)\"><use xlink:href=\"#DejaVuSans-Oblique-113\"/><use transform=\"translate(63.477 -16.406) scale(.7)\" xlink:href=\"#DejaVuSans-50\"/></g></g><defs><clipPath id=\"p989a34590e\"><rect x=\"7.2\" y=\"7.2\" width=\"565.34\" height=\"154.53\"/></clipPath></defs></svg>"
            ],
            "text/plain": [
              "<Figure size 748.797x204.68 with 1 Axes>"
            ]
          },
          "execution_count": 4,
          "metadata": {
          },
          "output_type": "execute_result"
        }
      ],
      "source": [
        "qc_and = QuantumCircuit(3)\n",
        "qc_and.ccx(0,1,2)\n",
        "print('AND gate')\n",
        "display(qc_and.draw())\n",
        "print('\\n\\nTranspiled AND gate with all the reqiured connectiviy')\n",
        "qc_and.decompose().draw()"
      ]
    },
    {
      "cell_type": "markdown",
      "metadata": {
      },
      "source": [
        "Darüber hinaus gibt es häufig Optimierungen, die der Transpiler durchführen kann, um die Gesamtanzahl der Gates und damit die Gesamtlänge der Eingangsschaltungen zu reduzieren. Beachten Sie, dass das Hinzufügen von Swaps zum Anpassen an die Gerätetopologie und Optimierungen zum Reduzieren der Länge einer Schaltung miteinander im Widerspruch stehen. Im Folgenden verwenden wir `initial_layout` , das es uns ermöglicht, die Qubits auf einem Gerät auszuwählen, das für die Berechnung und das `optimization_level` verwendet wird, ein Argument, das die Auswahl aus internen Standardwerten für die Schaltungstauschzuordnung und durchzuführende Optimierungsmethoden ermöglicht.\n",
        "\n",
        "Hier können Sie mehr über die Transpile-Funktion [erfahren](https://qiskit.org/documentation/apidoc/transpiler.html) ."
      ]
    },
    {
      "cell_type": "markdown",
      "metadata": {
      },
      "source": [
        "Lassen Sie uns die UND-Funktion in Teil 1 für das reale System mit dem enthaltenen Transpile-Schritt richtig modifizieren."
      ]
    },
    {
      "cell_type": "code",
      "execution_count": null,
      "metadata": {
        "tags": [
          "uses-hardware"
        ]
      },
      "outputs": [

      ],
      "source": [
        "from qiskit.tools.monitor import job_monitor"
      ]
    },
    {
      "cell_type": "code",
      "execution_count": 6,
      "metadata": {
        "tags": [
          "uses-hardware"
        ]
      },
      "outputs": [

      ],
      "source": [
        "# run the cell to define AND gate for real quantum system\n",
        "\n",
        "def AND(inp1, inp2, backend, layout):\n",
        "    \n",
        "    qc = QuantumCircuit(3, 1) \n",
        "    qc.reset(range(3))\n",
        "    \n",
        "    if inp1=='1':\n",
        "        qc.x(0)\n",
        "    if inp2=='1':\n",
        "        qc.x(1)\n",
        "        \n",
        "    qc.barrier()\n",
        "    qc.ccx(0, 1, 2) \n",
        "    qc.barrier()\n",
        "    qc.measure(2, 0) \n",
        "  \n",
        "    qc_trans = transpile(qc, backend, initial_layout=layout, optimization_level=3)\n",
        "    job = execute(qc_trans, backend, shots=8192)\n",
        "    print(job.job_id())\n",
        "    job_monitor(job)\n",
        "    \n",
        "    output = job.result().get_counts()\n",
        "    \n",
        "    return qc_trans, output"
      ]
    },
    {
      "cell_type": "markdown",
      "metadata": {
      },
      "source": [
        "Wenn Sie Jobs an Quantensysteme senden, beginnt `job_monitor` mit der Verfolgung, wo sich Ihr gesendeter Job in der Pipeline befindet."
      ]
    },
    {
      "cell_type": "markdown",
      "metadata": {
      },
      "source": [
        "<h4 style=\"font-size: 16px\">Fall A) Drei Qubits auf <code>ibmqx2</code> mit der Dreieckskonnektivität</h4>\n",
        "\n",
        "Untersuchen `ibmqx2` mit dem zuvor vorgestellten Widget. Finden Sie eine Gruppe von drei Qubits mit Dreiecksverbindung und bestimmen Sie Ihr anfängliches Layout."
      ]
    },
    {
      "cell_type": "code",
      "execution_count": 61,
      "metadata": {
        "tags": [
          "uses-hardware"
        ]
      },
      "outputs": [

      ],
      "source": [
        "# run this cell for the widget\n",
        "backend1"
      ]
    },
    {
      "cell_type": "markdown",
      "metadata": {
      },
      "source": [
        "<p>📓 Weisen Sie der <code>layout1</code> in der Zelle darunter Ihre Layout-Wahl zu</p>"
      ]
    },
    {
      "cell_type": "code",
      "execution_count": 11,
      "metadata": {
        "tags": [
          "uses-hardware"
        ]
      },
      "outputs": [

      ],
      "source": [
        "# Assign your choice of the initial_layout to the variable layout1 as a list \n",
        "# ex) layout1 = [0,2,4]\n",
        "layout1 = "
      ]
    },
    {
      "cell_type": "markdown",
      "metadata": {
      },
      "source": [
        "<p>📓 Beschreiben Sie den Grund für Ihre Wahl des ursprünglichen Layouts.</p>"
      ]
    },
    {
      "cell_type": "markdown",
      "metadata": {
      },
      "source": [
        "Führen Sie das `AND` Gatter auf `ibmqx2` aus, indem Sie die Zelle unten ausführen."
      ]
    },
    {
      "cell_type": "code",
      "execution_count": 13,
      "metadata": {
        "tags": [
          "uses-hardware"
        ]
      },
      "outputs": [

      ],
      "source": [
        "output1_all = []\n",
        "qc_trans1_all = []\n",
        "prob1_all = []\n",
        "\n",
        "worst = 1\n",
        "best = 0\n",
        "for input1 in ['0','1']:\n",
        "    for input2 in ['0','1']:\n",
        "        qc_trans1, output1 = AND(input1, input2, backend1, layout1)\n",
        "        \n",
        "        output1_all.append(output1)\n",
        "        qc_trans1_all.append(qc_trans1)\n",
        "        \n",
        "        prob = output1[str(int( input1=='1' and input2=='1' ))]/8192\n",
        "        prob1_all.append(prob)\n",
        "        \n",
        "        print('\\nProbability of correct answer for inputs',input1,input2)\n",
        "        print( '{:.2f}'.format(prob) )\n",
        "        print('---------------------------------')\n",
        "        \n",
        "        worst = min(worst,prob)\n",
        "        best = max(best, prob)\n",
        "        \n",
        "print('')\n",
        "print('\\nThe highest of these probabilities was {:.2f}'.format(best))\n",
        "print('The lowest of these probabilities was {:.2f}'.format(worst))"
      ]
    },
    {
      "cell_type": "markdown",
      "metadata": {
      },
      "source": [
        "Sobald Ihr Job durch Ausführen beendet ist, können Sie einfach auf die Ergebnisse zugreifen über:\n",
        "\n",
        "```python\n",
        "results = backend.retrieve_job('JOB_ID').result().\n",
        "```\n",
        "\n",
        "Ihre job_ids werden über die oben definierte `AND` Funktion ausgegeben. Sie finden die job_ids auch aus den Ergebnissen unter Ihrem `IQX` Konto. Weitere Informationen finden Sie [hier](https://quantum-computing.ibm.com/docs/manage/account/ibmq) . "
      ]
    },
    {
      "cell_type": "markdown",
      "metadata": {
      },
      "source": [
        "<h4 style=\"font-size: 16px\">Fall B) Drei Qubits auf <code>ibmq_athens</code> für die lineare Nächste-Nachbar-Konnektivität</h4>\n",
        "\n",
        "Untersuchen `ibmq_athens` über das Widget, indem Sie die Zelle unten ausführen."
      ]
    },
    {
      "cell_type": "code",
      "execution_count": 64,
      "metadata": {
        "tags": [
          "uses-hardware"
        ]
      },
      "outputs": [

      ],
      "source": [
        "backend2"
      ]
    },
    {
      "cell_type": "markdown",
      "metadata": {
      },
      "source": [
        "<p>📓 Finden Sie drei Qubits mit der linearen Nächste-Nachbar-Konnektivität. Bestimmen Sie das Ausgangslayout unter Berücksichtigung der Fehlerkarte und weisen Sie es der Listenvariablen layout2 zu.</p>"
      ]
    },
    {
      "cell_type": "code",
      "execution_count": 65,
      "metadata": {
        "tags": [
          "uses-hardware"
        ]
      },
      "outputs": [

      ],
      "source": [
        "layout2 = []"
      ]
    },
    {
      "cell_type": "markdown",
      "metadata": {
      },
      "source": [
        "<p>📓 Beschreiben Sie den Grund für die Wahl des ursprünglichen Layouts.</p>"
      ]
    },
    {
      "cell_type": "markdown",
      "metadata": {
      },
      "source": [
        "Führen Sie das `AND` Gatter auf `ibmq_athens` aus, indem Sie die Zelle unten ausführen."
      ]
    },
    {
      "cell_type": "code",
      "execution_count": 12,
      "metadata": {
        "tags": [
          "uses-hardware"
        ]
      },
      "outputs": [

      ],
      "source": [
        "output2_all = []\n",
        "qc_trans2_all = []\n",
        "prob2_all = []\n",
        "\n",
        "worst = 1\n",
        "best = 0\n",
        "for input1 in ['0','1']:\n",
        "    for input2 in ['0','1']:\n",
        "        qc_trans2, output2 = AND(input1, input2, backend2, layout2)\n",
        "        \n",
        "        output2_all.append(output2)\n",
        "        qc_trans2_all.append(qc_trans2)\n",
        "        \n",
        "        prob = output2[str(int( input1=='1' and input2=='1' ))]/8192\n",
        "        prob2_all.append(prob)\n",
        "        \n",
        "        print('\\nProbability of correct answer for inputs',input1,input2)\n",
        "        print('{:.2f}'.format(prob) )\n",
        "        print('---------------------------------')\n",
        "        \n",
        "        worst = min(worst,prob)\n",
        "        best = max(best, prob)\n",
        "        \n",
        "print('')\n",
        "print('\\nThe highest of these probabilities was {:.2f}'.format(best))\n",
        "print('The lowest of these probabilities was {:.2f}'.format(worst))"
      ]
    },
    {
      "cell_type": "markdown",
      "metadata": {
      },
      "source": [
        "<h3 style=\"font-size: 20px\">Schritt 3. Interpretieren Sie das Ergebnis</h3>"
      ]
    },
    {
      "cell_type": "markdown",
      "metadata": {
      },
      "source": [
        "Es gibt mehrere Größen, die die Schaltungen unterscheiden. Das Wichtigste unter ihnen ist die **Schaltungstiefe** . Die Schaltungstiefe wird [hier](https://qiskit.org/documentation/apidoc/circuit.html) im Detail definiert (Siehe die Zusatzinformationen und klicken Sie auf die Registerkarte Quantum Circuit Properties). Die Schaltungstiefe ist proportional zur Anzahl der Gatter in einer Schaltung und entspricht ungefähr der Laufzeit der Schaltung auf Hardware. Daher ist die Schaltungstiefe eine einfach zu berechnende Metrik, die verwendet werden kann, um die Wiedergabetreue einer ausgeführten Schaltung abzuschätzen.\n",
        "\n",
        "Ein zweiter wichtiger Wert ist die Anzahl der **nichtlokalen** (Multi-Qubit-) **Gatter** in einer Schaltung. Auf IBM Quantum-Systemen ist das CNOT-Gate das einzige nichtlokale Gate, das physisch ausgeführt werden kann. Erinnern Sie sich daran, dass CNOT-Gatter die teuersten Gatter sind, und daher dient die Gesamtzahl dieser Gatter auch als guter Maßstab für die Genauigkeit der endgültigen Ausgabe."
      ]
    },
    {
      "cell_type": "markdown",
      "metadata": {
      },
      "source": [
        "<h4 style=\"font-size: 16px\">A) Schaltungstiefe und Ergebnisgenauigkeit</h4>"
      ]
    },
    {
      "cell_type": "markdown",
      "metadata": {
      },
      "source": [
        "Wenn Sie die Zellen unten ausführen, werden die vier transpilierten UND-Gatter-Schaltpläne mit den entsprechenden Eingaben angezeigt, die auf `ibmq_athens` ausgeführt wurden, und ihre Schaltungstiefen mit der Erfolgswahrscheinlichkeit für die Erzeugung der richtigen Antwort."
      ]
    },
    {
      "cell_type": "code",
      "execution_count": 14,
      "metadata": {
        "tags": [
          "uses-hardware"
        ]
      },
      "outputs": [

      ],
      "source": [
        "print('Transpiled AND gate circuit for ibmq_athens with input 0 0')\n",
        "print('\\nThe circuit depth : {}'.format (qc_trans2_all[0].depth()))\n",
        "print('# of nonlocal gates : {}'.format (qc_trans2_all[0].num_nonlocal_gates()))\n",
        "print('Probability of correct answer : {:.2f}'.format(prob2_all[0]) )\n",
        "qc_trans2_all[0].draw()"
      ]
    },
    {
      "cell_type": "code",
      "execution_count": 15,
      "metadata": {
        "tags": [
          "uses-hardware"
        ]
      },
      "outputs": [

      ],
      "source": [
        "print('Transpiled AND gate circuit for ibmq_athens with input 0 1')\n",
        "print('\\nThe circuit depth : {}'.format (qc_trans2_all[1].depth()))\n",
        "print('# of nonlocal gates : {}'.format (qc_trans2_all[1].num_nonlocal_gates()))\n",
        "print('Probability of correct answer : {:.2f}'.format(prob2_all[1]) )\n",
        "qc_trans2_all[1].draw()"
      ]
    },
    {
      "cell_type": "code",
      "execution_count": 16,
      "metadata": {
        "tags": [
          "uses-hardware"
        ]
      },
      "outputs": [

      ],
      "source": [
        "print('Transpiled AND gate circuit for ibmq_athens with input 1 0')\n",
        "print('\\nThe circuit depth : {}'.format (qc_trans2_all[2].depth()))\n",
        "print('# of nonlocal gates : {}'.format (qc_trans2_all[2].num_nonlocal_gates()))\n",
        "print('Probability of correct answer : {:.2f}'.format(prob2_all[2]) )\n",
        "qc_trans2_all[2].draw()"
      ]
    },
    {
      "cell_type": "code",
      "execution_count": 17,
      "metadata": {
        "tags": [
          "uses-hardware"
        ]
      },
      "outputs": [

      ],
      "source": [
        "print('Transpiled AND gate circuit for ibmq_athens with input 1 1')\n",
        "print('\\nThe circuit depth : {}'.format (qc_trans2_all[3].depth()))\n",
        "print('# of nonlocal gates : {}'.format (qc_trans2_all[3].num_nonlocal_gates()))\n",
        "print('Probability of correct answer : {:.2f}'.format(prob2_all[3]) )\n",
        "qc_trans2_all[3].draw()"
      ]
    },
    {
      "cell_type": "markdown",
      "metadata": {
      },
      "source": [
        "<p>📓 Erklären Sie den Grund für die Unähnlichkeit der Schaltungen. Beschreiben Sie die Beziehungen zwischen der Eigenschaft der Schaltung und der Genauigkeit der Ergebnisse.</p>"
      ]
    },
    {
      "cell_type": "markdown",
      "metadata": {
      },
      "source": [
        "<h4 style=\"font-size: 16px\">B) Qubit-Konnektivität und Schaltungstiefe</h4>"
      ]
    },
    {
      "cell_type": "markdown",
      "metadata": {
      },
      "source": [
        "Untersuchen Sie die transpilierten Schaltungen für `ibmqx2` , indem Sie die Zellen unten ausführen."
      ]
    },
    {
      "cell_type": "code",
      "execution_count": 18,
      "metadata": {
        "tags": [
          "uses-hardware"
        ]
      },
      "outputs": [

      ],
      "source": [
        "print('Transpiled AND gate circuit for ibmqx2 with input 0 0')\n",
        "print('\\nThe circuit depth : {}'.format (qc_trans1_all[0].depth()))\n",
        "print('# of nonlocal gates : {}'.format (qc_trans1_all[0].num_nonlocal_gates()))\n",
        "print('Probability of correct answer : {:.2f}'.format(prob1_all[0]) )\n",
        "qc_trans1_all[0].draw()"
      ]
    },
    {
      "cell_type": "code",
      "execution_count": 19,
      "metadata": {
        "tags": [
          "uses-hardware"
        ]
      },
      "outputs": [

      ],
      "source": [
        "print('Transpiled AND gate circuit for ibmqx2 with input 0 1')\n",
        "print('\\nThe circuit depth : {}'.format (qc_trans1_all[1].depth()))\n",
        "print('# of nonlocal gates : {}'.format (qc_trans1_all[1].num_nonlocal_gates()))\n",
        "print('Probability of correct answer : {:.2f}'.format(prob1_all[1]) )\n",
        "qc_trans1_all[1].draw()"
      ]
    },
    {
      "cell_type": "code",
      "execution_count": 20,
      "metadata": {
        "tags": [
          "uses-hardware"
        ]
      },
      "outputs": [

      ],
      "source": [
        "print('Transpiled AND gate circuit for ibmqx2 with input 1 0')\n",
        "print('\\nThe circuit depth : {}'.format (qc_trans1_all[2].depth()))\n",
        "print('# of nonlocal gates : {}'.format (qc_trans1_all[2].num_nonlocal_gates()))\n",
        "print('Probability of correct answer : {:.2f}'.format(prob1_all[2]) )\n",
        "qc_trans1_all[2].draw()"
      ]
    },
    {
      "cell_type": "code",
      "execution_count": 21,
      "metadata": {
        "tags": [
          "uses-hardware"
        ]
      },
      "outputs": [

      ],
      "source": [
        "print('Transpiled AND gate circuit for ibmqx2 with input 1 1')\n",
        "print('\\nThe circuit depth : {}'.format (qc_trans1_all[3].depth()))\n",
        "print('# of nonlocal gates : {}'.format (qc_trans1_all[3].num_nonlocal_gates()))\n",
        "print('Probability of correct answer : {:.2f}'.format(prob1_all[3]) )\n",
        "qc_trans1_all[3].draw()"
      ]
    },
    {
      "cell_type": "markdown",
      "metadata": {
      },
      "source": [
        "<p>📓 Erklären Sie den Grund für die Ähnlichkeit der Schaltungen. Beschreiben Sie die Beziehungen zwischen den Eigenschaften der Schaltungen und der Genauigkeit der Ergebnisse.</p>"
      ]
    },
    {
      "cell_type": "markdown",
      "metadata": {
      },
      "source": [
        "<h4 style=\"font-size: 16px\">C) Fehlerraten und Ergebnisgenauigkeit</h4>"
      ]
    },
    {
      "cell_type": "markdown",
      "metadata": {
      },
      "source": [
        "<p>📓 Bisher haben wir die Schaltungstiefe und die Anzahl der nichtlokalen Gates als gute Indikatoren für die Schaltungsleistung auf realen Geräten verwendet. Wir sehen jedoch etwas Interessantes in den obigen Ergebnissen. Das UND-Gatter auf <code>ibmq_athens</code> hat ca. 8–15 <code>cx</code> -Gatter pro Schaltung, hat aber eine Erfolgsrate, die mit <code>ibmqx2</code> vergleichbar oder sogar höher ist, die nur 6 <code>cx</code> -Gatter ausführt. Warum ist das?</p>"
      ]
    },
    {
      "cell_type": "code",
      "execution_count": null,
      "metadata": {
      },
      "outputs": [

      ],
      "source": [

      ]
    }
  ],
  "metadata": {
    "kernelspec": {
      "display_name": "Python 3",
      "language": "python",
      "name": "python3"
    },
    "language_info": {
      "codemirror_mode": {
        "name": "ipython",
        "version": 3
      },
      "file_extension": ".py",
      "mimetype": "text/x-python",
      "name": "python",
      "nbconvert_exporter": "python",
      "pygments_lexer": "ipython3",
      "version": "3.9"
    }
  },
  "nbformat": 4,
  "nbformat_minor": 4
}
