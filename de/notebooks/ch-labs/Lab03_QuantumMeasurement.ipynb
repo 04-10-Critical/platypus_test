{
  "cells": [
    {
      "cell_type": "markdown",
      "metadata": {
        "tags": [
          "remove_cell"
        ]
      },
      "source": [
        "# Labor 3 Quantenmessungen"
      ]
    },
    {
      "cell_type": "markdown",
      "metadata": {
      },
      "source": [
        "Voraussetzung\n",
        "\n",
        "- [Kapitel 1.4 Einzelne Qubit-Gatter](https://qiskit.org/textbook/ch-states/single-qubit-gates.html)\n",
        "- [Kapitel 2.2 Mehrere Qubits und verschränkte Zustände](https://qiskit.org/textbook/ch-gates/multiple-qubits-entangled-states.html)\n",
        "- [Minderung von Rauschen auf echten Quantencomputern](https://www.youtube.com/watch?v=yuDxHJOKsVA&list=PLOFEBzvs-Vvp2xg9-POLJhQwtVktlYGbY&index=8)\n",
        "\n",
        "Andere relevante Materialien\n",
        "\n",
        "- [Feynman-Vorlesungen Kap. III-12](https://www.feynmanlectures.caltech.edu/III_12.html)\n",
        "- [Quantenoperation](https://qiskit.org/documentation/tutorials/circuits/3_summary_of_quantum_operations.html)\n",
        "- [Interaktive Bloch-Kugel](https://nonhermitian.org/kaleido/stubs/kaleidoscope.interactive.bloch_sphere.html#kaleidoscope.interactive.bloch_sphere)\n",
        "- [Kap.5.2 Messfehlerminderung](https://qiskit.org/textbook/ch-quantum-hardware/measurement-error-mitigation.html)"
      ]
    },
    {
      "cell_type": "code",
      "execution_count": 1,
      "metadata": {
      },
      "outputs": [

      ],
      "source": [
        "from qiskit import *\n",
        "import numpy as np\n",
        "from numpy import linalg as la\n",
        "from qiskit.tools.monitor import job_monitor\n",
        "import qiskit.tools.jupyter"
      ]
    },
    {
      "cell_type": "markdown",
      "metadata": {
      },
      "source": [
        "<h2 style=\"font-size:24px;\">Teil 1: Messung des Zustands eines Qubits</h2>\n",
        "\n",
        "<br>\n",
        "<div style=\"background: #E8E7EB; border-radius: 5px;\n",
        "-moz-border-radius: 5px;\">\n",
        "  <p style=\"background: #800080;\n",
        "            border-radius: 5px 5px 0px 0px;\n",
        "            padding: 10px 0px 10px 10px;\n",
        "            font-size:18px;\n",
        "            color:white;\n",
        "            \"><b>Tor</b></p>\n",
        "    <p style=\" padding: 0px 0px 10px 10px;\n",
        "              font-size:16px;\">Bestimmen Sie die Bloch-Komponenten eines Qubits.</p>\n",
        "</div>\n",
        "\n",
        "Grundlegend für den Betrieb eines Quantencomputers ist die Fähigkeit, die Bloch-Komponenten eines oder mehrerer Qubits zu berechnen. Diese Komponenten entsprechen den Erwartungswerten der Pauli-Operatoren $X, Y, Z$ und sind wichtige Größen für Anwendungen wie Quantenchemie und Optimierung. Leider ist es unmöglich, diese Werte gleichzeitig zu berechnen, wodurch viele Ausführungen derselben Schaltung erforderlich sind. Außerdem sind Messungen auf die Rechenbasis (Z-Basis) beschränkt, so dass jeder Pauli auf die Standardbasis gedreht werden muss, um auf die x- und y-Komponenten zugreifen zu können. Hier überprüfen wir die Methoden, indem wir den Fall eines zufälligen Vektors auf der Bloch-Kugel betrachten."
      ]
    },
    {
      "cell_type": "markdown",
      "metadata": {
      },
      "source": [
        "<h3 style=\"font-size: 20px\">📓 1. Drücke die Erwartungswerte der Pauli-Operatoren für einen beliebigen Qubit-Zustand $|q\\rangle$ in der Rechenbasis aus.</h3>\n",
        "\n",
        "Als Beispiel wird der Fall für den Erwartungswert von Pauli Z Gate angeführt. "
      ]
    },
    {
      "cell_type": "markdown",
      "metadata": {
      },
      "source": [
        "Unter Verwendung der Diagonaldarstellung, auch als Spektralform oder Orthonormalzerlegung bekannt, des Pauli-$Z$-Gatters und der Beziehungen zwischen den Pauli-Gattern (siehe [hier](https://qiskit.org/textbook/ch-states/single-qubit-gates.html) ) können Erwartungswerte von $ X, Y, Z $-Gattern geschrieben werden als\n",
        "\n",
        "$$ \\begin{aligned} \\langle Z \\rangle &amp;=\\langle q | Z | q\\rangle =\\langle q|0\\rangle\\langle 0|q\\rangle - \\langle q|1\\rangle\\langle 1|q\\rangle =|\\langle 0 |q\\rangle|^2 - |\\langle 1 | q\\rangle|^2\\ \\langle X \\rangle &amp;= \\ \\langle Y \\rangle &amp;= \\end{aligned} \\ $$ .\n",
        "\n",
        "Daher können die Erwartungswerte des Paulis für einen Qubit-Zustand $|q\\rangle$ erhalten werden, indem eine Messung in der Standardbasis durchgeführt wird, nachdem das Standardbasissystem so gedreht wurde, dass es entlang der entsprechenden Achse liegt. Die Wahrscheinlichkeiten, die beiden möglichen Ergebnisse 0 und 1 zu erhalten, werden verwendet, um den gewünschten Erwartungswert zu bewerten, wie die obigen Gleichungen zeigen."
      ]
    },
    {
      "cell_type": "markdown",
      "metadata": {
      },
      "source": [
        "<h3 style=\"font-size: 20px\">2. Messen Sie die Bloch-Kugelkoordinaten eines Qubits mit dem Qasm-Simulator und zeichnen Sie den Vektor auf der Bloch-Kugel.</h3>"
      ]
    },
    {
      "cell_type": "markdown",
      "metadata": {
      },
      "source": [
        "<h4 style=\"font-size: 17px\">📓Schritt A. Erstellen Sie einen Qubit-Zustand mit der Schaltungsmethode, <code>initialize</code> Sie ihn mit zwei zufälligen komplexen Zahlen als Parameter.</h4>\n",
        "\n",
        "Um zu erfahren, wie Sie die Funktion `initialize` verwenden, lesen Sie [hier](https://qiskit.org/documentation/tutorials/circuits/3_summary_of_quantum_operations.html) . ( Gehen Sie zum Abschnitt zur `arbitrary initialization` . )"
      ]
    },
    {
      "cell_type": "code",
      "execution_count": 2,
      "metadata": {
      },
      "outputs": [

      ],
      "source": [
        "qc = QuantumCircuit(1)\n",
        "\n",
        "#### your code goes here\n",
        "\n",
        "\n"
      ]
    },
    {
      "cell_type": "markdown",
      "metadata": {
      },
      "source": [
        "<h4 style=\"font-size: 17px\">📓 Schritt B. Bauen Sie die Schaltkreise auf, um die Erwartungswerte von $X, Y, Z$ Gate basierend auf Ihren Antworten auf die Frage 1 zu messen. Führen Sie die Zelle unten aus, um die Bloch-Sphärenkoordinaten des Qubits aus Schritt A mit dem Qasm-Simulator zu schätzen .</h4>\n",
        "\n",
        "Als Beispiel ist die Schaltung für die $Z$ Gate-Messung angegeben."
      ]
    },
    {
      "cell_type": "code",
      "execution_count": 3,
      "metadata": {
      },
      "outputs": [

      ],
      "source": [
        "# z measurement of qubit 0\n",
        "measure_z = QuantumCircuit(1,1)\n",
        "measure_z.measure(0,0)\n",
        "\n",
        "# x measurement of qubit 0\n",
        "measure_x = QuantumCircuit(1,1)\n",
        "# your code goes here\n",
        "\n",
        "\n",
        "\n",
        "\n",
        "\n",
        "\n",
        "\n",
        "# y measurement of qubit 0\n",
        "measure_y = QuantumCircuit(1,1)\n",
        "# your code goes here\n",
        "\n",
        "\n",
        "\n",
        "\n",
        "\n",
        "\n",
        "\n",
        "shots = 2**14 # number of samples used for statistics\n",
        "sim = Aer.get_backend('qasm_simulator')\n",
        "bloch_vector_measure = []\n",
        "for measure_circuit in [measure_x, measure_y, measure_z]:\n",
        "    \n",
        "    # run the circuit with a the selected measurement and get the number of samples that output each bit value\n",
        "    counts = execute(qc+measure_circuit, sim, shots=shots).result().get_counts()\n",
        "\n",
        "    # calculate the probabilities for each bit value\n",
        "    probs = {}\n",
        "    for output in ['0','1']:\n",
        "        if output in counts:\n",
        "            probs[output] = counts[output]/shots\n",
        "        else:\n",
        "            probs[output] = 0\n",
        "            \n",
        "    bloch_vector_measure.append( probs['0'] -  probs['1'] )\n",
        "\n",
        "# normalizing the bloch sphere vector\n",
        "bloch_vector = bloch_vector_measure/la.norm(bloch_vector_measure)\n",
        "\n",
        "print('The bloch sphere coordinates are [{0:4.3f}, {1:4.3f}, {2:4.3f}]'\n",
        "      .format(*bloch_vector))    "
      ]
    },
    {
      "cell_type": "markdown",
      "metadata": {
      },
      "source": [
        "<h4 style=\"font-size: 17px\">Schritt C. Zeichnen Sie den Vektor auf der Bloch-Kugel.</h4>\n",
        "\n",
        "Beachten Sie, dass die folgende Zelle für die interaktive bloch_sphere nicht ordnungsgemäß ausgeführt wird, wenn Sie nicht in [IQX arbeiten](https://quantum-computing.ibm.com/login) . Sie können entweder `plot_bloch_vector` für die nicht-interaktive Version verwenden oder `kaleidoscope` installieren, indem Sie es ausführen\n",
        "\n",
        "```\n",
        "pip install kaleidoscope\n",
        "\n",
        "```\n",
        "\n",
        "in einem Endgerät. Außerdem müssen Sie Ihren Kernel nach der Installation neu starten. Um mehr über die Verwendung der interaktiven Bloch-Kugel zu erfahren, gehen Sie [hier](https://nonhermitian.org/kaleido/stubs/kaleidoscope.interactive.bloch_sphere.html#kaleidoscope.interactive.bloch_sphere) ."
      ]
    },
    {
      "cell_type": "code",
      "execution_count": 4,
      "metadata": {
      },
      "outputs": [

      ],
      "source": [
        "from kaleidoscope.interactive import bloch_sphere\n",
        "\n",
        "bloch_sphere(bloch_vector, vectors_annotation=True)"
      ]
    },
    {
      "cell_type": "code",
      "execution_count": 5,
      "metadata": {
      },
      "outputs": [

      ],
      "source": [
        "from qiskit.visualization import plot_bloch_vector\n",
        "\n",
        "plot_bloch_vector( bloch_vector )"
      ]
    },
    {
      "cell_type": "markdown",
      "metadata": {
      },
      "source": [
        "<h2 style=\"font-size:24px;\">Teil 2: Energie messen</h2>\n",
        "\n",
        "<br>\n",
        "<div style=\"background: #E8E7EB; border-radius: 5px;\n",
        "-moz-border-radius: 5px;\">\n",
        "  <p style=\"background: #800080;\n",
        "            border-radius: 5px 5px 0px 0px;\n",
        "            padding: 10px 0px 10px 10px;\n",
        "            font-size:18px;\n",
        "            color:white;\n",
        "            \"><b>Tor</b></p>\n",
        "    <p style=\" padding: 0px 0px 10px 10px;\n",
        "              font-size:16px;\">Bewerten Sie die Energieniveaus des Wasserstoff-Grundzustands mit dem Qasm-Simulator.</p>\n",
        "</div>\n",
        "\n",
        "Die Energie eines Quantensystems kann geschätzt werden, indem der Erwartungswert seines Hamiltonoperators, der ein hermitescher Operator ist, durch das Verfahren gemessen wird, das wir in Teil 1 gemeistert haben.\n",
        "\n",
        "Der Grundzustand von Wasserstoff ist nicht als ein einzigartiger Zustand definiert, sondern enthält aufgrund der Spins von Elektron und Proton tatsächlich vier verschiedene Zustände. In Teil 2 dieser Übung bewerten wir die Energiedifferenz zwischen diesen vier Zuständen, die aus der `hyperfine splitting` stammt, indem wir den Energieerwartungswert für das System aus zwei Spins mit dem in Pauli-Operatoren ausgedrückten Hamilton-Operator berechnen. Weitere Informationen zur `hyperfine structure` finden Sie [hier](https://www.feynmanlectures.caltech.edu/III_12.html)"
      ]
    },
    {
      "cell_type": "markdown",
      "metadata": {
      },
      "source": [
        "Betrachten Sie das System mit zwei Qubit-Interaktionshamiltonschen $H = A(XX+YY+ZZ)$, wobei $A = 1,47e^{-6} eV$ und $X, Y, Z$ Pauli-Gatter sind. Dann kann der Energieerwartungswert des Systems bewertet werden, indem der Erwartungswert jedes Terms im Hamiltonian kombiniert wird. In diesem Fall ist $E = \\langle H\\rangle = A( \\langle XX\\rangle + \\langle YY\\rangle + \\langle ZZ\\rangle )$. "
      ]
    },
    {
      "cell_type": "markdown",
      "metadata": {
      },
      "source": [
        "<h3 style=\"font-size: 20px\">📓 1. Drücken Sie den Erwartungswert jedes Terms im Hamiltonian für einen beliebigen Zwei-Qubit-Zustand $|\\psi \\rangle$ in der Berechnungsbasis aus.</h3>\n",
        "\n",
        "Als Beispiel sei der Fall für den Term $\\langle ZZ\\rangle$ angegeben.\n",
        "\n",
        "$$ \\begin{aligned} \\langle ZZ\\rangle &amp;=\\langle \\psi | ZZ | \\psi\\rangle =\\langle \\psi|(|0\\rangle\\langle 0| - |1\\rangle\\langle 1|)\\otimes(|0\\rangle\\langle 0| - |1\\rangle\\langle 1|) |\\psi\\rangle =|\\langle 00|\\psi\\rangle|^2 - |\\langle 01 | \\psi\\rangle|^2 - |\\langle 10 | \\psi\\rangle|^2 + |\\langle 11|\\psi\\rangle|^2\\ \\langle XX\\rangle &amp;= \\ \\langle YY\\rangle &amp;= \\end{aligned} $$"
      ]
    },
    {
      "cell_type": "markdown",
      "metadata": {
      },
      "source": [
        "<h3 style=\"font-size: 20px\">2. Messen Sie die erwartete Energie des Systems mit dem Qasm-Simulator, wenn zwei Qubits verschränkt sind. Betrachten Sie die Glockenbasis, vier verschiedene verschränkte Zustände.</h3>"
      ]
    },
    {
      "cell_type": "markdown",
      "metadata": {
      },
      "source": [
        "<h4 style=\"font-size: 17px\">📓Schritt A. Konstruieren Sie die Schaltungen, um vier verschiedene Glockenzustände vorzubereiten.</h4>\n",
        "\n",
        "Lassen Sie uns jeden Glockenzustand folgendermaßen benennen: $$ \\begin{aligned} Tri1 &amp;= \\frac{1}{\\sqrt2} (|00\\rangle + |11\\rangle)\\ Tri2 &amp;= \\frac{1}{\\sqrt2} (|00\\rangle - |11\\rangle)\\ Tri3 &amp;= \\frac{1}{\\sqrt2} (|01\\rangle + |10\\rangle)\\ Sing &amp;= \\frac{1}{\\sqrt2} (| 10\\rangle - |01\\rangle) \\end{aligned} $$"
      ]
    },
    {
      "cell_type": "code",
      "execution_count": 6,
      "metadata": {
      },
      "outputs": [

      ],
      "source": [
        "# circuit for the state Tri1\n",
        "Tri1 = QuantumCircuit(2)\n",
        "# your code goes here\n",
        "\n",
        "\n",
        "\n",
        "\n",
        "\n",
        "\n",
        "# circuit for the state Tri2\n",
        "Tri2 = QuantumCircuit(2)\n",
        "# your code goes here\n",
        "\n",
        "\n",
        "\n",
        "\n",
        "\n",
        "# circuit for the state Tri3\n",
        "Tri3 = QuantumCircuit(2)\n",
        "# your code goes here\n",
        "\n",
        "\n",
        "\n",
        "\n",
        "\n",
        "\n",
        "# circuit for the state Sing\n",
        "Sing = QuantumCircuit(2)\n",
        "# your code goes here\n",
        "\n",
        "\n",
        "\n",
        "\n",
        "\n"
      ]
    },
    {
      "cell_type": "markdown",
      "metadata": {
      },
      "source": [
        "<h4 style=\"font-size: 17px\">📓Schritt B. Erstellen Sie die Schaltkreise, um den Erwartungswert jedes Terms im Hamiltonian basierend auf Ihrer Antwort auf Frage 1 zu messen.</h4>"
      ]
    },
    {
      "cell_type": "code",
      "execution_count": 135,
      "metadata": {
      },
      "outputs": [

      ],
      "source": [
        "# <ZZ> \n",
        "measure_ZZ = QuantumCircuit(2)\n",
        "measure_ZZ.measure_all()\n",
        "\n",
        "# <XX>\n",
        "measure_XX = QuantumCircuit(2)\n",
        "# your code goes here\n",
        "\n",
        "\n",
        "\n",
        "\n",
        "\n",
        "# <YY>\n",
        "measure_YY = QuantumCircuit(2)\n",
        "# your code goes here\n",
        "\n",
        "\n",
        "\n",
        "\n"
      ]
    },
    {
      "cell_type": "markdown",
      "metadata": {
      },
      "source": [
        " <h4 style=\"font-size: 17px\">Schritt C. Führen Sie die Schaltungen auf dem Qasm-Simulator aus, indem Sie die Zelle unten ausführen, und bewerten Sie den Energieerwartungswert für jeden Zustand.</h4>\n"
      ]
    },
    {
      "cell_type": "code",
      "execution_count": 136,
      "metadata": {
      },
      "outputs": [

      ],
      "source": [
        "shots = 2**14 # number of samples used for statistics\n",
        "\n",
        "A = 1.47e-6 #unit of A is eV\n",
        "E_sim = []\n",
        "for state_init in [Tri1,Tri2,Tri3,Sing]:\n",
        "    Energy_meas = []\n",
        "    for measure_circuit in [measure_XX, measure_YY, measure_ZZ]:\n",
        "    \n",
        "        # run the circuit with a the selected measurement and get the number of samples that output each bit value\n",
        "        qc = state_init+measure_circuit\n",
        "        counts = execute(qc, sim, shots=shots).result().get_counts()\n",
        "\n",
        "        # calculate the probabilities for each computational basis\n",
        "        probs = {}\n",
        "        for output in ['00','01', '10', '11']:\n",
        "            if output in counts:\n",
        "                probs[output] = counts[output]/shots\n",
        "            else:\n",
        "                probs[output] = 0\n",
        "            \n",
        "        Energy_meas.append( probs['00'] - probs['01'] - probs['10'] + probs['11'] )\n",
        " \n",
        "    E_sim.append(A * np.sum(np.array(Energy_meas)))"
      ]
    },
    {
      "cell_type": "code",
      "execution_count": 7,
      "metadata": {
      },
      "outputs": [

      ],
      "source": [
        "# Run this cell to print out your results\n",
        "\n",
        "print('Energy expection value of the state Tri1 : {:.3e} eV'.format(E_sim[0]))\n",
        "print('Energy expection value of the state Tri2 : {:.3e} eV'.format(E_sim[1]))\n",
        "print('Energy expection value of the state Tri3 : {:.3e} eV'.format(E_sim[2]))\n",
        "print('Energy expection value of the state Sing : {:.3e} eV'.format(E_sim[3]))"
      ]
    },
    {
      "cell_type": "markdown",
      "metadata": {
      },
      "source": [
        " <h4 style=\"font-size: 17px\">Schritt D. Das Ergebnis verstehen.</h4>\n",
        "\n",
        "\n",
        "Wenn Sie die Energieerwartungswerte erfolgreich gefunden hätten, hätten Sie genau den gleichen Wert, $A (= 1,47e^{-6} eV)$, für die Trplet tates, $|Tri1\\rangle, |Tri2\\rangle, | erhalten Tri3\\rangle$ und einem niedrigeren Energieniveau, $-3A (= -4,41e^{-6} eV)$ für den Singulett-Zustand $|Sing\\rangle$.\n",
        "\n",
        "Was wir hier getan haben, ist die Messung der Energien der vier verschiedenen Spinzustände, die dem Grundzustand von Wasserstoff entsprechen, und beobachtete eine `hyperfine structure` in den Energieniveaus, die durch die Spin-Spin-Kopplung verursacht werden. Dieser winzige Energieunterschied zwischen den Singulett- und Triplettzuständen ist der Grund für die berühmte Strahlung mit einer Wellenlänge von 21 cm, die zur Kartierung der Struktur der Galaxie verwendet wird. "
      ]
    },
    {
      "cell_type": "markdown",
      "metadata": {
      },
      "source": [
        "In der Zelle unten variieren wir die Wellenlänge der Emission vom Übergang zwischen den Triplett-Zuständen und dem Singulett-Zustand. "
      ]
    },
    {
      "cell_type": "code",
      "execution_count": 8,
      "metadata": {
      },
      "outputs": [

      ],
      "source": [
        "# reduced plank constant in (eV) and the speed of light(cgs units)\n",
        "hbar, c = 4.1357e-15, 3e10\n",
        "\n",
        "# energy difference between the triplets and singlet\n",
        "E_del = abs(E_sim[0] - E_sim[3])\n",
        "\n",
        "# frequency associated with the energy difference\n",
        "f = E_del/hbar\n",
        "\n",
        "# convert frequency to wavelength in (cm) \n",
        "wavelength = c/f\n",
        "\n",
        "print('The wavelength of the radiation from the transition\\\n",
        " in the hyperfine structure is : {:.1f} cm'.format(wavelength))"
      ]
    },
    {
      "cell_type": "markdown",
      "metadata": {
      },
      "source": [
        "<h2 style=\"font-size:24px;\">Teil 3: Führen Sie die Schaltungen auf dem Quantencomputer aus</h2>\n",
        "\n",
        "<br>\n",
        "<div style=\"background: #E8E7EB; border-radius: 5px;\n",
        "-moz-border-radius: 5px;\">\n",
        "  <p style=\"background: #800080;\n",
        "            border-radius: 5px 5px 0px 0px;\n",
        "            padding: 10px 0px 10px 10px;\n",
        "            font-size:18px;\n",
        "            color:white;\n",
        "            \"><b>Tor</b></p>\n",
        "    <p style=\" padding: 0px 0px 10px 10px;\n",
        "              font-size:16px;\">Führen Sie die Schaltungen auf einem IBM-Quantensystem erneut aus. Führen Sie Messfehlerminderungen am Ergebnis durch, um die Genauigkeit der Energieschätzung zu verbessern.</p>\n",
        "</div>"
      ]
    },
    {
      "cell_type": "markdown",
      "metadata": {
      },
      "source": [
        "<h4 style=\"font-size: 17px\">Schritt A. Führen Sie die folgenden Zellen aus, um Ihr Konto zu laden, und wählen Sie das Backend aus</h4>"
      ]
    },
    {
      "cell_type": "code",
      "execution_count": 139,
      "metadata": {
        "tags": [
          "uses-hardware"
        ]
      },
      "outputs": [

      ],
      "source": [
        "provider = IBMQ.load_account()"
      ]
    },
    {
      "cell_type": "code",
      "execution_count": 178,
      "metadata": {
        "tags": [
          "uses-hardware"
        ]
      },
      "outputs": [

      ],
      "source": [
        "backend = provider.get_backend('ibmq_athens')"
      ]
    },
    {
      "cell_type": "markdown",
      "metadata": {
      },
      "source": [
        "<h4 style=\"font-size: 17px\">Schritt B. Führen Sie die Schaltkreise auf dem Quantensystem aus.</h4>\n",
        "\n",
        "Als wir in Lab1 mehrere Schaltungen auf einem echten Quantensystem ausgeführt haben, haben wir jede Schaltung als separaten Job eingereicht, der die mehreren Job-IDs erzeugt. Dieses Mal fügen wir alle Schaltungen in eine Liste ein und führen die Liste der Schaltungen als einen Job aus. Auf diese Weise kann die gesamte Schaltungsausführung auf einmal erfolgen, was möglicherweise Ihre Wartezeit in der Warteschlange verringern würde.\n",
        "\n",
        "Außerdem wird `transpile` hier nicht verwendet, da alle Schaltungen, die wir betreiben, aus einem oder zwei Qubit-Gattern bestehen. Wir können immer noch initial_layout und optimize_level durch `execute` spezifizieren. Ohne die Verwendung von `transpile` sind die transpilierten Schaltungen nicht zugänglich, was in diesem Fall kein Problem darstellt. "
      ]
    },
    {
      "cell_type": "markdown",
      "metadata": {
      },
      "source": [
        "<p>📓 Überprüfen Sie die Backend-Konfigurationsinformationen und die Fehlerkarte über das Widget, um Ihr <code>initial_layout</code> zu bestimmen.</p>"
      ]
    },
    {
      "cell_type": "code",
      "execution_count": null,
      "metadata": {
        "tags": [
          "uses-hardware"
        ]
      },
      "outputs": [

      ],
      "source": [
        "# run this cell to get the backend information through the widget\n",
        "backend"
      ]
    },
    {
      "cell_type": "code",
      "execution_count": null,
      "metadata": {
        "tags": [
          "uses-hardware"
        ]
      },
      "outputs": [

      ],
      "source": [
        "# assign your choice for the initial layout to the list variable `initial_layout`.\n",
        "initial_layout = "
      ]
    },
    {
      "cell_type": "markdown",
      "metadata": {
      },
      "source": [
        "Führen Sie die folgende Zelle aus, um die Schaltkreise mit dem initial_layout im Backend auszuführen."
      ]
    },
    {
      "cell_type": "code",
      "execution_count": 9,
      "metadata": {
        "tags": [
          "uses-hardware"
        ]
      },
      "outputs": [

      ],
      "source": [
        "qc_all = [state_init+measure_circuit for state_init in [Tri1,Tri2,Tri3,Sing] \n",
        "          for measure_circuit in [measure_XX, measure_YY, measure_ZZ] ]  \n",
        "\n",
        "shots = 8192\n",
        "job = execute(qc_all, backend, initial_layout=initial_layout, optimization_level=3, shots=shots)\n",
        "print(job.job_id())\n",
        "job_monitor(job)"
      ]
    },
    {
      "cell_type": "code",
      "execution_count": 159,
      "metadata": {
        "tags": [
          "uses-hardware"
        ]
      },
      "outputs": [

      ],
      "source": [
        "# getting the results of your job\n",
        "results = job.result()"
      ]
    },
    {
      "cell_type": "code",
      "execution_count": 160,
      "metadata": {
        "tags": [
          "uses-hardware"
        ]
      },
      "outputs": [

      ],
      "source": [
        "## To access the results of the completed job\n",
        "#results = backend.retrieve_job('job_id').result()"
      ]
    },
    {
      "cell_type": "markdown",
      "metadata": {
      },
      "source": [
        "<h4 style=\"font-size: 17px\">Schritt C. Schätzen Sie die Energieniveaus des Grundzustands aus den Ergebnissen des vorherigen Schritts ab, indem Sie die nachstehenden Zellen ausführen.</h4>"
      ]
    },
    {
      "cell_type": "code",
      "execution_count": 161,
      "metadata": {
        "tags": [
          "uses-hardware"
        ]
      },
      "outputs": [

      ],
      "source": [
        "def Energy(results, shots):\n",
        "    \"\"\"Compute the energy levels of the hydrogen ground state.\n",
        "    \n",
        "    Parameters:\n",
        "        results (obj): results, results from executing the circuits for measuring a hamiltonian.\n",
        "        shots (int): shots, number of shots used for the circuit execution.\n",
        "        \n",
        "    Returns:\n",
        "        Energy (list): energy values of the four different hydrogen ground states\n",
        "    \"\"\"\n",
        "    E = []\n",
        "    A = 1.47e-6\n",
        "\n",
        "    for ind_state in range(4):\n",
        "        Energy_meas = []\n",
        "        for ind_comp in range(3):\n",
        "            counts = results.get_counts(ind_state*3+ind_comp)\n",
        "        \n",
        "            # calculate the probabilities for each computational basis\n",
        "            probs = {}\n",
        "            for output in ['00','01', '10', '11']:\n",
        "                if output in counts:\n",
        "                    probs[output] = counts[output]/shots\n",
        "                else:\n",
        "                    probs[output] = 0\n",
        "            \n",
        "            Energy_meas.append( probs['00'] - probs['01'] - probs['10'] + probs['11'] )\n",
        "\n",
        "        E.append(A * np.sum(np.array(Energy_meas)))\n",
        "    \n",
        "    return E"
      ]
    },
    {
      "cell_type": "code",
      "execution_count": 10,
      "metadata": {
        "tags": [
          "uses-hardware"
        ]
      },
      "outputs": [

      ],
      "source": [
        "E = Energy(results, shots)\n",
        "\n",
        "print('Energy expection value of the state Tri1 : {:.3e} eV'.format(E[0]))\n",
        "print('Energy expection value of the state Tri2 : {:.3e} eV'.format(E[1]))\n",
        "print('Energy expection value of the state Tri3 : {:.3e} eV'.format(E[2]))\n",
        "print('Energy expection value of the state Sing : {:.3e} eV'.format(E[3]))"
      ]
    },
    {
      "cell_type": "markdown",
      "metadata": {
      },
      "source": [
        "<h4 style=\"font-size: 17px\">Schritt D. Minderung von Messfehlern.</h4>\n",
        "\n",
        "Die Ergebnisse, die Sie beim Ausführen der Schaltkreise auf dem Quantensystem erhalten haben, sind aufgrund des Rauschens aus den verschiedenen Quellen wie Energierelaxation, Dephasierung, Übersprechen zwischen Qubits usw. nicht exakt. In diesem Schritt werden wir die Auswirkungen des Rauschens durch die verringern Messfehlerminderung. Sehen Sie sich dieses [Video](https://www.youtube.com/watch?v=yuDxHJOKsVA&list=PLOFEBzvs-Vvp2xg9-POLJhQwtVktlYGbY&index=8) an, bevor wir beginnen. "
      ]
    },
    {
      "cell_type": "code",
      "execution_count": 163,
      "metadata": {
        "tags": [
          "uses-hardware"
        ]
      },
      "outputs": [

      ],
      "source": [
        "from qiskit.ignis.mitigation.measurement import *"
      ]
    },
    {
      "cell_type": "markdown",
      "metadata": {
      },
      "source": [
        "<p>📓Konstruieren Sie die Schaltungen, um die Messfehler aller Basiszustände mit der Funktion 'complete_meas_cal' zu profilieren. Rufen Sie das Messfilterobjekt „meas_filter“ ab, das auf die verrauschten Ergebnisse angewendet wird, um Auslese-(Mess-)Fehler zu mindern.</p> "
      ]
    },
    {
      "cell_type": "markdown",
      "metadata": {
      },
      "source": [
        "Weitere hilfreiche Informationen zum Ausführen dieser Aufgabe finden Sie [hier](https://qiskit.org/textbook/ch-quantum-hardware/measurement-error-mitigation.html) . "
      ]
    },
    {
      "cell_type": "code",
      "execution_count": 11,
      "metadata": {
        "scrolled": true,
        "tags": [
          "uses-hardware"
        ]
      },
      "outputs": [

      ],
      "source": [
        "# your code to create the circuits, meas_calibs, goes here\n",
        "meas_calibs, state_labels = \n",
        "\n",
        "\n",
        "\n",
        "# execute meas_calibs on your choice of the backend\n",
        "job = execute(meas_calibs, backend, shots = shots)\n",
        "print(job.job_id())\n",
        "job_monitor(job)\n",
        "cal_results = job.result()\n",
        "## To access the results of the completed job\n",
        "#cal_results = backend.retrieve_job('job_id').result()\n",
        "\n",
        "\n",
        "# your code to obtain the measurement filter object, 'meas_filter', goes here\n",
        "\n",
        "\n",
        "\n",
        "\n"
      ]
    },
    {
      "cell_type": "code",
      "execution_count": 165,
      "metadata": {
        "tags": [
          "uses-hardware"
        ]
      },
      "outputs": [

      ],
      "source": [
        "results_new = meas_filter.apply(results)"
      ]
    },
    {
      "cell_type": "code",
      "execution_count": 13,
      "metadata": {
        "tags": [
          "uses-hardware"
        ]
      },
      "outputs": [

      ],
      "source": [
        "E_new = Energy(results_new, shots)\n",
        "\n",
        "print('Energy expection value of the state Tri1 : {:.3e} eV'.format(E_new[0]))\n",
        "print('Energy expection value of the state Tri2 : {:.3e} eV'.format(E_new[1]))\n",
        "print('Energy expection value of the state Tri3 : {:.3e} eV'.format(E_new[2]))\n",
        "print('Energy expection value of the state Sing : {:.3e} eV'.format(E_new[3]))"
      ]
    },
    {
      "cell_type": "markdown",
      "metadata": {
      },
      "source": [
        "<h4 style=\"font-size: 17px\">Schritt E. Interpretieren Sie das Ergebnis.</h4>"
      ]
    },
    {
      "cell_type": "markdown",
      "metadata": {
      },
      "source": [
        "<p>📓 Berechnen Sie die relativen Fehler (oder den Bruchfehler) der Energiewerte für alle vier Zustände mit und ohne Messfehlerminderung.</p>"
      ]
    },
    {
      "cell_type": "code",
      "execution_count": 167,
      "metadata": {
        "tags": [
          "uses-hardware"
        ]
      },
      "outputs": [

      ],
      "source": [
        "# results for the energy estimation from the simulation, \n",
        "# execution on a quantum system without error mitigation and\n",
        "# with error mitigation in numpy array format \n",
        "Energy_exact, Energy_exp_orig, Energy_exp_new = np.array(E_sim), np.array(E), np.array(E_new)"
      ]
    },
    {
      "cell_type": "code",
      "execution_count": 179,
      "metadata": {
        "tags": [
          "uses-hardware"
        ]
      },
      "outputs": [

      ],
      "source": [
        "# Calculate the relative errors of the energy values without error mitigation \n",
        "# and assign to the numpy array variable `Err_rel_orig` of size 4\n",
        "Err_rel_orig = "
      ]
    },
    {
      "cell_type": "code",
      "execution_count": 169,
      "metadata": {
        "tags": [
          "uses-hardware"
        ]
      },
      "outputs": [

      ],
      "source": [
        "# Calculate the relative errors of the energy values with error mitigation \n",
        "# and assign to the numpy array variable `Err_rel_new` of size 4\n",
        "Err_rel_new = "
      ]
    },
    {
      "cell_type": "code",
      "execution_count": 14,
      "metadata": {
        "tags": [
          "uses-hardware"
        ]
      },
      "outputs": [

      ],
      "source": [
        "np.set_printoptions(precision=3)\n",
        "\n",
        "print('The relative errors of the energy values for four bell basis\\\n",
        " without measurement error mitigation : {}'.format(Err_rel_orig))"
      ]
    },
    {
      "cell_type": "code",
      "execution_count": 15,
      "metadata": {
        "tags": [
          "uses-hardware"
        ]
      },
      "outputs": [

      ],
      "source": [
        "np.set_printoptions(precision=3)\n",
        "\n",
        "print('The relative errors of the energy values for four bell basis\\\n",
        " with measurement error mitigation : {}'.format(Err_rel_new))"
      ]
    },
    {
      "cell_type": "markdown",
      "metadata": {
      },
      "source": [
        "<p>📓 Vergleichen Sie die Größe der Fehler vor und nach der Messfehlerminderung und diskutieren Sie die Auswirkung des Auslesefehlers auf die Fehlerzuordnungsinformationen des von Ihnen ausgewählten Backends.</p> "
      ]
    },
    {
      "cell_type": "markdown",
      "metadata": {
      },
      "source": [
        "**Ihre Antwort:**"
      ]
    }
  ],
  "metadata": {
    "kernelspec": {
      "display_name": "Python 3",
      "language": "python",
      "name": "python3"
    },
    "language_info": {
      "codemirror_mode": {
        "name": "ipython",
        "version": 3
      },
      "file_extension": ".py",
      "mimetype": "text/x-python",
      "name": "python",
      "nbconvert_exporter": "python",
      "pygments_lexer": "ipython3",
      "version": "3.9"
    }
  },
  "nbformat": 4,
  "nbformat_minor": 2
}
