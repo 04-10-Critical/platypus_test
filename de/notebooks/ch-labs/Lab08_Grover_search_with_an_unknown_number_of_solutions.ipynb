{
  "cells": [
    {
      "cell_type": "markdown",
      "metadata": {
        "tags": [
          "remove_cell"
        ]
      },
      "source": [
        "# Labor 8 Grovers Suche mit einer unbekannten Anzahl von Lösungen"
      ]
    },
    {
      "cell_type": "markdown",
      "metadata": {
      },
      "source": [
        "Voraussetzung\n",
        "\n",
        "- [Kapitel 3.8 Grovers Algorithmus](https://qiskit.org/textbook/ch-algorithms/grover.html)\n",
        "- [Kap.3.9 Quantenzählung](https://qiskit.org/textbook/ch-algorithms/quantum-counting.html)\n",
        "\n",
        "Andere relevante Materialien\n",
        "\n",
        "- [Abschnitt 3.3 Messen von T1 in Kap.6.1](https://learn.qiskit.org/course/quantum-hardware-pulses/calibrating-qubits-using-qiskit-pulse#T1)\n",
        "- [QCQI] Michael A. Nielsen und Isaac L. Chuang. 2011. Quantencomputation und Quanteninformation"
      ]
    },
    {
      "cell_type": "code",
      "execution_count": 1,
      "metadata": {
      },
      "outputs": [

      ],
      "source": [
        "from qiskit import *\n",
        "from qiskit.tools.visualization import plot_histogram\n",
        "from qiskit.quantum_info import Operator, Statevector\n",
        "from qiskit.tools.monitor import job_monitor\n",
        "from qiskit.ignis.mitigation.measurement import *\n",
        "\n",
        "import numpy as np\n",
        "import matplotlib.pyplot as plt"
      ]
    },
    {
      "cell_type": "markdown",
      "metadata": {
      },
      "source": [
        "<h2 style=\"font-size:24px;\">Teil 1: Quantenzählung</h2>\n",
        "\n",
        "<br>\n",
        "<div style=\"background: #E8E7EB; border-radius: 5px;\n",
        "-moz-border-radius: 5px;\">\n",
        "  <p style=\"background: #800080;\n",
        "            border-radius: 5px 5px 0px 0px;\n",
        "            padding: 10px 0px 10px 10px;\n",
        "            font-size:18px;\n",
        "            color:white;\n",
        "            \"><b>Tor</b></p>\n",
        "    <p style=\" padding: 0px 0px 10px 10px;\n",
        "              font-size:16px;\">Konstruieren Sie eine Schaltung zur Quantenzählung, die den IPE-Algorithmus (Iterative Phase Estimation) implementiert, um die Anzahl der Lösungen für ein Suchproblem zu finden.</p>\n",
        "</div>\n",
        "\n",
        "In [Kapitel 3.10 Grovers Algorithmus](https://qiskit.org/textbook/ch-algorithms/grover.html) haben wir in [Kapitel 3.11](https://qiskit.org/textbook/ch-algorithms/quantum-counting.html) Quantenzählung gelernt, wie man Suchproblemlösungen durch Grovers Algorithmus findet, und die Anzahl der Lösungen, die die Quantenzählschaltung verwenden. Die Anzahl der Lösungen zusammen mit der Anzahl der gesamten Elemente im Suchraum bestimmt die Anzahl der Grover-Iterationen und die Anzahl der erforderlichen Orakelaufrufe. In Teil 1 dieser Übung bauen wir die Quantenzählschaltung, die den IPE-Algorithmus implementiert, und nicht so, wie die Schaltung in [Kapitel 3.11 Quantenzählung](https://qiskit.org/textbook/ch-algorithms/quantum-counting.html) mit Quantenphasenschätzung (QPE) erstellt wurde."
      ]
    },
    {
      "cell_type": "markdown",
      "metadata": {
      },
      "source": [
        "<h3 style=\"font-size: 20px\">1. Finden Sie die Anzahl der Lösungen des gegebenen Orakels für ein Suchproblem durch Quantenzählung.</h3> "
      ]
    },
    {
      "cell_type": "markdown",
      "metadata": {
      },
      "source": [
        "<h4 style=\"font-size: 17px\">Schritt A. Konstruieren Sie ein Gatter für die Grover-Iteration.</h4>"
      ]
    },
    {
      "cell_type": "markdown",
      "metadata": {
      },
      "source": [
        "Betrachten Sie den Suchraum mit der Gesamtzahl der Elemente, $N = 8$. Führen Sie die folgende Zelle aus, um ein Orakel eines Suchproblems zu erstellen."
      ]
    },
    {
      "cell_type": "code",
      "execution_count": 2,
      "metadata": {
      },
      "outputs": [

      ],
      "source": [
        "## Create an Oracle\n",
        "\n",
        "N = 8 # the number of total items in the search space\n",
        "m = int(np.log2(N)) # the number of qubits required to construct the search space with N items\n",
        "\n",
        "myqc = QuantumCircuit(m, name='Oracle')\n",
        "myqc.x(1)\n",
        "myqc.z(range(2))\n",
        "myqc.x(1)\n",
        "\n",
        "Oracle = myqc.to_gate()"
      ]
    },
    {
      "cell_type": "markdown",
      "metadata": {
      },
      "source": [
        "📓 Vervollständigen Sie die Schaltung, `qc` , um das Grover-Iterationsgatter/den Operator `Grover` zu erstellen, indem Sie den Diffusor hinzufügen, der als Schritt 3 im ersten Abschnitt 1. `1.Introdcution` von [Kapitel 3.10 Grovers Algorithmus erklärt wird](https://qiskit.org/textbook/ch-algorithms/grover.html) ."
      ]
    },
    {
      "cell_type": "code",
      "execution_count": 3,
      "metadata": {
      },
      "outputs": [

      ],
      "source": [
        "qc = QuantumCircuit(m)\n",
        "qc.append(Oracle, range(m))\n",
        "\n",
        "### your code goes here\n",
        "\n",
        "\n",
        "\n",
        "\n",
        "\n",
        "\n",
        "\n",
        "\n",
        "\n",
        "\n",
        "\n",
        "\n",
        "\n",
        "####\n",
        "\n",
        "Grover = qc.to_gate()"
      ]
    },
    {
      "cell_type": "markdown",
      "metadata": {
      },
      "source": [
        "<h4 style=\"font-size: 17px\">📓Schritt B. Erstellen Sie eine Quantenschaltung, <code>circ</code> , für die Quantenzählung, indem Sie den IPE-Algorithmus verwenden, um den Eigenwert des Grover-Iterators <code>Grover</code> zu finden, den wir in Schritt A erstellt haben.</h4>"
      ]
    },
    {
      "cell_type": "markdown",
      "metadata": {
      },
      "source": [
        "Lesen Sie [Kapitel 3.11 Quantenzählung](https://qiskit.org/textbook/ch-algorithms/quantum-counting.html) , bevor Sie beginnen. Angenommen, die Anzahl der Iterationen des IPE ist hier drei, was drei zählenden Qubits in der QPE-Schaltung (Quantum Phase Estimate) entspricht. (Mit anderen Worten, stellen Sie die Nummer des klassischen Registers drei ein.) "
      ]
    },
    {
      "cell_type": "code",
      "execution_count": 1,
      "metadata": {
      },
      "outputs": [

      ],
      "source": [
        "###### your code goes here\n",
        "\n",
        "\n",
        "\n",
        "\n",
        "\n",
        "\n",
        "\n",
        "\n",
        "\n",
        "\n",
        "\n",
        "\n",
        "\n",
        "\n",
        "\n",
        "\n",
        "\n",
        "\n",
        "\n",
        "\n",
        "\n",
        "\n",
        "\n",
        "\n",
        "\n",
        "\n",
        "\n",
        "\n",
        "###################    \n",
        "circ.draw()"
      ]
    },
    {
      "cell_type": "markdown",
      "metadata": {
      },
      "source": [
        "<h4 style=\"font-size: 17px\">📓Schritt C. Führen Sie die Schaltung aus, die Sie in Schritt B gebaut haben, und finden Sie die Anzahl der Lösungen, $M$, aus der geschätzten Phase.</h4>"
      ]
    },
    {
      "cell_type": "code",
      "execution_count": 3,
      "metadata": {
      },
      "outputs": [

      ],
      "source": [
        "sim = Aer.get_backend('qasm_simulator')\n",
        "shots = 20000"
      ]
    },
    {
      "cell_type": "code",
      "execution_count": 2,
      "metadata": {
      },
      "outputs": [

      ],
      "source": [
        "####### Your code goes here\n",
        "\n",
        "\n",
        "\n",
        "\n",
        "\n",
        "\n",
        "\n",
        "\n",
        "\n",
        "\n",
        "\n",
        "\n",
        "\n",
        "\n"
      ]
    },
    {
      "cell_type": "markdown",
      "metadata": {
      },
      "source": [
        "<h2 style=\"font-size:24px;\">Teil 2: Implementierung von Grovers Algorithmus mit einem erweiterten Orakel</h2>\n",
        "\n",
        "<br>\n",
        "<div style=\"background: #E8E7EB; border-radius: 5px;\n",
        "-moz-border-radius: 5px;\">\n",
        "  <p style=\"background: #800080;\n",
        "            border-radius: 5px 5px 0px 0px;\n",
        "            padding: 10px 0px 10px 10px;\n",
        "            font-size:18px;\n",
        "            color:white;\n",
        "            \"><b>Tor</b></p>\n",
        "    <p style=\" padding: 0px 0px 10px 10px;\n",
        "              font-size:16px;\">Konstruieren Sie ein neues erweitertes Orakel, um den Suchraum zu verdoppeln, wenn die Anzahl der Lösungen $M$ größer oder gleich der Anzahl der Gesamtelemente $N$ ist, $M \\geq N/2$.</p>\n",
        "</div>\n",
        "\n",
        "Wenn die Anzahl der Lösungen $M$ größer oder gleich der Hälfte der gesamten Items $N$ ( $M \\geq N/2$ ) ist, wird der Winkel $\\theta (= \\arcsin(2\\sqrt {M(NM)}/N) )$, der Rotationsbetrag hin zu den Lösungen durch jede Grover-Iteration, wird kleiner, wenn $M$ von $N/2$ bis $N$ variiert. Daher steigt die Anzahl der vom Suchalgorithmus benötigten Orakelaufrufe eher mit $M$, obwohl es einfacher sein sollte, eine Lösung für das Problem zu finden, wenn die Mehrheit der Elemente eine Lösung ist. In Teil 2 dieses Labs erstellen wir ein neues erweitertes Orakel, das den Suchbereich verdoppelt, um das Problem zu lösen. "
      ]
    },
    {
      "cell_type": "markdown",
      "metadata": {
      },
      "source": [
        "<h3 style=\"font-size: 20px\">1. Verstehen Sie das Problem.</h3>"
      ]
    },
    {
      "cell_type": "markdown",
      "metadata": {
      },
      "source": [
        "<h4 style=\"font-size: 17px\">📓Schritt A. Überprüfen Sie, ob der Winkel $\\theta$ kleiner wird, wenn $M$ von $N/2$ bis $N$ variiert.</h4>"
      ]
    },
    {
      "cell_type": "markdown",
      "metadata": {
      },
      "source": [
        "Zeichnen Sie die Beziehung zwischen $M$ und $\\theta$, wenn $N = 2^{10}$."
      ]
    },
    {
      "cell_type": "code",
      "execution_count": 8,
      "metadata": {
      },
      "outputs": [

      ],
      "source": [
        "## Your code goes here\n",
        "\n",
        "\n",
        "\n",
        "\n",
        "\n",
        "\n",
        "\n",
        "\n",
        "\n",
        "\n",
        "\n",
        "\n",
        "\n",
        "\n",
        "\n"
      ]
    },
    {
      "cell_type": "markdown",
      "metadata": {
      },
      "source": [
        "<h4 style=\"font-size: 17px\">📓Schritt B. Ermitteln Sie den Winkel $\\theta$ und die Anzahl der Grover-Iterationen, $R$, die benötigt werden, um die Lösungen des Orakels in Teil 1 zu finden, und interpretieren Sie das Ergebnis.</h4>"
      ]
    },
    {
      "cell_type": "markdown",
      "metadata": {
      },
      "source": [
        "In [QCQI] p253 wird $R$ durch $R = CI(\\frac{\\arccos \\sqrt{M/N}}{\\theta})$ geschätzt, wobei $\\theta$ aus $\\sin\\theta bestimmt wird = \\frac{2\\sqrt{M(NM)}}{N}$ und $CI(x)$ bezeichnet die ganze Zahl, die der reellen Zahl $x$ am nächsten kommt, wobei wir gemäß Konvention die Hälfte abrunden, $CI(3.5) =3$, zum Beispiel."
      ]
    },
    {
      "cell_type": "code",
      "execution_count": 3,
      "metadata": {
      },
      "outputs": [

      ],
      "source": [
        "N = 8\n",
        "## Your code goes here\n",
        "\n",
        "\n",
        "\n",
        "\n",
        "\n",
        "\n",
        "\n",
        "\n",
        "\n",
        "\n",
        "\n",
        "\n"
      ]
    },
    {
      "cell_type": "markdown",
      "metadata": {
      },
      "source": [
        "<h3 style=\"font-size: 20px\">2. Finden Sie die Lösungen des Suchproblems aus Teil 1.</h3>"
      ]
    },
    {
      "cell_type": "markdown",
      "metadata": {
      },
      "source": [
        "Die Lösungen können immer noch durch Grovers Algorithmus gefunden werden, wenn $M \\geq N/2$ durch Verdoppeln des Suchraums mit einem einzelnen zusätzlichen Qubit $|q\\rangle$ im Suchindex und Erstellen eines neuen erweiterten Orakels mit der Gesamtzahl der Elemente , $2N$ und $M$ Anzahl von Lösungen."
      ]
    },
    {
      "cell_type": "markdown",
      "metadata": {
      },
      "source": [
        "<h4 style=\"font-size: 17px\">📓Schritt A. Erstellen Sie ein neues erweitertes Orakeltor/einen neuen Operator, <code>Oracle_new</code> , im verdoppelten Suchraum.</h4>"
      ]
    },
    {
      "cell_type": "markdown",
      "metadata": {
      },
      "source": [
        "Mit diesem neuen Orakel im doppelten Suchraum ist das Problem nun definiert, $M$ Lösungen aus 16 ( = 2x$N$ ) Gesamtelementen zu finden. Daher sind jetzt weniger als die Hälfte der Elemente im neuen Suchraum Lösungen.\n",
        "\n",
        "Wie in [QCQI] Kap.6.1.4 (p255) erklärt, markiert das neue erweiterte Orakel ein Element nur dann, wenn es eine Lösung für das Suchproblem ist und das zusätzliche Bit auf Null gesetzt ist. Das erweiterte Orakel kann unter Verwendung einer Anwendung des ursprünglichen Orakels, `Oracle` in Teil 1, und elementaren Quantengattern unter Verwendung des zusätzlichen Qubits $|q\\rangle$ konstruiert werden."
      ]
    },
    {
      "cell_type": "code",
      "execution_count": 6,
      "metadata": {
      },
      "outputs": [

      ],
      "source": [
        "## your code goes here\n",
        "\n",
        "\n",
        "\n",
        "\n",
        "\n",
        "\n",
        "\n",
        "\n",
        "\n",
        "\n",
        "\n",
        "\n",
        "\n",
        "\n",
        "\n",
        "\n",
        "\n",
        "\n"
      ]
    },
    {
      "cell_type": "markdown",
      "metadata": {
      },
      "source": [
        "<h4 style=\"font-size: 17px\">📓Schritt B. Bewerten Sie die Anzahl der Grover-Iterationen, $R$, die benötigt werden, um $M$-Lösungen unter den insgesamt 16 Elementen zu finden.</h4>"
      ]
    },
    {
      "cell_type": "code",
      "execution_count": 5,
      "metadata": {
      },
      "outputs": [

      ],
      "source": [
        "## Your code goes here\n",
        "\n",
        "\n",
        "\n",
        "\n",
        "\n"
      ]
    },
    {
      "cell_type": "markdown",
      "metadata": {
      },
      "source": [
        "<h4 style=\"font-size: 17px\">📓Schritt C. Erstellen Sie eine Quantenschaltung <code>qc_final</code> , um Lösungen für das Suchproblem zu finden, indem Sie die Grover-Iteration <code>R</code> -mal anwenden.</h4>"
      ]
    },
    {
      "cell_type": "markdown",
      "metadata": {
      },
      "source": [
        "Ein `diffuser` -Gate, das aus einer Grover-Iteration mit `Oracle_new` besteht, sollte entsprechend für den neuen Suchraum gebaut werden. Überprüfen Sie Abschnitt 3.3.1 `Qiskit Implementation` in [Kapitel 3.10 Grovers Algorithmus](https://qiskit.org/textbook/ch-algorithms/grover.html) , um zu erfahren, wie ein allgemeiner Diffusor erstellt wird."
      ]
    },
    {
      "cell_type": "code",
      "execution_count": 7,
      "metadata": {
      },
      "outputs": [

      ],
      "source": [
        "## Your code goes here\n",
        "\n",
        "\n",
        "\n",
        "\n",
        "\n",
        "\n",
        "\n",
        "\n",
        "\n",
        "\n",
        "\n",
        "\n",
        "\n",
        "\n",
        "\n",
        "\n",
        "\n",
        "\n",
        "\n",
        "\n",
        "\n",
        "\n",
        "\n",
        "\n",
        "##########################\n",
        "\n",
        "qc_final.draw()"
      ]
    },
    {
      "cell_type": "code",
      "execution_count": 8,
      "metadata": {
      },
      "outputs": [

      ],
      "source": [
        "count = execute(qc_final, sim ,shots=shots).result().get_counts()\n",
        "plot_histogram(count)"
      ]
    },
    {
      "cell_type": "markdown",
      "metadata": {
      },
      "source": [
        "<h4 style=\"font-size: 17px\">📓Schritt D. Überprüfen Sie, ob die Lösungen korrekt sind, indem Sie das ursprüngliche Orakel, <code>Oracle</code> , in Teil 1 verwenden.</h4>"
      ]
    },
    {
      "cell_type": "code",
      "execution_count": 9,
      "metadata": {
      },
      "outputs": [

      ],
      "source": [
        "## your code goes here\n",
        "\n",
        "\n",
        "\n",
        "\n",
        "\n",
        "\n",
        "\n",
        "\n",
        "\n",
        "\n",
        "\n",
        "\n",
        "\n",
        "\n",
        "\n",
        "\n",
        "\n",
        "\n",
        "\n"
      ]
    },
    {
      "cell_type": "markdown",
      "metadata": {
      },
      "source": [
        "<h2 style=\"font-size:24px;\">Teil 3: Grover-Schaltung auf Noisy Quantum System</h2>\n",
        "\n",
        "<br>\n",
        "<div style=\"background: #E8E7EB; border-radius: 5px;\n",
        "-moz-border-radius: 5px;\">\n",
        "  <p style=\"background: #800080;\n",
        "            border-radius: 5px 5px 0px 0px;\n",
        "            padding: 10px 0px 10px 10px;\n",
        "            font-size:18px;\n",
        "            color:white;\n",
        "            \"><b>Tor</b></p>\n",
        "    <p style=\" padding: 0px 0px 10px 10px;\n",
        "              font-size:16px;\">Führen Sie die Grover-Schaltung, die wir in Teil 2 gebaut haben, auf einem realen Quantensystem aus.</p>\n",
        "</div>\n",
        "\n",
        "In Teil 3 führen wir die Schaltung `qc_final` , die wir in Teil 2 aufgebaut haben, um die Lösungen des Suchproblems auf einem realen Quantensystem zu finden. Da die heutigen Quantencomputer verrauscht sind, wird die Antwort daraus nicht mit dem Simulationsergebnis übereinstimmen, das wir in Teil 2 erhalten haben. Wir untersuchen, wie Rauschen das Ergebnis beeinflusst, und diskutieren die möglichen Fehlerquellen."
      ]
    },
    {
      "cell_type": "markdown",
      "metadata": {
      },
      "source": [
        "<h4 style=\"font-size: 17px\">Schritt A. Führen Sie die folgende Zelle aus, um Ihr Konto zu laden und das Backend festzulegen.</h4>"
      ]
    },
    {
      "cell_type": "code",
      "execution_count": 16,
      "metadata": {
        "tags": [
          "uses-hardware"
        ]
      },
      "outputs": [

      ],
      "source": [
        "provider = IBMQ.load_account()\n",
        "backend = provider.get_backend('ibmq_athens')"
      ]
    },
    {
      "cell_type": "markdown",
      "metadata": {
      },
      "source": [
        "<h4 style=\"font-size: 17px\">📓Schritt B. Generieren Sie mehrere (beliebig viele) transpilierte Schaltungen von <code>qc_final</code> . Wählen Sie einen mit der minimalen Schaltungstiefe.</h4>"
      ]
    },
    {
      "cell_type": "markdown",
      "metadata": {
      },
      "source": [
        "Wie wir in Lab5 gelernt haben, können wir die Genauigkeit der Ergebnisse von verrauschten Quantensystemen erhöhen, indem wir die Tiefe der von uns betriebenen Schaltung minimieren. "
      ]
    },
    {
      "cell_type": "code",
      "execution_count": 17,
      "metadata": {
        "tags": [
          "uses-hardware"
        ]
      },
      "outputs": [

      ],
      "source": [
        "## your code goes here\n",
        "\n",
        "\n",
        "\n",
        "\n",
        "\n",
        "\n",
        "\n",
        "\n",
        "\n",
        "\n"
      ]
    },
    {
      "cell_type": "markdown",
      "metadata": {
      },
      "source": [
        "<h4 style=\"font-size: 17px\">📓Schritt C. Führen Sie die Schaltung im Backend aus.</h4>"
      ]
    },
    {
      "cell_type": "code",
      "execution_count": 21,
      "metadata": {
        "tags": [
          "uses-hardware"
        ]
      },
      "outputs": [

      ],
      "source": [
        "shots = 8192\n",
        "## Your code goes here\n",
        "\n",
        "\n",
        "\n",
        "\n",
        "\n"
      ]
    },
    {
      "cell_type": "markdown",
      "metadata": {
      },
      "source": [
        "<h4 style=\"font-size: 17px\">📓Schritt D. Zeichnen Sie das Histogramm des Ergebnisses von <code>ibmq_athens</code> zusammen mit dem Simulationsergebnis, um zu vergleichen und zu diskutieren, wie Rauschen das Ergebnis beeinflusst.</h4>"
      ]
    },
    {
      "cell_type": "markdown",
      "metadata": {
      },
      "source": [
        "Denken Sie darüber nach, warum einige der Lösungen stärker von Rauschen betroffen sind als andere."
      ]
    },
    {
      "cell_type": "code",
      "execution_count": 10,
      "metadata": {
        "tags": [
          "uses-hardware"
        ]
      },
      "outputs": [

      ],
      "source": [
        "## Your code goes here\n",
        "\n",
        "\n",
        "\n",
        "\n",
        "\n"
      ]
    }
  ],
  "metadata": {
    "kernelspec": {
      "display_name": "Python 3",
      "language": "python",
      "name": "python3"
    },
    "language_info": {
      "codemirror_mode": {
        "name": "ipython",
        "version": 3
      },
      "file_extension": ".py",
      "mimetype": "text/x-python",
      "name": "python",
      "nbconvert_exporter": "python",
      "pygments_lexer": "ipython3",
      "version": "3.9"
    }
  },
  "nbformat": 4,
  "nbformat_minor": 4
}
