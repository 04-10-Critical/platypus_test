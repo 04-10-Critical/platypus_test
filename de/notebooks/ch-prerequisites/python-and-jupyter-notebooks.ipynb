{
  "cells": [
    {
      "cell_type": "markdown",
      "metadata": {
        "tags": [
          "remove_cell"
        ]
      },
      "source": [
        "# Einführung in Python- und Jupyter-Notebooks"
      ]
    },
    {
      "cell_type": "markdown",
      "metadata": {
      },
      "source": [
        "Python ist eine Programmiersprache, bei der Sie nicht kompilieren müssen. Sie können es einfach Zeile für Zeile ausführen (so können wir es in einem Notebook verwenden). Wenn Sie also ganz neu in der Programmierung sind, ist Python ein großartiger Ausgangspunkt. Die aktuelle Version ist Python 3, die wir hier verwenden werden.\n",
        "\n",
        "Eine Möglichkeit, in Python zu programmieren, ist die Verwendung eines Jupyter-Notebooks. Dies ist wahrscheinlich der beste Weg, um Programmierung, Text und Bilder zu kombinieren. In einem Notizbuch ist alles in Zellen angeordnet. Textzellen und Codezellen sind die häufigsten. Wenn Sie diesen Abschnitt als Jupyter-Notizbuch anzeigen, befindet sich der Text, den Sie gerade lesen, in einer Textzelle. Eine Codezelle befindet sich direkt darunter.\n",
        "\n",
        "Um den Inhalt einer Codezelle auszuführen, können Sie darauf klicken und Umschalt + Eingabetaste drücken. Oder wenn links ein kleiner Pfeil ist, können Sie darauf klicken."
      ]
    },
    {
      "cell_type": "code",
      "execution_count": 1,
      "metadata": {
      },
      "outputs": [
        {
          "data": {
            "text/plain": [
              "2"
            ]
          },
          "execution_count": 1,
          "metadata": {
          },
          "output_type": "execute_result"
        }
      ],
      "source": [
        "1 + 1"
      ]
    },
    {
      "cell_type": "markdown",
      "metadata": {
      },
      "source": [
        "Wenn Sie diesen Abschnitt als Jupyter-Notebook anzeigen, führen Sie beim Lesen jede der Codezellen aus."
      ]
    },
    {
      "cell_type": "code",
      "execution_count": 2,
      "metadata": {
      },
      "outputs": [
        {
          "data": {
            "text/plain": [
              "1.5"
            ]
          },
          "execution_count": 2,
          "metadata": {
          },
          "output_type": "execute_result"
        }
      ],
      "source": [
        "a = 1\n",
        "b = 0.5\n",
        "a + b"
      ]
    },
    {
      "cell_type": "markdown",
      "metadata": {
      },
      "source": [
        "Oben haben wir zwei Variablen erstellt, die wir `a` und `b` genannt haben, und ihnen Werte gegeben. Dann haben wir sie hinzugefügt. Einfache Arithmetik wie diese ist in Python ziemlich einfach."
      ]
    },
    {
      "cell_type": "markdown",
      "metadata": {
      },
      "source": [
        "Variablen in Python gibt es in vielen Formen. Nachfolgend finden Sie einige Beispiele."
      ]
    },
    {
      "cell_type": "code",
      "execution_count": 3,
      "metadata": {
      },
      "outputs": [

      ],
      "source": [
        "an_integer = 42 # Just an integer\n",
        "a_float = 0.1 # A non-integer number, up to a fixed precision\n",
        "a_boolean = True # A value that can be True or False\n",
        "a_string = '''just enclose text between two 's, or two \"s, or do what we did for this string''' # Text\n",
        "none_of_the_above = None # The absence of any actual value or variable type"
      ]
    },
    {
      "cell_type": "markdown",
      "metadata": {
      },
      "source": [
        "Neben Zahlen ist eine weitere Datenstruktur, die wir verwenden können, die *Liste* ."
      ]
    },
    {
      "cell_type": "code",
      "execution_count": 4,
      "metadata": {
      },
      "outputs": [

      ],
      "source": [
        "a_list = [0,1,2,3]"
      ]
    },
    {
      "cell_type": "markdown",
      "metadata": {
      },
      "source": [
        "Listen in Python können eine beliebige Mischung von Variablentypen enthalten."
      ]
    },
    {
      "cell_type": "code",
      "execution_count": 5,
      "metadata": {
      },
      "outputs": [

      ],
      "source": [
        "a_list = [ 42, 0.5, True, [0,1], None, 'Banana' ]"
      ]
    },
    {
      "cell_type": "markdown",
      "metadata": {
      },
      "source": [
        "Listen werden in Python ab `0` indiziert (im Gegensatz zu Sprachen wie Fortran). So greifen Sie also auf die `42` am Anfang der obigen Liste zu."
      ]
    },
    {
      "cell_type": "code",
      "execution_count": 6,
      "metadata": {
      },
      "outputs": [
        {
          "data": {
            "text/plain": [
              "42"
            ]
          },
          "execution_count": 6,
          "metadata": {
          },
          "output_type": "execute_result"
        }
      ],
      "source": [
        "a_list[0]"
      ]
    },
    {
      "cell_type": "markdown",
      "metadata": {
      },
      "source": [
        "Eine ähnliche Datenstruktur ist das *Tupel* ."
      ]
    },
    {
      "cell_type": "code",
      "execution_count": 7,
      "metadata": {
      },
      "outputs": [
        {
          "data": {
            "text/plain": [
              "42"
            ]
          },
          "execution_count": 7,
          "metadata": {
          },
          "output_type": "execute_result"
        }
      ],
      "source": [
        "a_tuple = ( 42, 0.5, True, [0,1], None, 'Banana' )\n",
        "a_tuple[0]"
      ]
    },
    {
      "cell_type": "markdown",
      "metadata": {
      },
      "source": [
        "Ein wesentlicher Unterschied zwischen der Liste und dem Tupel besteht darin, dass Listenelemente geändert werden können"
      ]
    },
    {
      "cell_type": "code",
      "execution_count": 8,
      "metadata": {
      },
      "outputs": [
        {
          "name": "stdout",
          "output_type": "stream",
          "text": [
            "[42, 0.5, True, [0, 1], None, 'apple']\n"
          ]
        }
      ],
      "source": [
        "a_list[5] = 'apple'\n",
        "\n",
        "print(a_list)"
      ]
    },
    {
      "cell_type": "markdown",
      "metadata": {
      },
      "source": [
        "wohingegen Tupelelemente dies nicht können"
      ]
    },
    {
      "cell_type": "code",
      "execution_count": 9,
      "metadata": {
        "tags": [
          "raises-exception"
        ]
      },
      "outputs": [
        {
          "ename": "TypeError",
          "evalue": "'tuple' object does not support item assignment",
          "output_type": "error",
          "traceback": [
            "\u001b[0;31m---------------------------------------------------------------------------\u001b[0m",
            "\u001b[0;31mTypeError\u001b[0m                                 Traceback (most recent call last)",
            "\u001b[0;32m<ipython-input-9-42d08f1e5606>\u001b[0m in \u001b[0;36m<module>\u001b[0;34m\u001b[0m\n\u001b[0;32m----> 1\u001b[0;31m \u001b[0ma_tuple\u001b[0m\u001b[0;34m[\u001b[0m\u001b[0;36m5\u001b[0m\u001b[0;34m]\u001b[0m \u001b[0;34m=\u001b[0m \u001b[0;34m'apple'\u001b[0m\u001b[0;34m\u001b[0m\u001b[0;34m\u001b[0m\u001b[0m\n\u001b[0m",
            "\u001b[0;31mTypeError\u001b[0m: 'tuple' object does not support item assignment"
          ]
        }
      ],
      "source": [
        "a_tuple[5] = 'apple'"
      ]
    },
    {
      "cell_type": "markdown",
      "metadata": {
      },
      "source": [
        "Außerdem können wir am Ende einer Liste ein Element hinzufügen, was mit Tupeln nicht möglich ist."
      ]
    },
    {
      "cell_type": "code",
      "execution_count": 10,
      "metadata": {
      },
      "outputs": [
        {
          "name": "stdout",
          "output_type": "stream",
          "text": [
            "[42, 0.5, True, [0, 1], None, 'apple', 3.14]\n"
          ]
        }
      ],
      "source": [
        "a_list.append( 3.14 )\n",
        "\n",
        "print(a_list)"
      ]
    },
    {
      "cell_type": "markdown",
      "metadata": {
      },
      "source": [
        "Eine weitere nützliche Datenstruktur ist das *Dictionary* . Hier wird eine Reihe von *Werten gespeichert* , die jeweils mit einem eindeutigen *Schlüssel* gekennzeichnet sind.\n",
        "\n",
        "Werte können jeden Datentyp haben. Schlüssel können alles sein, was ausreichend einfach ist (Integer, Float, Boolean, String). Es kann keine Liste sein, aber es *kann* ein Tupel sein."
      ]
    },
    {
      "cell_type": "code",
      "execution_count": 11,
      "metadata": {
      },
      "outputs": [

      ],
      "source": [
        "a_dict = { 1:'This is the value, for the key 1', 'This is the key for a value 1':1, False:':)', (0,1):256 }"
      ]
    },
    {
      "cell_type": "markdown",
      "metadata": {
      },
      "source": [
        "Der Zugriff auf die Werte erfolgt über die Tasten"
      ]
    },
    {
      "cell_type": "code",
      "execution_count": 12,
      "metadata": {
      },
      "outputs": [
        {
          "data": {
            "text/plain": [
              "1"
            ]
          },
          "execution_count": 12,
          "metadata": {
          },
          "output_type": "execute_result"
        }
      ],
      "source": [
        "a_dict['This is the key for a value 1']"
      ]
    },
    {
      "cell_type": "markdown",
      "metadata": {
      },
      "source": [
        "Neue Schlüssel/Wert-Paare können hinzugefügt werden, indem Sie einfach den neuen Wert für den neuen Schlüssel angeben"
      ]
    },
    {
      "cell_type": "code",
      "execution_count": 13,
      "metadata": {
      },
      "outputs": [

      ],
      "source": [
        "a_dict['new key'] = 'new_value'"
      ]
    },
    {
      "cell_type": "markdown",
      "metadata": {
      },
      "source": [
        "Um einen Zahlenbereich zu durchlaufen, lautet die Syntax"
      ]
    },
    {
      "cell_type": "code",
      "execution_count": 14,
      "metadata": {
      },
      "outputs": [
        {
          "name": "stdout",
          "output_type": "stream",
          "text": [
            "0\n",
            "1\n",
            "2\n",
            "3\n",
            "4\n"
          ]
        }
      ],
      "source": [
        "for j in range(5):\n",
        "    print(j)"
      ]
    },
    {
      "cell_type": "markdown",
      "metadata": {
      },
      "source": [
        "Beachten Sie, dass es (standardmäßig) bei 0 beginnt und bei `range(n)` bei n-1 endet."
      ]
    },
    {
      "cell_type": "markdown",
      "metadata": {
      },
      "source": [
        "Sie können auch jedes „iterierbare“ Objekt wie Listen durchlaufen"
      ]
    },
    {
      "cell_type": "code",
      "execution_count": 15,
      "metadata": {
      },
      "outputs": [
        {
          "name": "stdout",
          "output_type": "stream",
          "text": [
            "42\n",
            "0.5\n",
            "True\n",
            "[0, 1]\n",
            "None\n",
            "apple\n",
            "3.14\n"
          ]
        }
      ],
      "source": [
        "for j in a_list:\n",
        "    print(j)"
      ]
    },
    {
      "cell_type": "markdown",
      "metadata": {
      },
      "source": [
        "oder Wörterbücher"
      ]
    },
    {
      "cell_type": "code",
      "execution_count": 16,
      "metadata": {
      },
      "outputs": [
        {
          "name": "stdout",
          "output_type": "stream",
          "text": [
            "key = 1\n",
            "value = This is the value, for the key 1\n",
            "\n",
            "key = This is the key for a value 1\n",
            "value = 1\n",
            "\n",
            "key = False\n",
            "value = :)\n",
            "\n",
            "key = (0, 1)\n",
            "value = 256\n",
            "\n",
            "key = new key\n",
            "value = new_value\n",
            "\n"
          ]
        }
      ],
      "source": [
        "for key in a_dict:\n",
        "    value = a_dict[key]\n",
        "    print('key =',key)\n",
        "    print('value =',value)\n",
        "    print()"
      ]
    },
    {
      "cell_type": "markdown",
      "metadata": {
      },
      "source": [
        "Bedingte Anweisungen werden mit `if` , `elif` und `else` mit der folgenden Syntax ausgeführt."
      ]
    },
    {
      "cell_type": "code",
      "execution_count": 17,
      "metadata": {
      },
      "outputs": [
        {
          "name": "stdout",
          "output_type": "stream",
          "text": [
            "We have an apple!\n"
          ]
        }
      ],
      "source": [
        "if 'strawberry' in a_list:\n",
        "    print('We have a strawberry!')\n",
        "elif a_list[5]=='apple':\n",
        "    print('We have an apple!')\n",
        "else:\n",
        "    print('Not much fruit here!')"
      ]
    },
    {
      "cell_type": "markdown",
      "metadata": {
      },
      "source": [
        "Das Importieren von Paketen erfolgt mit einer Zeile wie z"
      ]
    },
    {
      "cell_type": "code",
      "execution_count": 18,
      "metadata": {
      },
      "outputs": [

      ],
      "source": [
        "import numpy"
      ]
    },
    {
      "cell_type": "markdown",
      "metadata": {
      },
      "source": [
        "Das `numpy` -Paket ist wichtig für die Mathematik"
      ]
    },
    {
      "cell_type": "code",
      "execution_count": 19,
      "metadata": {
      },
      "outputs": [
        {
          "data": {
            "text/plain": [
              "1.0"
            ]
          },
          "execution_count": 19,
          "metadata": {
          },
          "output_type": "execute_result"
        }
      ],
      "source": [
        "numpy.sin( numpy.pi/2 )"
      ]
    },
    {
      "cell_type": "markdown",
      "metadata": {
      },
      "source": [
        "Wir müssen `numpy.` vor jedem numpy-Befehl, damit er weiß, wie er diesen in `numpy` definierten Befehl findet. Um das Schreiben zu sparen, ist es üblich, zu verwenden"
      ]
    },
    {
      "cell_type": "code",
      "execution_count": 20,
      "metadata": {
      },
      "outputs": [
        {
          "data": {
            "text/plain": [
              "1.0"
            ]
          },
          "execution_count": 20,
          "metadata": {
          },
          "output_type": "execute_result"
        }
      ],
      "source": [
        "import numpy as np\n",
        "\n",
        "np.sin( np.pi/2 )"
      ]
    },
    {
      "cell_type": "markdown",
      "metadata": {
      },
      "source": [
        "Dann brauchen Sie nur noch den abgekürzten Namen. Die meisten Leute verwenden `np` , aber Sie können wählen, was Ihnen gefällt.\n",
        "\n",
        "Sie können auch alles direkt aus `numpy` mit ziehen"
      ]
    },
    {
      "cell_type": "code",
      "execution_count": 21,
      "metadata": {
      },
      "outputs": [

      ],
      "source": [
        "from numpy import *"
      ]
    },
    {
      "cell_type": "markdown",
      "metadata": {
      },
      "source": [
        "Dann können Sie die Befehle direkt verwenden. Dies kann jedoch dazu führen, dass Pakete miteinander durcheinander geraten, also seien Sie vorsichtig."
      ]
    },
    {
      "cell_type": "code",
      "execution_count": 22,
      "metadata": {
      },
      "outputs": [
        {
          "data": {
            "text/plain": [
              "1.0"
            ]
          },
          "execution_count": 22,
          "metadata": {
          },
          "output_type": "execute_result"
        }
      ],
      "source": [
        "sin( pi/2 )"
      ]
    },
    {
      "cell_type": "markdown",
      "metadata": {
      },
      "source": [
        "Wenn Sie Trigonometrie, lineare Algebra usw. durchführen möchten, können Sie `numpy` verwenden. Verwenden Sie zum Plotten `matplotlib` . Verwenden Sie für die Graphentheorie `networkx` . Verwenden Sie für Quantencomputing `qiskit` . Für alles, was Sie wollen, wird es wahrscheinlich ein Paket geben, das Ihnen dabei hilft."
      ]
    },
    {
      "cell_type": "markdown",
      "metadata": {
      },
      "source": [
        "Eine gute Sache, die man in jeder Sprache wissen sollte, ist, wie man eine Funktion erstellt.\n",
        "\n",
        "Hier ist eine Funktion, deren Name `do_some_maths` gewählt wurde, deren Eingaben `Input1` und `Input2` heißen und deren Ausgabe `the_answer` ."
      ]
    },
    {
      "cell_type": "code",
      "execution_count": 23,
      "metadata": {
      },
      "outputs": [

      ],
      "source": [
        "def do_some_maths ( Input1, Input2 ):\n",
        "    the_answer = Input1 + Input2\n",
        "    return the_answer"
      ]
    },
    {
      "cell_type": "markdown",
      "metadata": {
      },
      "source": [
        "Es wird wie folgt verwendet"
      ]
    },
    {
      "cell_type": "code",
      "execution_count": 24,
      "metadata": {
      },
      "outputs": [
        {
          "name": "stdout",
          "output_type": "stream",
          "text": [
            "73\n"
          ]
        }
      ],
      "source": [
        "x = do_some_maths(1,72)\n",
        "print(x)"
      ]
    },
    {
      "cell_type": "markdown",
      "metadata": {
      },
      "source": [
        "Wenn Sie einer Funktion ein Objekt zuweisen und die Funktion eine Methode dieses Objekts aufruft, um seinen Zustand zu ändern, bleibt der Effekt bestehen. Wenn das alles ist, was Sie tun möchten, müssen Sie nichts `return` . Lassen Sie uns das zum Beispiel mit der `append` -Methode einer Liste machen."
      ]
    },
    {
      "cell_type": "code",
      "execution_count": 25,
      "metadata": {
      },
      "outputs": [

      ],
      "source": [
        "def add_sausages ( input_list ):\n",
        "    if 'sausages' not in input_list:\n",
        "        input_list.append('sausages')"
      ]
    },
    {
      "cell_type": "code",
      "execution_count": 26,
      "metadata": {
      },
      "outputs": [
        {
          "name": "stdout",
          "output_type": "stream",
          "text": [
            "List before the function\n",
            "[42, 0.5, True, [0, 1], None, 'apple', 3.14]\n",
            "\n",
            "List after the function\n",
            "[42, 0.5, True, [0, 1], None, 'apple', 3.14, 'sausages']\n"
          ]
        }
      ],
      "source": [
        "print('List before the function')\n",
        "print(a_list)\n",
        "\n",
        "add_sausages(a_list) # function called without an output\n",
        "\n",
        "print('\\nList after the function')\n",
        "print(a_list)"
      ]
    },
    {
      "cell_type": "markdown",
      "metadata": {
      },
      "source": [
        "Randomness kann mit dem `random` -Paket generiert werden."
      ]
    },
    {
      "cell_type": "code",
      "execution_count": 27,
      "metadata": {
      },
      "outputs": [

      ],
      "source": [
        "import random"
      ]
    },
    {
      "cell_type": "code",
      "execution_count": 28,
      "metadata": {
      },
      "outputs": [
        {
          "name": "stdout",
          "output_type": "stream",
          "text": [
            "* Results from sample 1\n",
            "\n",
            "    Random number from 0 to 1: 0.9565207808448243\n",
            "\n",
            "    Random choice from our list: 3.14\n",
            "\n",
            "\n",
            "* Results from sample 2\n",
            "\n",
            "    Random number from 0 to 1: 0.2965136670559021\n",
            "\n",
            "    Random choice from our list: sausages\n",
            "\n",
            "\n",
            "* Results from sample 3\n",
            "\n",
            "    Random number from 0 to 1: 0.5742595097667611\n",
            "\n",
            "    Random choice from our list: 3.14\n",
            "\n",
            "\n",
            "* Results from sample 4\n",
            "\n",
            "    Random number from 0 to 1: 0.8530438802121619\n",
            "\n",
            "    Random choice from our list: True\n",
            "\n",
            "\n",
            "* Results from sample 5\n",
            "\n",
            "    Random number from 0 to 1: 0.1329354419675386\n",
            "\n",
            "    Random choice from our list: None\n",
            "\n",
            "\n"
          ]
        }
      ],
      "source": [
        "for j in range(5):\n",
        "    print('* Results from sample',j+1)\n",
        "    print('\\n    Random number from 0 to 1:', random.random() )\n",
        "    print(\"\\n    Random choice from our list:\", random.choice( a_list ) )\n",
        "    print('\\n')"
      ]
    },
    {
      "cell_type": "markdown",
      "metadata": {
      },
      "source": [
        "Dies sind die Grundlagen. Jetzt brauchen Sie nur noch eine Suchmaschine und die Intuition zu wissen, wem es sich lohnt, auf Stack Exchange zu hören. Dann können Sie mit Python alles machen. Ihr Code ist vielleicht nicht der 'pythonischste', aber nur Pythonistas interessieren sich wirklich dafür."
      ]
    }
  ],
  "metadata": {
    "kernelspec": {
      "display_name": "Python 3",
      "language": "python",
      "name": "python3"
    },
    "language_info": {
      "codemirror_mode": {
        "name": "ipython",
        "version": 3
      },
      "file_extension": ".py",
      "mimetype": "text/x-python",
      "name": "python",
      "nbconvert_exporter": "python",
      "pygments_lexer": "ipython3",
      "version": "3.9"
    }
  },
  "nbformat": 4,
  "nbformat_minor": 2
}
