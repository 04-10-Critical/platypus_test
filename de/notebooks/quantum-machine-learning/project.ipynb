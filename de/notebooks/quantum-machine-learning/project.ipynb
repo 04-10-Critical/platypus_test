{
  "cells": [
    {
      "cell_type": "markdown",
      "metadata": {
      },
      "source": [
        "# Projekt"
      ]
    },
    {
      "cell_type": "markdown",
      "metadata": {
        "gloss": {
          "git": {
            "text": "Git is a program you can use to track changes to computer files. Git tracks the entire state of a folder (known as a Git repository).",
            "title": "Git"
          },
          "github": {
            "text": "Github is a website you can use to host your project. Similar to video / image sharing websites, but aimed at software developers. As well as hosting software, Github also makes it easy to display your project and collaborate with others.",
            "title": "GitHub"
          },
          "slack": {
            "text": "Slack is a messaging app.",
            "title": "Slack"
          }
        }
      },
      "source": [
        "## Herzliche Glückwünsche!\n",
        "\n",
        "![Herzliche Glückwünsche](images/project/congrats.png)\n",
        "\n",
        "Sie haben den gelehrten Teil dieses Kurses abgeschlossen.\n",
        "\n",
        "## Abschluss eines geführten Projekts\n",
        "\n",
        "Hoffentlich hat es Ihnen Spaß gemacht, etwas über Quantencomputing zu lernen. Wenn ja, empfehlen wir Ihnen jetzt, ein Projekt auszuprobieren. In Ihrem Projekt wählen Sie einen Bereich aus, auf den Sie gestoßen sind und den Sie interessant finden, und untersuchen ihn. Die endgültige Form Ihres Projekts kann alles sein, was Sie wählen, von einem Blogbeitrag, der eine Untersuchung erläutert, bis hin zur Verbesserung von Qiskit selbst.\n",
        "\n",
        "### Step 1: Connect to the community\n",
        "\n",
        "Wenn Sie noch nicht beigetreten sind, ist der Qiskit [Slack](gloss:slack) -Workspace ein großartiger Ort, um Fragen zu stellen und Unterstützung zu erhalten. Die Entwickler von Qiskit und dieses Online-Lehrbuchs hängen dort herum, sowie viele Studenten und Enthusiasten. Sie können über [diesen Link](https://ibm.co/joinqiskitslack) beitreten und sich im Kanal [`#textbook-projects`](https://qiskit.slack.com/archives/C028AGU6KDX) vorstellen.\n",
        "\n",
        "### Step 2: Get started with GitHub\n",
        "\n",
        "Mit [GitHub](gloss:github) können Sie:\n",
        "\n",
        "- Zeigen Sie Code an, den Sie geschrieben haben.\n",
        "- Erstellen Sie mithilfe von [GitHub-Seiten](https://pages.github.com/) Ihre eigene Webseite (z. B. für einen Blog oder eine Online-Demo).\n",
        "- [Verzweigen Sie Qiskit](https://github.com/Qiskit/qiskit-terra) und beginnen Sie mit der Arbeit an einem Problem.\n",
        "\n",
        "[Git](gloss:git) und GitHub sind großartige Tools, aber sie enthalten auch einiges an Fachjargon. Wir fügen QuickInfos für einige dieser Begriffe hinzu, wenn wir darauf stoßen.\n",
        "\n",
        "You can follow GitHub's quickstart guide [here](https://docs.github.com/en/get-started/quickstart)."
      ]
    },
    {
      "cell_type": "markdown",
      "metadata": {
      },
      "source": [
        "### Schritt 3: Entscheiden Sie sich für ein Projekt\n",
        "\n",
        "Ihr Projekt kann alles sein, was Sie wollen. Sie können Ihre Ideen im Slack-Channel [`#textbook-projects`](https://qiskit.slack.com/archives/C028AGU6KDX) veröffentlichen, um Ratschläge von Mentoren zu erhalten und andere Personen zu finden, mit denen Sie zusammenarbeiten können.\n",
        "\n",
        "Nachfolgend finden Sie einige Ideen, um Ihrer Fantasie freien Lauf zu lassen. Jeder Satz von Aufzählungspunkten ist grob von einfacheren zu schwierigeren Projekten geordnet. Sie können eine dieser Ideen verwenden, sie anpassen oder etwas ganz anderes machen!\n",
        "\n",
        "<!-- ::: q-block.tabs -->\n",
        "\n",
        "## Projektideen\n",
        "\n",
        "<!-- ::: tab -->\n",
        "\n",
        "### Leichtere Projekte\n",
        "\n",
        "Wenn Sie gerne schreiben, können Sie:\n",
        "\n",
        "- Schreiben Sie einen Blogbeitrag, in dem Sie erklären, was Sie gelernt haben und wie die Erfahrung war.\n",
        "- Schreiben Sie einen Blogbeitrag, in dem Sie die vermuteten Vorteile des Quantenmaschinenlernens gegenüber dem klassischen maschinellen Lernen erläutern. Sie könnten es auf einen Laien, einen klassischen Entwickler oder einen Quanteninformatiker (oder jeden anderen) richten. Was sind die vielversprechendsten Bereiche? Wo liegen die aktuellen Herausforderungen?\n",
        "\n",
        "<!-- ::: tab -->\n",
        "\n",
        "### Implementierungen\n",
        "\n",
        "Sie können versuchen, etwas aus diesem Kurs oder etwas aus einer anderen Ressource zu implementieren oder anzupassen. Einige Ideen sind:\n",
        "\n",
        "- Auf der QGAN-Seite verwenden wir QGAN, um mehrere angegebene Verteilungen zu approximieren. Erstellen Sie eine verallgemeinerte Python-Funktion, die eine beliebige Zielverteilung als Eingabe verwendet und eine Schaltung ausgibt, die sich dieser Verteilung annähert.\n",
        "\n",
        "- Ausgehend von den beliebtesten klassischen Datensätzen wie den:\n",
        "\n",
        "    - [Iris-Datensatz](https://scikit-learn.org/stable/auto_examples/datasets/plot_iris_dataset.html)\n",
        "    - [Wein-Datensatz](https://archive.ics.uci.edu/ml/datasets/wine)\n",
        "    - [MNIST-Datensatz](http://yann.lecun.com/exdb/mnist/)\n",
        "    - [CIFAR 10-Datensatz](https://www.cs.toronto.edu/~kriz/cifar.html)\n",
        "\n",
        "    Diskutieren Sie die Vor- und Nachteile verschiedener Codierungs- und Optimierungstechniken.\n",
        "\n",
        "- Implementieren Sie einen Klassifizierer für das erneute Hochladen von Daten für (jeden) Datensatz (sehen Sie sich [dieses Papier](https://quantum-journal.org/papers/q-2020-02-06-226/pdf/) und [dieses Papier](https://journals.aps.org/pra/pdf/10.1103/PhysRevA.104.012405) an, um sich inspirieren zu lassen).\n",
        "\n",
        "<!-- ::: tab -->\n",
        "\n",
        "### Untersuchungen\n",
        "\n",
        "Sie könnten einen technischen Bereich des Quantenmaschinenlernens untersuchen und Ihre Ergebnisse aufschreiben. Sie könnten zum Beispiel:\n",
        "\n",
        "- Benchmarken Sie jeden Ansatz (z. B. `ZZFeatureMap` , `TwoLocal` ) und schlagen Sie für jede Aufgabe einen mit den niedrigsten Kosten vor.\n",
        "- Analysieren Sie einige klassische maschinelle Lernmethoden und finden Sie Orte, die von der Verwendung von Quantenschaltkreisen profitieren könnten.\n",
        "- Lesen Sie [dieses Papier über Variationsquantengeneratoren](https://arxiv.org/abs/1901.00848) . Versuchen Sie, ein QGAN zu erweitern, um eine bestimmte kontinuierliche Verteilung zu lernen (z. B. eine kontinuierliche 4Q-Gaußsche Verteilung).\n",
        "- Lesen Sie [dieses Papier über Ansatz-Ausdrückbarkeit, Gradientengrößen und unfruchtbare Plateaus](https://arxiv.org/pdf/2101.02138.pdf) . Schreiben Sie über den Zusammenhang zwischen Ausdrucksfähigkeit und unfruchtbaren Plateaus oder bewerten Sie ihn empirisch.\n",
        "- Untersuchen Sie andere Datencodierungsschemata und die Auswirkungen, die sie auf die Schaltung haben (siehe [dieses Dokument](https://arxiv.org/pdf/2102.04032.pdf) ).\n",
        "- Untersuchen Sie, wie die in diesem Kurs verwendeten Techniken auf Quantendatensätze (z. B. [dieser Datensatz](https://arxiv.org/pdf/2109.03400.pdf) und [dieser Datensatz](https://arxiv.org/pdf/2108.06661.pdf) ) angewendet werden könnten. Was sind die Vorteile und/oder Einschränkungen?\n",
        "\n",
        "<!-- ::: -->\n",
        "\n",
        "<!-- ::: -->"
      ]
    },
    {
      "cell_type": "markdown",
      "metadata": {
      },
      "source": [
        "### Schritt 4: Viel Spaß!\n",
        "\n",
        "Beginnen Sie, auf Ihr Ziel hinzuarbeiten. Wenn Sie Ihr Projekt zu schwierig finden, nicht weiterkommen oder sich einfach langweilen, fragen Sie im Kanal [`#textbook-projects`](https://qiskit.slack.com/archives/C028AGU6KDX) um Hilfe. Die Mentoren können Sie entweder in die richtige Richtung weisen oder Ihnen helfen, die Ziele Ihres Projekts anzupassen.\n",
        "\n",
        "### Schritt 5: Teilen Sie Ihre Arbeit\n",
        "\n",
        "Nachdem Sie Zeit und Mühe investiert haben, teilen Sie Ihre Arbeit mit anderen auf dem [`#textbook-projects`](https://qiskit.slack.com/archives/C028AGU6KDX) Kanal. Wenn Sie Ihr GitHub-Profil und Ihre GitHub-Seiten-Webseite pflegen, können Sie damit Ihr Wissen und Ihre Erfahrung gegenüber anderen nachweisen (z. B. in Bewerbungen oder Vorstellungsgesprächen)."
      ]
    }
  ],
  "metadata": {
    "kernelspec": {
      "display_name": "Python 3",
      "language": "python",
      "name": "python3"
    },
    "language_info": {
      "codemirror_mode": {
        "name": "ipython",
        "version": 3
      },
      "file_extension": ".py",
      "mimetype": "text/x-python",
      "name": "python",
      "nbconvert_exporter": "python",
      "pygments_lexer": "ipython3",
      "version": "3.9"
    }
  },
  "nbformat": 4,
  "nbformat_minor": 4
}
